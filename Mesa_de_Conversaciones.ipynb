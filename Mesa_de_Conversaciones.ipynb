{
 "cells": [
  {
   "cell_type": "code",
   "execution_count": 64,
   "metadata": {},
   "outputs": [],
   "source": [
    "import os\n",
    "import csv\n",
    "import matplotlib\n",
    "import pandas as pd\n",
    "import matplotlib.pyplot as plt\n",
    "import datetime\n",
    "%matplotlib inline\n",
    "matplotlib.rcParams['figure.figsize'] = (12.0, 4.0)\n",
    "import glob"
   ]
  },
  {
   "cell_type": "markdown",
   "metadata": {},
   "source": [
    "## Parsing Data"
   ]
  },
  {
   "cell_type": "code",
   "execution_count": 48,
   "metadata": {
    "collapsed": true
   },
   "outputs": [],
   "source": [
    "categories = {}\n",
    "categories['af'] = 'Acuerdo Final'\n",
    "categories['ch'] = 'Comisión Histórica del Conflicto y sus Víctimas'\n",
    "categories['docs'] = 'Documentos'"
   ]
  },
  {
   "cell_type": "code",
   "execution_count": 40,
   "metadata": {
    "collapsed": true
   },
   "outputs": [],
   "source": [
    "out_file = 'data/mesa_files_original.csv'\n",
    "row = ['ID', 'path', 'category', 'sub-category', 'date', 'filename']\n",
    "hdocs = []\n",
    "idDoc = -1\n",
    "for  files in os.walk('data/mesa'):        \n",
    "    if files[2]:\n",
    "        for filename in files[2]:\n",
    "            idDoc = idDoc + 1\n",
    "            path = files[0]            \n",
    "            key = path[10:]\n",
    "            cat = categories[key if key.find('/') is -1 else key[:key.find('/')]]\n",
    "            subCat = '' if key.find('/') is -1 else key[key.find('/') + 1:]\n",
    "            date = None\n",
    "            doc = [idDoc, path, cat, subCat, date, filename]\n",
    "            hdocs.append(doc)\n",
    "            \n",
    "with open(out_file, 'w') as myfile:\n",
    "    wr = csv.writer(myfile, quoting=csv.QUOTE_ALL)\n",
    "    wr.writerow(row)\n",
    "    wr.writerows(hdocs)"
   ]
  },
  {
   "cell_type": "markdown",
   "metadata": {},
   "source": [
    "## Cantidad de documentos"
   ]
  },
  {
   "cell_type": "code",
   "execution_count": 49,
   "metadata": {
    "collapsed": true
   },
   "outputs": [],
   "source": [
    "df = pd.read_csv('data/mesa_files.csv')\n",
    "df.columns = ['ID', 'path', 'category', 'sub_cat', 'date', 'filename']"
   ]
  },
  {
   "cell_type": "code",
   "execution_count": 50,
   "metadata": {},
   "outputs": [
    {
     "data": {
      "text/plain": [
       "138"
      ]
     },
     "execution_count": 50,
     "metadata": {},
     "output_type": "execute_result"
    }
   ],
   "source": [
    "df['ID'].count()"
   ]
  },
  {
   "cell_type": "markdown",
   "metadata": {},
   "source": [
    "# Frecuencia "
   ]
  },
  {
   "cell_type": "markdown",
   "metadata": {},
   "source": [
    "## Cantidad de documentos emitidos por Año"
   ]
  },
  {
   "cell_type": "code",
   "execution_count": 51,
   "metadata": {},
   "outputs": [
    {
     "data": {
      "text/html": [
       "<div>\n",
       "<style>\n",
       "    .dataframe thead tr:only-child th {\n",
       "        text-align: right;\n",
       "    }\n",
       "\n",
       "    .dataframe thead th {\n",
       "        text-align: left;\n",
       "    }\n",
       "\n",
       "    .dataframe tbody tr th {\n",
       "        vertical-align: top;\n",
       "    }\n",
       "</style>\n",
       "<table border=\"1\" class=\"dataframe\">\n",
       "  <thead>\n",
       "    <tr style=\"text-align: right;\">\n",
       "      <th></th>\n",
       "      <th>Cantidad</th>\n",
       "    </tr>\n",
       "    <tr>\n",
       "      <th>date</th>\n",
       "      <th></th>\n",
       "    </tr>\n",
       "  </thead>\n",
       "  <tbody>\n",
       "    <tr>\n",
       "      <th>2012.0</th>\n",
       "      <td>7</td>\n",
       "    </tr>\n",
       "    <tr>\n",
       "      <th>2013.0</th>\n",
       "      <td>25</td>\n",
       "    </tr>\n",
       "    <tr>\n",
       "      <th>2014.0</th>\n",
       "      <td>20</td>\n",
       "    </tr>\n",
       "    <tr>\n",
       "      <th>2015.0</th>\n",
       "      <td>19</td>\n",
       "    </tr>\n",
       "    <tr>\n",
       "      <th>2016.0</th>\n",
       "      <td>55</td>\n",
       "    </tr>\n",
       "  </tbody>\n",
       "</table>\n",
       "</div>"
      ],
      "text/plain": [
       "        Cantidad\n",
       "date            \n",
       "2012.0         7\n",
       "2013.0        25\n",
       "2014.0        20\n",
       "2015.0        19\n",
       "2016.0        55"
      ]
     },
     "execution_count": 51,
     "metadata": {},
     "output_type": "execute_result"
    }
   ],
   "source": [
    "df['date'] = pd.to_datetime(df['date']);\n",
    "dftime = df.groupby([df['date'].dt.year]).agg({'ID':'count'})\n",
    "dftime.columns = ['Cantidad']\n",
    "dftime"
   ]
  },
  {
   "cell_type": "code",
   "execution_count": 52,
   "metadata": {},
   "outputs": [
    {
     "data": {
      "text/plain": [
       "<matplotlib.axes._subplots.AxesSubplot at 0x7f9278d7d940>"
      ]
     },
     "execution_count": 52,
     "metadata": {},
     "output_type": "execute_result"
    },
    {
     "data": {
      "image/png": "[encoded data removed]",
      "text/plain": [
       "<matplotlib.figure.Figure at 0x7f9279039a90>"
      ]
     },
     "metadata": {},
     "output_type": "display_data"
    }
   ],
   "source": [
    "dftime.plot(kind=\"bar\", rot=0)"
   ]
  },
  {
   "cell_type": "markdown",
   "metadata": {},
   "source": [
    "## Documentos por Fecha de emisión"
   ]
  },
  {
   "cell_type": "code",
   "execution_count": null,
   "metadata": {
    "collapsed": true
   },
   "outputs": [],
   "source": [
    "dftime2 = df.groupby(df['date']).agg({'ID':'count'})\n",
    "dftime2.columns = ['Cantidad']\n",
    "dftime2"
   ]
  },
  {
   "cell_type": "code",
   "execution_count": null,
   "metadata": {
    "collapsed": true
   },
   "outputs": [],
   "source": []
  },
  {
   "cell_type": "markdown",
   "metadata": {},
   "source": [
    "## Cantidad de documentos por Categoría"
   ]
  },
  {
   "cell_type": "code",
   "execution_count": 53,
   "metadata": {},
   "outputs": [
    {
     "data": {
      "text/html": [
       "<div>\n",
       "<style>\n",
       "    .dataframe thead tr:only-child th {\n",
       "        text-align: right;\n",
       "    }\n",
       "\n",
       "    .dataframe thead th {\n",
       "        text-align: left;\n",
       "    }\n",
       "\n",
       "    .dataframe tbody tr th {\n",
       "        vertical-align: top;\n",
       "    }\n",
       "</style>\n",
       "<table border=\"1\" class=\"dataframe\">\n",
       "  <thead>\n",
       "    <tr style=\"text-align: right;\">\n",
       "      <th></th>\n",
       "      <th>Categoría</th>\n",
       "      <th>Sub-categoría</th>\n",
       "      <th>Cantidad</th>\n",
       "    </tr>\n",
       "  </thead>\n",
       "  <tbody>\n",
       "    <tr>\n",
       "      <th>0</th>\n",
       "      <td>Acuerdo Final</td>\n",
       "      <td>Acuerdo Final</td>\n",
       "      <td>1</td>\n",
       "    </tr>\n",
       "    <tr>\n",
       "      <th>1</th>\n",
       "      <td>Comisión Histórica del Conflicto y sus Víctimas</td>\n",
       "      <td>Relatorias</td>\n",
       "      <td>2</td>\n",
       "    </tr>\n",
       "    <tr>\n",
       "      <th>2</th>\n",
       "      <td>Documentos</td>\n",
       "      <td>Informes</td>\n",
       "      <td>5</td>\n",
       "    </tr>\n",
       "    <tr>\n",
       "      <th>3</th>\n",
       "      <td>Comisión Histórica del Conflicto y sus Víctimas</td>\n",
       "      <td>Informes</td>\n",
       "      <td>10</td>\n",
       "    </tr>\n",
       "    <tr>\n",
       "      <th>4</th>\n",
       "      <td>Documentos</td>\n",
       "      <td>Borradores</td>\n",
       "      <td>13</td>\n",
       "    </tr>\n",
       "    <tr>\n",
       "      <th>5</th>\n",
       "      <td>Documentos</td>\n",
       "      <td>Comunicados</td>\n",
       "      <td>107</td>\n",
       "    </tr>\n",
       "  </tbody>\n",
       "</table>\n",
       "</div>"
      ],
      "text/plain": [
       "                                         Categoría  Sub-categoría  Cantidad\n",
       "0                                    Acuerdo Final  Acuerdo Final         1\n",
       "1  Comisión Histórica del Conflicto y sus Víctimas     Relatorias         2\n",
       "2                                       Documentos       Informes         5\n",
       "3  Comisión Histórica del Conflicto y sus Víctimas       Informes        10\n",
       "4                                       Documentos     Borradores        13\n",
       "5                                       Documentos    Comunicados       107"
      ]
     },
     "execution_count": 53,
     "metadata": {},
     "output_type": "execute_result"
    }
   ],
   "source": [
    "dfCat = df.groupby([df['category'], df['sub_cat']]).agg({'ID':'count'}).sort_values('ID').reset_index()\n",
    "dfCat.columns = [\"Categoría\", \"Sub-categoría\", \"Cantidad\"]\n",
    "dfCat"
   ]
  },
  {
   "cell_type": "markdown",
   "metadata": {},
   "source": [
    "# Natural Language Processing"
   ]
  },
  {
   "cell_type": "code",
   "execution_count": 287,
   "metadata": {
    "collapsed": true
   },
   "outputs": [],
   "source": [
    "stop_words_spanish = ['un', 'una', 'unas', 'unos', 'uno', 'sobre', 'todo', 'también', 'tras', 'otro', 'algún', 'alguno', 'alguna', 'algunos', 'algunas', 'ser', 'es', 'soy', 'eres', 'somos', 'sois', 'estoy', 'esta', 'estamos', 'estais', 'estan', 'como', 'en', 'para', 'atras', 'porque', 'por qué', 'estado', 'estaba', 'ante', 'antes', 'siendo', 'ambos', 'pero', 'por', 'poder', 'puede', 'puedo', 'podemos', 'podeis', 'pueden', 'fui', 'fue', 'fuimos', 'fueron', 'hacer', 'hago', 'hace', 'hacemos', 'haceis', 'hacen', 'cada', 'fin', 'incluso', 'primero', 'desde', 'conseguir', 'consigo', 'consigue', 'consigues', 'conseguimos', 'consiguen', 'ir', 'voy', 'va', 'vamos', 'vais', 'van', 'vaya', 'gueno', 'ha', 'tener', 'tengo', 'tiene', 'tenemos', 'teneis', 'tienen', 'el', 'la', 'lo', 'las', 'los', 'su', 'aqui', 'mio', 'tuyo', 'ellos', 'ellas', 'nos', 'nosotros', 'vosotros', 'vosotras', 'si', 'dentro', 'solo', 'solamente', 'saber', 'sabes', 'sabe', 'sabemos', 'sabeis', 'saben', 'ultimo', 'largo', 'bastante', 'haces', 'muchos', 'aquellos', 'aquellas', 'sus', 'entonces', 'tiempo', 'verdad', 'verdadero', 'verdadera', 'cierto', 'ciertos', 'cierta', 'ciertas', 'intentar', 'intento', 'intenta', 'intentas', 'intentamos', 'intentais', 'intentan', 'dos', 'bajo', 'arriba', 'encima', 'usar', 'uso', 'usas', 'usa', 'usamos', 'usais', 'usan', 'emplear', 'empleo', 'empleas', 'emplean', 'ampleamos', 'empleais', 'valor', 'muy', 'era', 'eras', 'eramos', 'eran', 'modo', 'bien', 'cual', 'cuando', 'donde', 'mientras', 'quien', 'con', 'entre', 'sin', 'trabajo', 'trabajar', 'trabajas', 'trabaja', 'trabajamos', 'trabajais', 'trabajan', 'podria', 'podrias', 'podriamos', 'podrian', 'podriais', 'yo', 'aquel', 'a', 'en', 'de', 'para', 'por', 'según', 'sin', 'sobre', 'tras', 'bajo', 'contra', 'hacia', 'hasta', 'rt', 'que', 'se', 'no', 'del', 'al', 'http', 'https', 'y', 'más', 'todos', 'año', 'será', 'este', 'vía', 'les', 'ni', 'dice', 'le', 'está', 'qué', 'hay', 'htt', 'quiere', 'nuestra', 'sí', 'of', 'in', 'años', 'firma' , 'firman', 'nuevo', 'hoy', 'ayer', 'inicio', 'ya', 'histórico', 'día','son', 'final', 'and', 'with', 'you', 'mundo', 'gran', 'sol', 'recibe', 'millones',  'gracias', 'hermana', 'fuego', 'me', 'eso',  'we', 'after', 'camino', 'dijo', 'caminos', 'recibirá', 'entiendo', 'mejores', 'mejor', 'deseos', 'lleve', 'nuevamente', 'ahora', 'definitiva', 'ese', 'definitivo', 'han', 'sino', 'tal', 'mismos', 'estos', 'así', 'ver', 'esto', 'esta']"
   ]
  },
  {
   "cell_type": "code",
   "execution_count": 133,
   "metadata": {
    "collapsed": true
   },
   "outputs": [],
   "source": [
    "from __future__ import print_function\n",
    "from time import time\n",
    "\n",
    "from sklearn.feature_extraction.text import TfidfVectorizer, CountVectorizer\n",
    "from sklearn.decomposition import NMF, LatentDirichletAllocation\n",
    "\n",
    "n_top_words = 20\n",
    "n_samples = 2000\n",
    "n_features = 1000\n",
    "n_topics = 5\n",
    "n_top_words = 10\n",
    "\n",
    "def print_top_words(model, feature_names, n_top_words):\n",
    "    for topic_idx, topic in enumerate(model.components_):\n",
    "        print(\"Topic #%d: \" % topic_idx,  \" \".join([feature_names[i]\n",
    "                        for i in topic.argsort()[:-n_top_words - 1:-1]]))\n",
    "    print()"
   ]
  },
  {
   "cell_type": "code",
   "execution_count": 154,
   "metadata": {},
   "outputs": [],
   "source": [
    "from nltk import ngrams\n",
    "import operator\n",
    "from itertools import islice\n",
    "import string \n",
    "from tabulate import tabulate\n",
    "\n",
    "def stopWordsInGrams(grams):    \n",
    "    count = 0\n",
    "    for w in grams:\n",
    "        if w in stop_words_spanish:\n",
    "            count = count + 1                \n",
    "    return count/len(grams)  \n",
    "\n",
    "def isNumber(s):\n",
    "    try: \n",
    "        int(s)\n",
    "        float(s)\n",
    "        return True\n",
    "    except ValueError:\n",
    "        return False\n",
    "\n",
    "def getNGram(text, n, stop_words, m):\n",
    "    ngramas = ngrams(text.split(), n)\n",
    "    h_dict = {}   \n",
    "    for grams in ngramas:\n",
    "        if stopWordsInGrams(grams) > 0.34:\n",
    "            continue\n",
    "        words = ' '.join(grams)        \n",
    "        words = words.lower() \n",
    "        words = ''.join(e for e in words if e.isalnum() or e == ' ')    \n",
    "        words = words.strip()  \n",
    "        if  words in stop_words or words in punct_signs or words == '' or words in abc or isNumber(words) or 'rt' in words or 'http' in words or 'https' in words or len(words.split(' ')) != n:\n",
    "             continue\n",
    "        if words in h_dict:\n",
    "            h_dict[words] = h_dict[words] + 1\n",
    "        else: \n",
    "            h_dict[words] = 1 \n",
    "    sorted_dict = sorted(h_dict.items(), key=operator.itemgetter(1), reverse=True)\n",
    "    return list(islice(sorted_dict, m))\n",
    "\n",
    "def fetch_files_from(path):\n",
    "    files = []    \n",
    "    for filename in glob.glob(os.path.join(path, '*.txt')):\n",
    "        with open(filename) as f:\n",
    "            files.append(f.read())\n",
    "    return files"
   ]
  },
  {
   "cell_type": "code",
   "execution_count": 137,
   "metadata": {
    "collapsed": true
   },
   "outputs": [],
   "source": [
    "def printTopicsLDAbyCat(dataset):\n",
    "    data_samples = dataset[:n_samples]        \n",
    "\n",
    "    tfidf_vectorizer = TfidfVectorizer(max_df=0.95, min_df=1,\n",
    "                                           max_features=n_features,\n",
    "                                           stop_words=stop_words_spanish)\n",
    "\n",
    "    tfidf = tfidf_vectorizer.fit_transform(data_samples)\n",
    "    tf_vectorizer = CountVectorizer(max_df=0.95, min_df=1,\n",
    "                                    max_features=n_features,\n",
    "                                    stop_words=stop_words_spanish)\n",
    "\n",
    "    tf = tf_vectorizer.fit_transform(data_samples)\n",
    "\n",
    "    lda = LatentDirichletAllocation(n_topics=n_topics, max_iter=5,\n",
    "                                    learning_method='online',\n",
    "                                    learning_offset=50.,\n",
    "                                    random_state=0)\n",
    "\n",
    "    lda.fit(tf)\n",
    "    tf_feature_names = tf_vectorizer.get_feature_names()\n",
    "    print_top_words(lda, tf_feature_names, n_top_words)"
   ]
  },
  {
   "cell_type": "markdown",
   "metadata": {},
   "source": [
    "## Topics por Categoría  LDA from Scikit"
   ]
  },
  {
   "cell_type": "code",
   "execution_count": 138,
   "metadata": {},
   "outputs": [
    {
     "name": "stdout",
     "output_type": "stream",
     "text": [
      "Documentos -- /Informes \n",
      "\n",
      "Topic #0:  guerra bogotá violencia social político país frente estados grupos guerrillas\n",
      "Topic #1:  promover garantías social comunidades rural seguridad fortalecer oposición acordado campo\n",
      "Topic #2:  guerra bogotá violencia social país político estados guerrillas unidos militar\n",
      "Topic #3:  social guerra violencia bogotá frente país seguridad militar orden unidos\n",
      "Topic #4:  violencia guerra bogotá social país estados frente armado guerrillas unidos\n",
      "\n",
      "Documentos -- /Comunicados/2015 \n",
      "\n",
      "Topic #0:  sub comisio conflicto febrero delegaciones te cnica dejacio puntos expertos\n",
      "Topic #1:  víctimas desaparecidas dadas farc personas conflicto ubpd nacional digna información\n",
      "Topic #2:  conflicto víctimas ep farc paz nacional acuerdo especial justicia repetición\n",
      "Topic #3:  paz conflicto especial delegaciones ep nacional farc reunión comisio derechos\n",
      "Topic #4:  personas desaparecidas búsqueda ubpd restos conflicto dadas información nacional entrega\n",
      "\n",
      "Documentos -- /Comunicados/2013 \n",
      "\n",
      "Topic #0:  política acuerdo esperamos paz regiones desarrollo vida promoción curso separado\n",
      "Topic #1:  participación hemos países protección prevención ciudadana poner primer celeridad quieren\n",
      "Topic #2:  participación acuerdo punto política países propuestas paz ciclo general mesa\n",
      "Topic #3:  participación política acuerdo paz garantías movimientos sociales organizaciones punto ciudadana\n",
      "Topic #4:  punto acceso nacional quienes organizaciones política representantes colombianos desarrollo propuestas\n",
      "\n",
      "Documentos -- /Comunicados/2014 \n",
      "\n",
      "Topic #0:  víctimas comisión conflicto expertos participación mesa informes conversaciones testimonios punto\n",
      "Topic #1:  víctimas comisión expertos informe desarrollo relacionado conflicto mesa proceso ciclo\n",
      "Topic #2:  víctimas conflicto delegaciones punto acuerdo comisión nacional mesa derechos expertos\n",
      "Topic #3:  comunidades cultivos drogas marcha ilícitas parte contribuir sustitución ilícito compromiso\n",
      "Topic #4:  solución nacional expertos problema comunidades general agenda acuerdo conversaciones planes\n",
      "\n",
      "Documentos -- /Comunicados/2012 \n",
      "\n",
      "Topic #0:  colombia conversaciones mesa delegaciones paz acuerdo desarrollo noruega habana propuestas\n",
      "Topic #1:  debe mesadeconversaciones congreso estén formato intervención detalles espacio negociadores provenientes\n",
      "Topic #2:  medios fase puesta territorial efectuará vinculadas consultas continuaron organización información\n",
      "Topic #3:  marco 21 duradera estable acompañantes partir provenientes necesarias designarán atendió\n",
      "Topic #4:  noviembre delegados nacional acordamos mismo participación detalles continuar farc ep\n",
      "\n",
      "Documentos -- /Comunicados/2016 \n",
      "\n",
      "Topic #0:  vereda zonas san cuba mesa guaviare acuerdo representantes meta apoyo\n",
      "Topic #1:  zonas acuerdo vereda normalización armas verificación dejación puntos veredales monitoreo\n",
      "Topic #2:  acuerdo organizaciones comunidades paz indígenas proceso verificación política punto implementación\n",
      "Topic #3:  acuerdo paz derechos menores conflicto construcción especial edad general medidas\n",
      "Topic #4:  acuerdo paz especial acuerdos conflicto delegaciones construcción artículo mujeres género\n",
      "\n",
      "Documentos -- /Borradores \n",
      "\n",
      "Topic #0:  derechos reparación acuerdo víctimas justicia conflicto paz responsabilidad borrador repetición\n",
      "Topic #1:  farc ep víctimas acuerdo mm armas medidas conflicto nacional derechos\n",
      "Topic #2:  farc ep conflicto acuerdo víctimas mm derechos nacional paz gobierno\n",
      "Topic #3:  mm nacional farc acuerdo derechos componente conjunto víctimas organizaciones seguridad\n",
      "Topic #4:  mm nacional acuerdo información instancia ep farc cfhbd da gobierno\n",
      "\n",
      "Acuerdo Final --  \n",
      "\n",
      "Topic #0:  solución movimiento partidos rural respeto fortalecimiento promoción planes cultivos programa\n",
      "Topic #1:  listados renuncia persecución amnistías indultos tratamientos condicionada artículos policial militar\n",
      "Topic #2:  planes respeto territorial cultivos rural csivi colectiva proyectos enfoque ilícito\n",
      "Topic #3:  planes cultivos rural ilícito promoción enfoque sociedad fortalecimiento drogas criminales\n",
      "Topic #4:  planes rural cultivos promoción enfoque ilícito respeto proyectos sociedad drogas\n",
      "\n",
      "Comisión Histórica del Conflicto y sus Víctimas -- /Informes \n",
      "\n",
      "Topic #0:  000 movimiento policía había guerrillas conservadores sumapaz colonos bogotá tolima\n",
      "Topic #1:  unidos bogotá the pp asistencia contrainsurgencia paramilitares cia for washington\n",
      "Topic #2:  bogotá guerrillas the paramilitares clase formas clases lucha partidos ejemplo\n",
      "Topic #3:  bogotá tierra agraria the congreso 1984 conservadores pp 2012 op\n",
      "Topic #4:  unidos bogotá guerrillas paramilitares the sólo eln pp policía movimiento\n",
      "\n",
      "Comisión Histórica del Conflicto y sus Víctimas -- /Relatorias \n",
      "\n",
      "Topic #0:  vigente modernidad materia narcóticos pecaut entendimiento existente integrantes sociedades instauración\n",
      "Topic #1:  modernidad realidades hubo ensayistas prolongados vigente conquista secundaria narcóticos robo\n",
      "Topic #2:  pécaut hubo ensayistas persona torno término extorsión tarde homicidio art\n",
      "Topic #3:  orgánica habrían hubo seno esencial pecaut enrique torno existente primas\n",
      "Topic #4:  modernidad materia pecaut esencial entendimiento aparición calificada hombres integrantes especie\n",
      "\n"
     ]
    }
   ],
   "source": [
    "for cat in categories:                 \n",
    "    for  files in os.walk('data/mesa/'+ cat):     \n",
    "        if(len(files[2])>0):       \n",
    "            path = files[0]\n",
    "            print(categories[cat],'--', path.replace('data/mesa/'+ cat , '') ,'\\n')    \n",
    "            dataset = fetch_files_from(path)\n",
    "            printTopicsLDAbyCat(dataset)"
   ]
  },
  {
   "cell_type": "markdown",
   "metadata": {},
   "source": [
    "## Unigramas por Categoría"
   ]
  },
  {
   "cell_type": "code",
   "execution_count": 158,
   "metadata": {},
   "outputs": [
    {
     "name": "stdout",
     "output_type": "stream",
     "text": [
      "Documentos -- /Informes \n",
      "\n",
      "Ngram         Number\n",
      "----------  --------\n",
      "colombia        1217\n",
      "conflicto        938\n",
      "política         821\n",
      "guerra           787\n",
      "nacional         762\n",
      "bogotá           741\n",
      "violencia        740\n",
      "social           634\n",
      "sociales         494\n",
      "país             446\n",
      "gobierno         440\n",
      "estados          394\n",
      "político         385\n",
      "guerrillas       353\n",
      "frente           351\n",
      "unidos           350\n",
      "políticas        344\n",
      "políticos        331\n",
      "población        330\n",
      "sido             329\n",
      "---------------------------------\n",
      "\n",
      "Documentos -- /Comunicados/2015 \n",
      "\n",
      "Ngram            Number\n",
      "-------------  --------\n",
      "conflicto            72\n",
      "víctimas             63\n",
      "gobierno             59\n",
      "nacional             54\n",
      "farcep               52\n",
      "acuerdo              40\n",
      "paz                  40\n",
      "especial             40\n",
      "repetición           38\n",
      "personas             37\n",
      "derechos             36\n",
      "justicia             34\n",
      "delegaciones         32\n",
      "información          32\n",
      "desaparecidas        32\n",
      "medidas              32\n",
      "sistema              31\n",
      "restos               30\n",
      "integral             29\n",
      "búsqueda             28\n",
      "---------------------------------\n",
      "\n",
      "Documentos -- /Comunicados/2013 \n",
      "\n",
      "Ngram             Number\n",
      "--------------  --------\n",
      "conversaciones        61\n",
      "política              48\n",
      "acuerdo               47\n",
      "delegaciones          46\n",
      "agenda                45\n",
      "punto                 38\n",
      "paz                   35\n",
      "propuestas            32\n",
      "habana                30\n",
      "países                30\n",
      "conjunto              28\n",
      "organizaciones        28\n",
      "ciclo                 27\n",
      "nacional              25\n",
      "sociales              24\n",
      "general               24\n",
      "gobierno              23\n",
      "informan              22\n",
      "garantías             21\n",
      "comunicado            21\n",
      "---------------------------------\n",
      "\n",
      "Documentos -- /Comunicados/2014 \n",
      "\n",
      "Ngram             Number\n",
      "--------------  --------\n",
      "víctimas              94\n",
      "conflicto             64\n",
      "delegaciones          46\n",
      "acuerdo               43\n",
      "punto                 41\n",
      "nacional              41\n",
      "gobierno              40\n",
      "mesa                  37\n",
      "conversaciones        34\n",
      "derechos              34\n",
      "habana                33\n",
      "comisión              32\n",
      "ilícitas              29\n",
      "propuestas            28\n",
      "cultivos              28\n",
      "acuerdos              28\n",
      "drogas                28\n",
      "agenda                27\n",
      "problema              24\n",
      "paz                   24\n",
      "---------------------------------\n",
      "\n",
      "Documentos -- /Comunicados/2012 \n",
      "\n",
      "Ngram             Number\n",
      "--------------  --------\n",
      "conversaciones        15\n",
      "mesa                  14\n",
      "colombia              14\n",
      "delegaciones          13\n",
      "paz                   10\n",
      "gobierno              10\n",
      "agenda                 9\n",
      "acuerdo                9\n",
      "desarrollo             8\n",
      "habana                 8\n",
      "noviembre              8\n",
      "noruega                8\n",
      "cuba                   7\n",
      "propuestas             7\n",
      "conjunto               7\n",
      "agrario                7\n",
      "comunicado             7\n",
      "general                6\n",
      "diciembre              6\n",
      "integral               6\n",
      "---------------------------------\n",
      "\n",
      "Documentos -- /Comunicados/2016 \n",
      "\n",
      "Ngram             Number\n",
      "--------------  --------\n",
      "acuerdo              225\n",
      "farcep               175\n",
      "nacional             161\n",
      "gobierno             131\n",
      "paz                  129\n",
      "zonas                 72\n",
      "construcción          65\n",
      "conflicto             65\n",
      "derechos              61\n",
      "especial              60\n",
      "seguridad             59\n",
      "delegaciones          55\n",
      "conjunto              54\n",
      "verificación          52\n",
      "armas                 51\n",
      "comunicado            50\n",
      "vereda                48\n",
      "organizaciones        47\n",
      "general               46\n",
      "menores               46\n",
      "---------------------------------\n",
      "\n",
      "Documentos -- /Borradores \n",
      "\n",
      "Ngram          Number\n",
      "-----------  --------\n",
      "farcep            269\n",
      "nacional          249\n",
      "acuerdo           239\n",
      "mmv               222\n",
      "conflicto         185\n",
      "gobierno          183\n",
      "víctimas          169\n",
      "derechos          168\n",
      "paz               148\n",
      "conjunto          144\n",
      "da                136\n",
      "información       136\n",
      "zvtn              134\n",
      "seguridad         134\n",
      "borrador          133\n",
      "página            133\n",
      "medidas           130\n",
      "ptn               128\n",
      "cfhbd             127\n",
      "justicia          120\n",
      "---------------------------------\n",
      "\n",
      "Acuerdo Final --  \n",
      "\n",
      "Ngram             Number\n",
      "--------------  --------\n",
      "acuerdo             1087\n",
      "nacional             672\n",
      "farcep               595\n",
      "paz                  556\n",
      "gobierno             523\n",
      "especial             395\n",
      "derechos             385\n",
      "seguridad            361\n",
      "conflicto            350\n",
      "organizaciones       332\n",
      "página               311\n",
      "medidas              309\n",
      "implementación       299\n",
      "política             273\n",
      "jurisdicción         266\n",
      "mmv                  264\n",
      "personas             253\n",
      "comunidades          230\n",
      "información          229\n",
      "sistema              224\n",
      "---------------------------------\n",
      "\n",
      "Comisión Histórica del Conflicto y sus Víctimas -- /Informes \n",
      "\n",
      "Ngram         Number\n",
      "----------  --------\n",
      "colombia         901\n",
      "bogotá           599\n",
      "guerra           591\n",
      "política         517\n",
      "conflicto        498\n",
      "nacional         472\n",
      "violencia        470\n",
      "social           427\n",
      "estados          324\n",
      "país             307\n",
      "unidos           305\n",
      "gobierno         285\n",
      "político         279\n",
      "sociales         279\n",
      "durante          234\n",
      "frente           233\n",
      "militar          233\n",
      "farc             226\n",
      "guerrillas       225\n",
      "políticas        225\n",
      "---------------------------------\n",
      "\n",
      "Comisión Histórica del Conflicto y sus Víctimas -- /Relatorias \n",
      "\n",
      "Ngram        Number\n",
      "---------  --------\n",
      "conflicto       252\n",
      "colombia        201\n",
      "violencia       195\n",
      "nacional        174\n",
      "informe         140\n",
      "política        131\n",
      "social          125\n",
      "grupos          124\n",
      "orden           118\n",
      "armado          107\n",
      "sistema         105\n",
      "tanto            93\n",
      "frente           90\n",
      "sociales         89\n",
      "guerra           87\n",
      "sido             86\n",
      "siglo            86\n",
      "manera           85\n",
      "giraldo          85\n",
      "país             83\n",
      "---------------------------------\n",
      "\n"
     ]
    }
   ],
   "source": [
    "abc = string.ascii_lowercase \n",
    "punct_signs = string.punctuation\n",
    "for cat in categories:                 \n",
    "    for  files in os.walk('data/mesa/'+ cat):     \n",
    "        if(len(files[2])>0):       \n",
    "            path = files[0]\n",
    "            print(categories[cat],'--', path.replace('data/mesa/'+ cat , '') ,'\\n')    \n",
    "            dataset = fetch_files_from(path)\n",
    "            data = '\\n'.join(dataset)\n",
    "            final = getNGram(data, 1, stop_words_spanish, 20)\n",
    "            print(tabulate(final, ['Ngram', 'Number']))\n",
    "            print('---------------------------------')\n",
    "            print()"
   ]
  },
  {
   "cell_type": "markdown",
   "metadata": {},
   "source": [
    "# Tagging "
   ]
  },
  {
   "cell_type": "markdown",
   "metadata": {},
   "source": [
    "## Top 20 Nombres Propios más mencionados"
   ]
  },
  {
   "cell_type": "code",
   "execution_count": null,
   "metadata": {},
   "outputs": [
    {
     "name": "stdout",
     "output_type": "stream",
     "text": [
      "Documentos -- /Informes \n",
      "\n"
     ]
    }
   ],
   "source": [
    "import re   \n",
    "import operator\n",
    "from collections import Counter\n",
    "\n",
    "def extractNamesAndEntities(hdict, text):\n",
    "    i = 0\n",
    "    for sent in nltk.sent_tokenize(text):\n",
    "        patron = re.compile('([A-ZÁÉÍÓÚÑÜ]{1}[a-zñáéíóúü]+([ ]+de[ ]+la[ ]+)?([ ]+de[ ]+)?([ ]+del[ ]+)?([ ]*[A-ZÁÉÍÓÚÑÜ]{1}[a-zñáéíóúü]+)*)')\n",
    "        names = patron.findall(text)\n",
    "        names = [x[0] for x in names if x[0].lower() not in stop_words_spanish]\n",
    "        names_dict = dict(Counter(names))\n",
    "        for k, v in names_dict.items():\n",
    "            if(k in hdict.keys()):\n",
    "                hdict[k] = hdict[k] + names_dict[k]\n",
    "            else:\n",
    "                hdict[k] = names_dict[k]\n",
    "\n",
    "def printTopMNames(hdict, m):    \n",
    "    sorted_dict = sorted(hdict.items(), key=operator.itemgetter(1), reverse=True)\n",
    "    return list(islice(sorted_dict, m))\n",
    "\n",
    "\n",
    "for cat in categories:                 \n",
    "    for  files in os.walk('data/mesa/'+ cat):     \n",
    "        if(len(files[2])>0):       \n",
    "            hdict = {}\n",
    "            path = files[0]\n",
    "            print(categories[cat],'--', path.replace('data/mesa/'+ cat , '') ,'\\n')               \n",
    "            dataset = fetch_files_from(path)\n",
    "            text = '\\n'.join(dataset)\n",
    "            extractNamesAndEntities(hdict, text)\n",
    "            final = printTopMNames(hdict, 20)\n",
    "            print(tabulate(final, ['Nombre', 'Cantidad']))\n",
    "            print()\n"
   ]
  },
  {
   "cell_type": "code",
   "execution_count": null,
   "metadata": {
    "collapsed": true
   },
   "outputs": [],
   "source": []
  }
 ],
 "metadata": {
  "kernelspec": {
   "display_name": "Python 3",
   "language": "python",
   "name": "python3"
  },
  "language_info": {
   "codemirror_mode": {
    "name": "ipython",
    "version": 3
   },
   "file_extension": ".py",
   "mimetype": "text/x-python",
   "name": "python",
   "nbconvert_exporter": "python",
   "pygments_lexer": "ipython3",
   "version": "3.5.2"
  }
 },
 "nbformat": 4,
 "nbformat_minor": 2
}
