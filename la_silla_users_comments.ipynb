{
 "cells": [
  {
   "cell_type": "code",
   "execution_count": 25,
   "metadata": {
    "collapsed": true
   },
   "outputs": [],
   "source": [
    "%reload_ext cypher\n",
    "import matplotlib\n",
    "import pandas as pd\n",
    "import matplotlib.pyplot as plt\n",
    "%matplotlib inline\n",
    "import datetime\n",
    "import math\n",
    "pd.set_option('display.max_colwidth', -1)\n",
    "def highlight_cells(row):\n",
    "    color = ''\n",
    "    if ('Section' in row.index.values and row['Section'] == 'Total') or ('Title' in row.index.values and row['Title'] == 'Total') or ('Months' in row.index.values and (row['Months'] == 'Total' or row['Months'] == 'Average') or ('Terms' in row.index.values and row['Terms'] == 'Total')) :\n",
    "        color = 'yellow'    \n",
    "    background = ['background-color: {}'.format(color) for _ in row]\n",
    "    return background"
   ]
  },
  {
   "cell_type": "markdown",
   "metadata": {
    "collapsed": true
   },
   "source": [
    "## Cantidad de usuarios"
   ]
  },
  {
   "cell_type": "code",
   "execution_count": 2,
   "metadata": {},
   "outputs": [
    {
     "name": "stdout",
     "output_type": "stream",
     "text": [
      "1 rows affected.\n"
     ]
    },
    {
     "data": {
      "text/html": [
       "<table>\n",
       "    <tr>\n",
       "        <th>count(n)</th>\n",
       "    </tr>\n",
       "    <tr>\n",
       "        <td>942</td>\n",
       "    </tr>\n",
       "</table>"
      ],
      "text/plain": [
       "[[942]]"
      ]
     },
     "execution_count": 2,
     "metadata": {},
     "output_type": "execute_result"
    }
   ],
   "source": [
    "%cypher MATCH (n:User) RETURN count(n)"
   ]
  },
  {
   "cell_type": "markdown",
   "metadata": {},
   "source": [
    "## 20 Usuarios que más comentaron"
   ]
  },
  {
   "cell_type": "code",
   "execution_count": 3,
   "metadata": {},
   "outputs": [
    {
     "name": "stdout",
     "output_type": "stream",
     "text": [
      "20 rows affected.\n"
     ]
    },
    {
     "data": {
      "text/html": [
       "<div>\n",
       "<style>\n",
       "    .dataframe thead tr:only-child th {\n",
       "        text-align: right;\n",
       "    }\n",
       "\n",
       "    .dataframe thead th {\n",
       "        text-align: left;\n",
       "    }\n",
       "\n",
       "    .dataframe tbody tr th {\n",
       "        vertical-align: top;\n",
       "    }\n",
       "</style>\n",
       "<table border=\"1\" class=\"dataframe\">\n",
       "  <thead>\n",
       "    <tr style=\"text-align: right;\">\n",
       "      <th></th>\n",
       "      <th>Comments</th>\n",
       "    </tr>\n",
       "    <tr>\n",
       "      <th>Users</th>\n",
       "      <th></th>\n",
       "    </tr>\n",
       "  </thead>\n",
       "  <tbody>\n",
       "    <tr>\n",
       "      <th>ACORE</th>\n",
       "      <td>74</td>\n",
       "    </tr>\n",
       "    <tr>\n",
       "      <th>Iguana67</th>\n",
       "      <td>57</td>\n",
       "    </tr>\n",
       "    <tr>\n",
       "      <th>Maria Paula Hoyos</th>\n",
       "      <td>55</td>\n",
       "    </tr>\n",
       "    <tr>\n",
       "      <th>SILVIA JARAMILLO ECHEVERRI</th>\n",
       "      <td>53</td>\n",
       "    </tr>\n",
       "    <tr>\n",
       "      <th>Tito Flavio Torres</th>\n",
       "      <td>50</td>\n",
       "    </tr>\n",
       "    <tr>\n",
       "      <th>fernando fonseca</th>\n",
       "      <td>48</td>\n",
       "    </tr>\n",
       "    <tr>\n",
       "      <th>Miguel Ramirez</th>\n",
       "      <td>43</td>\n",
       "    </tr>\n",
       "    <tr>\n",
       "      <th>manuelk</th>\n",
       "      <td>43</td>\n",
       "    </tr>\n",
       "    <tr>\n",
       "      <th>jorge48</th>\n",
       "      <td>42</td>\n",
       "    </tr>\n",
       "    <tr>\n",
       "      <th>marmar</th>\n",
       "      <td>41</td>\n",
       "    </tr>\n",
       "    <tr>\n",
       "      <th>Minga</th>\n",
       "      <td>41</td>\n",
       "    </tr>\n",
       "    <tr>\n",
       "      <th>fernando garcía ortega</th>\n",
       "      <td>41</td>\n",
       "    </tr>\n",
       "    <tr>\n",
       "      <th>jugori</th>\n",
       "      <td>39</td>\n",
       "    </tr>\n",
       "    <tr>\n",
       "      <th>jujogol</th>\n",
       "      <td>39</td>\n",
       "    </tr>\n",
       "    <tr>\n",
       "      <th>CGIRALDOD</th>\n",
       "      <td>37</td>\n",
       "    </tr>\n",
       "    <tr>\n",
       "      <th>Alvaro Arroyo</th>\n",
       "      <td>37</td>\n",
       "    </tr>\n",
       "    <tr>\n",
       "      <th>Ana María Valencia</th>\n",
       "      <td>35</td>\n",
       "    </tr>\n",
       "    <tr>\n",
       "      <th>Katherine Archuleta</th>\n",
       "      <td>34</td>\n",
       "    </tr>\n",
       "    <tr>\n",
       "      <th>Blado Díaz</th>\n",
       "      <td>34</td>\n",
       "    </tr>\n",
       "    <tr>\n",
       "      <th>Alberto Rubio</th>\n",
       "      <td>34</td>\n",
       "    </tr>\n",
       "  </tbody>\n",
       "</table>\n",
       "</div>"
      ],
      "text/plain": [
       "                            Comments\n",
       "Users                               \n",
       "ACORE                       74      \n",
       "Iguana67                    57      \n",
       "Maria Paula Hoyos           55      \n",
       "SILVIA JARAMILLO ECHEVERRI  53      \n",
       "Tito Flavio Torres          50      \n",
       "fernando fonseca            48      \n",
       "Miguel Ramirez              43      \n",
       "manuelk                     43      \n",
       "jorge48                     42      \n",
       "marmar                      41      \n",
       "Minga                       41      \n",
       "fernando garcía ortega      41      \n",
       "jugori                      39      \n",
       "jujogol                     39      \n",
       "CGIRALDOD                   37      \n",
       "Alvaro Arroyo               37      \n",
       "Ana María Valencia          35      \n",
       "Katherine Archuleta         34      \n",
       "Blado Díaz                  34      \n",
       "Alberto Rubio               34      "
      ]
     },
     "execution_count": 3,
     "metadata": {},
     "output_type": "execute_result"
    }
   ],
   "source": [
    "dfUsers = %%cypher MATCH p=(n:User)-[r:COMMENTS]->() RETURN count(p) as Comments, n.name as Users order by Comments DESC LIMIT 20\n",
    "dfUsers = dfUsers.get_dataframe()\n",
    "dfUsers.set_index('Users')"
   ]
  },
  {
   "cell_type": "markdown",
   "metadata": {},
   "source": [
    "## Cantidad de comentarios "
   ]
  },
  {
   "cell_type": "code",
   "execution_count": 4,
   "metadata": {},
   "outputs": [
    {
     "name": "stdout",
     "output_type": "stream",
     "text": [
      "1 rows affected.\n"
     ]
    },
    {
     "data": {
      "text/html": [
       "<table>\n",
       "    <tr>\n",
       "        <th>count(n)</th>\n",
       "    </tr>\n",
       "    <tr>\n",
       "        <td>5795</td>\n",
       "    </tr>\n",
       "</table>"
      ],
      "text/plain": [
       "[[5795]]"
      ]
     },
     "execution_count": 4,
     "metadata": {},
     "output_type": "execute_result"
    }
   ],
   "source": [
    "%cypher MATCH (n:Comment)-[:IS_ABOUT]->(h:Article{valid:True}) RETURN count(n)"
   ]
  },
  {
   "cell_type": "markdown",
   "metadata": {},
   "source": [
    "## Cantidad de comentarios por sección"
   ]
  },
  {
   "cell_type": "code",
   "execution_count": 5,
   "metadata": {},
   "outputs": [
    {
     "name": "stdout",
     "output_type": "stream",
     "text": [
      "7 rows affected.\n"
     ]
    },
    {
     "data": {
      "text/html": [
       "<style  type=\"text/css\" >\n",
       "    #T_3327120e_86ac_11e7_8d40_7071bc0e4377row0_col0 {\n",
       "            background-color:  ;\n",
       "        }    #T_3327120e_86ac_11e7_8d40_7071bc0e4377row0_col1 {\n",
       "            background-color:  ;\n",
       "        }    #T_3327120e_86ac_11e7_8d40_7071bc0e4377row1_col0 {\n",
       "            background-color:  ;\n",
       "        }    #T_3327120e_86ac_11e7_8d40_7071bc0e4377row1_col1 {\n",
       "            background-color:  ;\n",
       "        }    #T_3327120e_86ac_11e7_8d40_7071bc0e4377row2_col0 {\n",
       "            background-color:  ;\n",
       "        }    #T_3327120e_86ac_11e7_8d40_7071bc0e4377row2_col1 {\n",
       "            background-color:  ;\n",
       "        }    #T_3327120e_86ac_11e7_8d40_7071bc0e4377row3_col0 {\n",
       "            background-color:  ;\n",
       "        }    #T_3327120e_86ac_11e7_8d40_7071bc0e4377row3_col1 {\n",
       "            background-color:  ;\n",
       "        }    #T_3327120e_86ac_11e7_8d40_7071bc0e4377row4_col0 {\n",
       "            background-color:  ;\n",
       "        }    #T_3327120e_86ac_11e7_8d40_7071bc0e4377row4_col1 {\n",
       "            background-color:  ;\n",
       "        }    #T_3327120e_86ac_11e7_8d40_7071bc0e4377row5_col0 {\n",
       "            background-color:  ;\n",
       "        }    #T_3327120e_86ac_11e7_8d40_7071bc0e4377row5_col1 {\n",
       "            background-color:  ;\n",
       "        }    #T_3327120e_86ac_11e7_8d40_7071bc0e4377row6_col0 {\n",
       "            background-color:  ;\n",
       "        }    #T_3327120e_86ac_11e7_8d40_7071bc0e4377row6_col1 {\n",
       "            background-color:  ;\n",
       "        }    #T_3327120e_86ac_11e7_8d40_7071bc0e4377row7_col0 {\n",
       "            background-color:  yellow;\n",
       "        }    #T_3327120e_86ac_11e7_8d40_7071bc0e4377row7_col1 {\n",
       "            background-color:  yellow;\n",
       "        }</style>  \n",
       "<table id=\"T_3327120e_86ac_11e7_8d40_7071bc0e4377\" > \n",
       "<thead>    <tr> \n",
       "        <th class=\"blank level0\" ></th> \n",
       "        <th class=\"col_heading level0 col0\" >Section</th> \n",
       "        <th class=\"col_heading level0 col1\" >Comments</th> \n",
       "    </tr></thead> \n",
       "<tbody>    <tr> \n",
       "        <th id=\"T_3327120e_86ac_11e7_8d40_7071bc0e4377\" class=\"row_heading level0 row0\" >0</th> \n",
       "        <td id=\"T_3327120e_86ac_11e7_8d40_7071bc0e4377row0_col0\" class=\"data row0 col0\" >Silla Nacional</td> \n",
       "        <td id=\"T_3327120e_86ac_11e7_8d40_7071bc0e4377row0_col1\" class=\"data row0 col1\" >3714</td> \n",
       "    </tr>    <tr> \n",
       "        <th id=\"T_3327120e_86ac_11e7_8d40_7071bc0e4377\" class=\"row_heading level0 row1\" >1</th> \n",
       "        <td id=\"T_3327120e_86ac_11e7_8d40_7071bc0e4377row1_col0\" class=\"data row1 col0\" >Opinión</td> \n",
       "        <td id=\"T_3327120e_86ac_11e7_8d40_7071bc0e4377row1_col1\" class=\"data row1 col1\" >941</td> \n",
       "    </tr>    <tr> \n",
       "        <th id=\"T_3327120e_86ac_11e7_8d40_7071bc0e4377\" class=\"row_heading level0 row2\" >2</th> \n",
       "        <td id=\"T_3327120e_86ac_11e7_8d40_7071bc0e4377row2_col0\" class=\"data row2 col0\" >La Silla</td> \n",
       "        <td id=\"T_3327120e_86ac_11e7_8d40_7071bc0e4377row2_col1\" class=\"data row2 col1\" >370</td> \n",
       "    </tr>    <tr> \n",
       "        <th id=\"T_3327120e_86ac_11e7_8d40_7071bc0e4377\" class=\"row_heading level0 row3\" >3</th> \n",
       "        <td id=\"T_3327120e_86ac_11e7_8d40_7071bc0e4377row3_col0\" class=\"data row3 col0\" >La Silla Caribe</td> \n",
       "        <td id=\"T_3327120e_86ac_11e7_8d40_7071bc0e4377row3_col1\" class=\"data row3 col1\" >350</td> \n",
       "    </tr>    <tr> \n",
       "        <th id=\"T_3327120e_86ac_11e7_8d40_7071bc0e4377\" class=\"row_heading level0 row4\" >4</th> \n",
       "        <td id=\"T_3327120e_86ac_11e7_8d40_7071bc0e4377row4_col0\" class=\"data row4 col0\" >La Silla Santandereana</td> \n",
       "        <td id=\"T_3327120e_86ac_11e7_8d40_7071bc0e4377row4_col1\" class=\"data row4 col1\" >195</td> \n",
       "    </tr>    <tr> \n",
       "        <th id=\"T_3327120e_86ac_11e7_8d40_7071bc0e4377\" class=\"row_heading level0 row5\" >5</th> \n",
       "        <td id=\"T_3327120e_86ac_11e7_8d40_7071bc0e4377row5_col0\" class=\"data row5 col0\" >Hágame el cruce</td> \n",
       "        <td id=\"T_3327120e_86ac_11e7_8d40_7071bc0e4377row5_col1\" class=\"data row5 col1\" >152</td> \n",
       "    </tr>    <tr> \n",
       "        <th id=\"T_3327120e_86ac_11e7_8d40_7071bc0e4377\" class=\"row_heading level0 row6\" >6</th> \n",
       "        <td id=\"T_3327120e_86ac_11e7_8d40_7071bc0e4377row6_col0\" class=\"data row6 col0\" >La Silla Pacífico</td> \n",
       "        <td id=\"T_3327120e_86ac_11e7_8d40_7071bc0e4377row6_col1\" class=\"data row6 col1\" >73</td> \n",
       "    </tr>    <tr> \n",
       "        <th id=\"T_3327120e_86ac_11e7_8d40_7071bc0e4377\" class=\"row_heading level0 row7\" >7</th> \n",
       "        <td id=\"T_3327120e_86ac_11e7_8d40_7071bc0e4377row7_col0\" class=\"data row7 col0\" >Total</td> \n",
       "        <td id=\"T_3327120e_86ac_11e7_8d40_7071bc0e4377row7_col1\" class=\"data row7 col1\" >5795</td> \n",
       "    </tr></tbody> \n",
       "</table> "
      ],
      "text/plain": [
       "<pandas.io.formats.style.Styler at 0x7f60fc25b9b0>"
      ]
     },
     "execution_count": 5,
     "metadata": {},
     "output_type": "execute_result"
    }
   ],
   "source": [
    "dfComments = %%cypher MATCH ()-[r:IS_ABOUT]->(n:Article{valid:True})  RETURN count(r) as Comments, n.section as Section ORDER BY Comments DESC LIMIT 20\n",
    "dfComments = dfComments.get_dataframe()\n",
    "dfComments = dfComments.set_index('Section')\n",
    "dfComments.loc['Total'] = dfComments['Comments'].sum()\n",
    "dfComments = dfComments.reset_index()\n",
    "dfComments.style.apply(highlight_cells, axis=1)"
   ]
  },
  {
   "cell_type": "code",
   "execution_count": 6,
   "metadata": {},
   "outputs": [
    {
     "data": {
      "image/png": "[encoded data removed]",
      "text/plain": [
       "<matplotlib.figure.Figure at 0x7f60c62e5dd8>"
      ]
     },
     "metadata": {},
     "output_type": "display_data"
    }
   ],
   "source": [
    "matplotlib.rcParams['figure.figsize'] = (10.0,12.0)\n",
    "dfComments = dfComments.drop([7])\n",
    "labels = dfComments['Section'].values\n",
    "sizes = dfComments['Comments'].values\n",
    "explode = (0, 0, 0, 0, 0, 0, 0) \n",
    "\n",
    "fig1, ax1 = plt.subplots()\n",
    "ax1.pie(sizes, explode=explode, labels=labels, autopct='%1.1f%%',\n",
    "        shadow=True, startangle=90)\n",
    "ax1.axis('equal')  \n",
    "\n",
    "plt.show()"
   ]
  },
  {
   "cell_type": "markdown",
   "metadata": {},
   "source": [
    "## Promedio de comentarios en un artículo (respecto al total de artículos = 1010)"
   ]
  },
  {
   "cell_type": "code",
   "execution_count": 37,
   "metadata": {},
   "outputs": [
    {
     "name": "stdout",
     "output_type": "stream",
     "text": [
      "724 rows affected.\n",
      "Average:  5.73762376238\n"
     ]
    }
   ],
   "source": [
    "dfArt = %%cypher MATCH ()-[r:IS_ABOUT]->(n:Article{valid:True})  RETURN count(r) as Comments, n.title as Title, n.date as Date ORDER BY Comments DESC \n",
    "dfArt = dfArt.get_dataframe()\n",
    "print('Average: ', dfArt['Comments'].sum()/1010)"
   ]
  },
  {
   "cell_type": "markdown",
   "metadata": {},
   "source": [
    "## Promedio de usuarios en un artículo"
   ]
  },
  {
   "cell_type": "code",
   "execution_count": 38,
   "metadata": {},
   "outputs": [
    {
     "name": "stdout",
     "output_type": "stream",
     "text": [
      "Average:  0.9326732673267327\n"
     ]
    }
   ],
   "source": [
    "print('Average: ', 942/1010)"
   ]
  },
  {
   "cell_type": "markdown",
   "metadata": {},
   "source": [
    "## 20 Artículos más comentados "
   ]
  },
  {
   "cell_type": "code",
   "execution_count": 40,
   "metadata": {},
   "outputs": [
    {
     "data": {
      "text/html": [
       "<div>\n",
       "<style>\n",
       "    .dataframe thead tr:only-child th {\n",
       "        text-align: right;\n",
       "    }\n",
       "\n",
       "    .dataframe thead th {\n",
       "        text-align: left;\n",
       "    }\n",
       "\n",
       "    .dataframe tbody tr th {\n",
       "        vertical-align: top;\n",
       "    }\n",
       "</style>\n",
       "<table border=\"1\" class=\"dataframe\">\n",
       "  <thead>\n",
       "    <tr style=\"text-align: right;\">\n",
       "      <th></th>\n",
       "      <th>Comments</th>\n",
       "      <th>Date</th>\n",
       "    </tr>\n",
       "    <tr>\n",
       "      <th>Title</th>\n",
       "      <th></th>\n",
       "      <th></th>\n",
       "    </tr>\n",
       "  </thead>\n",
       "  <tbody>\n",
       "    <tr>\n",
       "      <th>Colombia dijo No y siguió partida en dos</th>\n",
       "      <td>50</td>\n",
       "      <td>02 de Octubre de 2016</td>\n",
       "    </tr>\n",
       "    <tr>\n",
       "      <th>Pal 2018</th>\n",
       "      <td>50</td>\n",
       "      <td>22 de Octubre de 2016</td>\n",
       "    </tr>\n",
       "    <tr>\n",
       "      <th>¿Qué es una ideología de género?</th>\n",
       "      <td>50</td>\n",
       "      <td>11 de Agosto de 2016</td>\n",
       "    </tr>\n",
       "    <tr>\n",
       "      <th>Santos: el lastre del Sí</th>\n",
       "      <td>50</td>\n",
       "      <td>08 de Agosto de 2016</td>\n",
       "    </tr>\n",
       "    <tr>\n",
       "      <th>Se necesitaba un \"tipo\" como Santos</th>\n",
       "      <td>49</td>\n",
       "      <td>24 de Junio de 2016</td>\n",
       "    </tr>\n",
       "    <tr>\n",
       "      <th>Tras el No: tres escenarios improbables</th>\n",
       "      <td>48</td>\n",
       "      <td>04 de Octubre de 2016</td>\n",
       "    </tr>\n",
       "    <tr>\n",
       "      <th>Uribe sigue siendo el rey</th>\n",
       "      <td>48</td>\n",
       "      <td>03 de Octubre de 2016</td>\n",
       "    </tr>\n",
       "    <tr>\n",
       "      <th>El plebiscito: entre el \"sin plan B\" y \"un mejor acuerdo\"</th>\n",
       "      <td>44</td>\n",
       "      <td>29 de Julio de 2016</td>\n",
       "    </tr>\n",
       "    <tr>\n",
       "      <th>El doble filo de la participación social en el Acuerdo de Paz</th>\n",
       "      <td>42</td>\n",
       "      <td>19 de Septiembre de 2016</td>\n",
       "    </tr>\n",
       "    <tr>\n",
       "      <th>De la alcaldía al ministerio</th>\n",
       "      <td>41</td>\n",
       "      <td>03 de Junio de 2016</td>\n",
       "    </tr>\n",
       "    <tr>\n",
       "      <th>Los regalos del Gobierno al No</th>\n",
       "      <td>40</td>\n",
       "      <td>31 de Agosto de 2016</td>\n",
       "    </tr>\n",
       "    <tr>\n",
       "      <th>El 'papayazo' de Gina</th>\n",
       "      <td>40</td>\n",
       "      <td>11 de Agosto de 2016</td>\n",
       "    </tr>\n",
       "    <tr>\n",
       "      <th>Gaviria enciende la campaña por el plebiscito</th>\n",
       "      <td>39</td>\n",
       "      <td>07 de Julio de 2016</td>\n",
       "    </tr>\n",
       "    <tr>\n",
       "      <th>Las apuestas de Uribe, Santos y las Farc (y sus riesgos)</th>\n",
       "      <td>38</td>\n",
       "      <td>10 de Octubre de 2016</td>\n",
       "    </tr>\n",
       "    <tr>\n",
       "      <th>¿Vicky inaugura una nueva era del periodismo nacional?</th>\n",
       "      <td>38</td>\n",
       "      <td>16 de Febrero de 2016</td>\n",
       "    </tr>\n",
       "    <tr>\n",
       "      <th>La marcha que muestra el plan A de la ciudadanía</th>\n",
       "      <td>37</td>\n",
       "      <td>13 de Octubre de 2016</td>\n",
       "    </tr>\n",
       "    <tr>\n",
       "      <th>Refrendación popular y “fast track”</th>\n",
       "      <td>37</td>\n",
       "      <td>11 de Diciembre de 2016</td>\n",
       "    </tr>\n",
       "    <tr>\n",
       "      <th>El Concejo aprobó la venta de la ETB sin mucho sustento técnico</th>\n",
       "      <td>35</td>\n",
       "      <td>01 de Junio de 2016</td>\n",
       "    </tr>\n",
       "    <tr>\n",
       "      <th>Se gobierna para las encuestas</th>\n",
       "      <td>34</td>\n",
       "      <td>28 de Mayo de 2016</td>\n",
       "    </tr>\n",
       "    <tr>\n",
       "      <th>Una cuota de Jorge Eliécer Gaitán ronda el MinTrabajo</th>\n",
       "      <td>34</td>\n",
       "      <td>22 de Agosto de 2016</td>\n",
       "    </tr>\n",
       "  </tbody>\n",
       "</table>\n",
       "</div>"
      ],
      "text/plain": [
       "                                                                 Comments  \\\n",
       "Title                                                                       \n",
       "Colombia dijo No y siguió partida en dos                         50         \n",
       "Pal 2018                                                         50         \n",
       "¿Qué es una ideología de género?                                 50         \n",
       "Santos: el lastre del Sí                                         50         \n",
       "Se necesitaba un \"tipo\" como Santos                              49         \n",
       "Tras el No: tres escenarios improbables                          48         \n",
       "Uribe sigue siendo el rey                                        48         \n",
       "El plebiscito: entre el \"sin plan B\" y \"un mejor acuerdo\"        44         \n",
       "El doble filo de la participación social en el Acuerdo de Paz    42         \n",
       "De la alcaldía al ministerio                                     41         \n",
       "Los regalos del Gobierno al No                                   40         \n",
       "El 'papayazo' de Gina                                            40         \n",
       "Gaviria enciende la campaña por el plebiscito                    39         \n",
       "Las apuestas de Uribe, Santos y las Farc (y sus riesgos)         38         \n",
       "¿Vicky inaugura una nueva era del periodismo nacional?           38         \n",
       "La marcha que muestra el plan A de la ciudadanía                 37         \n",
       "Refrendación popular y “fast track”                              37         \n",
       "El Concejo aprobó la venta de la ETB sin mucho sustento técnico  35         \n",
       "Se gobierna para las encuestas                                   34         \n",
       "Una cuota de Jorge Eliécer Gaitán ronda el MinTrabajo            34         \n",
       "\n",
       "                                                                                     Date  \n",
       "Title                                                                                      \n",
       "Colombia dijo No y siguió partida en dos                         02 de Octubre de 2016     \n",
       "Pal 2018                                                         22 de Octubre de 2016     \n",
       "¿Qué es una ideología de género?                                 11 de Agosto de 2016      \n",
       "Santos: el lastre del Sí                                         08 de Agosto de 2016      \n",
       "Se necesitaba un \"tipo\" como Santos                              24 de Junio de 2016       \n",
       "Tras el No: tres escenarios improbables                          04 de Octubre de 2016     \n",
       "Uribe sigue siendo el rey                                        03 de Octubre de 2016     \n",
       "El plebiscito: entre el \"sin plan B\" y \"un mejor acuerdo\"        29 de Julio de 2016       \n",
       "El doble filo de la participación social en el Acuerdo de Paz    19 de Septiembre de 2016  \n",
       "De la alcaldía al ministerio                                     03 de Junio de 2016       \n",
       "Los regalos del Gobierno al No                                   31 de Agosto de 2016      \n",
       "El 'papayazo' de Gina                                            11 de Agosto de 2016      \n",
       "Gaviria enciende la campaña por el plebiscito                    07 de Julio de 2016       \n",
       "Las apuestas de Uribe, Santos y las Farc (y sus riesgos)         10 de Octubre de 2016     \n",
       "¿Vicky inaugura una nueva era del periodismo nacional?           16 de Febrero de 2016     \n",
       "La marcha que muestra el plan A de la ciudadanía                 13 de Octubre de 2016     \n",
       "Refrendación popular y “fast track”                              11 de Diciembre de 2016   \n",
       "El Concejo aprobó la venta de la ETB sin mucho sustento técnico  01 de Junio de 2016       \n",
       "Se gobierna para las encuestas                                   28 de Mayo de 2016        \n",
       "Una cuota de Jorge Eliécer Gaitán ronda el MinTrabajo            22 de Agosto de 2016      "
      ]
     },
     "execution_count": 40,
     "metadata": {},
     "output_type": "execute_result"
    }
   ],
   "source": [
    "dfArt[:20].set_index('Title')"
   ]
  },
  {
   "cell_type": "markdown",
   "metadata": {
    "collapsed": true
   },
   "source": [
    "# Frecuencia de comentarios"
   ]
  },
  {
   "cell_type": "markdown",
   "metadata": {},
   "source": [
    "## Cantidad de comentarios mensuales. "
   ]
  },
  {
   "cell_type": "code",
   "execution_count": 32,
   "metadata": {},
   "outputs": [
    {
     "name": "stdout",
     "output_type": "stream",
     "text": [
      "5795 rows affected.\n"
     ]
    },
    {
     "data": {
      "text/html": [
       "<style  type=\"text/css\" >\n",
       "    #T_9c02b8e8_86af_11e7_8d40_7071bc0e4377row0_col0 {\n",
       "            background-color:  ;\n",
       "        }    #T_9c02b8e8_86af_11e7_8d40_7071bc0e4377row0_col1 {\n",
       "            background-color:  ;\n",
       "        }    #T_9c02b8e8_86af_11e7_8d40_7071bc0e4377row1_col0 {\n",
       "            background-color:  ;\n",
       "        }    #T_9c02b8e8_86af_11e7_8d40_7071bc0e4377row1_col1 {\n",
       "            background-color:  ;\n",
       "        }    #T_9c02b8e8_86af_11e7_8d40_7071bc0e4377row2_col0 {\n",
       "            background-color:  ;\n",
       "        }    #T_9c02b8e8_86af_11e7_8d40_7071bc0e4377row2_col1 {\n",
       "            background-color:  ;\n",
       "        }    #T_9c02b8e8_86af_11e7_8d40_7071bc0e4377row3_col0 {\n",
       "            background-color:  ;\n",
       "        }    #T_9c02b8e8_86af_11e7_8d40_7071bc0e4377row3_col1 {\n",
       "            background-color:  ;\n",
       "        }    #T_9c02b8e8_86af_11e7_8d40_7071bc0e4377row4_col0 {\n",
       "            background-color:  ;\n",
       "        }    #T_9c02b8e8_86af_11e7_8d40_7071bc0e4377row4_col1 {\n",
       "            background-color:  ;\n",
       "        }    #T_9c02b8e8_86af_11e7_8d40_7071bc0e4377row5_col0 {\n",
       "            background-color:  ;\n",
       "        }    #T_9c02b8e8_86af_11e7_8d40_7071bc0e4377row5_col1 {\n",
       "            background-color:  ;\n",
       "        }    #T_9c02b8e8_86af_11e7_8d40_7071bc0e4377row6_col0 {\n",
       "            background-color:  ;\n",
       "        }    #T_9c02b8e8_86af_11e7_8d40_7071bc0e4377row6_col1 {\n",
       "            background-color:  ;\n",
       "        }    #T_9c02b8e8_86af_11e7_8d40_7071bc0e4377row7_col0 {\n",
       "            background-color:  ;\n",
       "        }    #T_9c02b8e8_86af_11e7_8d40_7071bc0e4377row7_col1 {\n",
       "            background-color:  ;\n",
       "        }    #T_9c02b8e8_86af_11e7_8d40_7071bc0e4377row8_col0 {\n",
       "            background-color:  ;\n",
       "        }    #T_9c02b8e8_86af_11e7_8d40_7071bc0e4377row8_col1 {\n",
       "            background-color:  ;\n",
       "        }    #T_9c02b8e8_86af_11e7_8d40_7071bc0e4377row9_col0 {\n",
       "            background-color:  ;\n",
       "        }    #T_9c02b8e8_86af_11e7_8d40_7071bc0e4377row9_col1 {\n",
       "            background-color:  ;\n",
       "        }    #T_9c02b8e8_86af_11e7_8d40_7071bc0e4377row10_col0 {\n",
       "            background-color:  ;\n",
       "        }    #T_9c02b8e8_86af_11e7_8d40_7071bc0e4377row10_col1 {\n",
       "            background-color:  ;\n",
       "        }    #T_9c02b8e8_86af_11e7_8d40_7071bc0e4377row11_col0 {\n",
       "            background-color:  ;\n",
       "        }    #T_9c02b8e8_86af_11e7_8d40_7071bc0e4377row11_col1 {\n",
       "            background-color:  ;\n",
       "        }    #T_9c02b8e8_86af_11e7_8d40_7071bc0e4377row12_col0 {\n",
       "            background-color:  yellow;\n",
       "        }    #T_9c02b8e8_86af_11e7_8d40_7071bc0e4377row12_col1 {\n",
       "            background-color:  yellow;\n",
       "        }    #T_9c02b8e8_86af_11e7_8d40_7071bc0e4377row13_col0 {\n",
       "            background-color:  yellow;\n",
       "        }    #T_9c02b8e8_86af_11e7_8d40_7071bc0e4377row13_col1 {\n",
       "            background-color:  yellow;\n",
       "        }</style>  \n",
       "<table id=\"T_9c02b8e8_86af_11e7_8d40_7071bc0e4377\" > \n",
       "<thead>    <tr> \n",
       "        <th class=\"blank level0\" ></th> \n",
       "        <th class=\"col_heading level0 col0\" >Months</th> \n",
       "        <th class=\"col_heading level0 col1\" >Number</th> \n",
       "    </tr></thead> \n",
       "<tbody>    <tr> \n",
       "        <th id=\"T_9c02b8e8_86af_11e7_8d40_7071bc0e4377\" class=\"row_heading level0 row0\" >0</th> \n",
       "        <td id=\"T_9c02b8e8_86af_11e7_8d40_7071bc0e4377row0_col0\" class=\"data row0 col0\" >Enero</td> \n",
       "        <td id=\"T_9c02b8e8_86af_11e7_8d40_7071bc0e4377row0_col1\" class=\"data row0 col1\" >219</td> \n",
       "    </tr>    <tr> \n",
       "        <th id=\"T_9c02b8e8_86af_11e7_8d40_7071bc0e4377\" class=\"row_heading level0 row1\" >1</th> \n",
       "        <td id=\"T_9c02b8e8_86af_11e7_8d40_7071bc0e4377row1_col0\" class=\"data row1 col0\" >Febrero</td> \n",
       "        <td id=\"T_9c02b8e8_86af_11e7_8d40_7071bc0e4377row1_col1\" class=\"data row1 col1\" >369</td> \n",
       "    </tr>    <tr> \n",
       "        <th id=\"T_9c02b8e8_86af_11e7_8d40_7071bc0e4377\" class=\"row_heading level0 row2\" >2</th> \n",
       "        <td id=\"T_9c02b8e8_86af_11e7_8d40_7071bc0e4377row2_col0\" class=\"data row2 col0\" >Marzo</td> \n",
       "        <td id=\"T_9c02b8e8_86af_11e7_8d40_7071bc0e4377row2_col1\" class=\"data row2 col1\" >150</td> \n",
       "    </tr>    <tr> \n",
       "        <th id=\"T_9c02b8e8_86af_11e7_8d40_7071bc0e4377\" class=\"row_heading level0 row3\" >3</th> \n",
       "        <td id=\"T_9c02b8e8_86af_11e7_8d40_7071bc0e4377row3_col0\" class=\"data row3 col0\" >Abril</td> \n",
       "        <td id=\"T_9c02b8e8_86af_11e7_8d40_7071bc0e4377row3_col1\" class=\"data row3 col1\" >349</td> \n",
       "    </tr>    <tr> \n",
       "        <th id=\"T_9c02b8e8_86af_11e7_8d40_7071bc0e4377\" class=\"row_heading level0 row4\" >4</th> \n",
       "        <td id=\"T_9c02b8e8_86af_11e7_8d40_7071bc0e4377row4_col0\" class=\"data row4 col0\" >Mayo</td> \n",
       "        <td id=\"T_9c02b8e8_86af_11e7_8d40_7071bc0e4377row4_col1\" class=\"data row4 col1\" >420</td> \n",
       "    </tr>    <tr> \n",
       "        <th id=\"T_9c02b8e8_86af_11e7_8d40_7071bc0e4377\" class=\"row_heading level0 row5\" >5</th> \n",
       "        <td id=\"T_9c02b8e8_86af_11e7_8d40_7071bc0e4377row5_col0\" class=\"data row5 col0\" >Junio</td> \n",
       "        <td id=\"T_9c02b8e8_86af_11e7_8d40_7071bc0e4377row5_col1\" class=\"data row5 col1\" >551</td> \n",
       "    </tr>    <tr> \n",
       "        <th id=\"T_9c02b8e8_86af_11e7_8d40_7071bc0e4377\" class=\"row_heading level0 row6\" >6</th> \n",
       "        <td id=\"T_9c02b8e8_86af_11e7_8d40_7071bc0e4377row6_col0\" class=\"data row6 col0\" >Julio</td> \n",
       "        <td id=\"T_9c02b8e8_86af_11e7_8d40_7071bc0e4377row6_col1\" class=\"data row6 col1\" >611</td> \n",
       "    </tr>    <tr> \n",
       "        <th id=\"T_9c02b8e8_86af_11e7_8d40_7071bc0e4377\" class=\"row_heading level0 row7\" >7</th> \n",
       "        <td id=\"T_9c02b8e8_86af_11e7_8d40_7071bc0e4377row7_col0\" class=\"data row7 col0\" >Agosto</td> \n",
       "        <td id=\"T_9c02b8e8_86af_11e7_8d40_7071bc0e4377row7_col1\" class=\"data row7 col1\" >670</td> \n",
       "    </tr>    <tr> \n",
       "        <th id=\"T_9c02b8e8_86af_11e7_8d40_7071bc0e4377\" class=\"row_heading level0 row8\" >8</th> \n",
       "        <td id=\"T_9c02b8e8_86af_11e7_8d40_7071bc0e4377row8_col0\" class=\"data row8 col0\" >Septiembre</td> \n",
       "        <td id=\"T_9c02b8e8_86af_11e7_8d40_7071bc0e4377row8_col1\" class=\"data row8 col1\" >708</td> \n",
       "    </tr>    <tr> \n",
       "        <th id=\"T_9c02b8e8_86af_11e7_8d40_7071bc0e4377\" class=\"row_heading level0 row9\" >9</th> \n",
       "        <td id=\"T_9c02b8e8_86af_11e7_8d40_7071bc0e4377row9_col0\" class=\"data row9 col0\" >Octubre</td> \n",
       "        <td id=\"T_9c02b8e8_86af_11e7_8d40_7071bc0e4377row9_col1\" class=\"data row9 col1\" >885</td> \n",
       "    </tr>    <tr> \n",
       "        <th id=\"T_9c02b8e8_86af_11e7_8d40_7071bc0e4377\" class=\"row_heading level0 row10\" >10</th> \n",
       "        <td id=\"T_9c02b8e8_86af_11e7_8d40_7071bc0e4377row10_col0\" class=\"data row10 col0\" >Noviembre</td> \n",
       "        <td id=\"T_9c02b8e8_86af_11e7_8d40_7071bc0e4377row10_col1\" class=\"data row10 col1\" >436</td> \n",
       "    </tr>    <tr> \n",
       "        <th id=\"T_9c02b8e8_86af_11e7_8d40_7071bc0e4377\" class=\"row_heading level0 row11\" >11</th> \n",
       "        <td id=\"T_9c02b8e8_86af_11e7_8d40_7071bc0e4377row11_col0\" class=\"data row11 col0\" >Diciembre</td> \n",
       "        <td id=\"T_9c02b8e8_86af_11e7_8d40_7071bc0e4377row11_col1\" class=\"data row11 col1\" >427</td> \n",
       "    </tr>    <tr> \n",
       "        <th id=\"T_9c02b8e8_86af_11e7_8d40_7071bc0e4377\" class=\"row_heading level0 row12\" >12</th> \n",
       "        <td id=\"T_9c02b8e8_86af_11e7_8d40_7071bc0e4377row12_col0\" class=\"data row12 col0\" >Average</td> \n",
       "        <td id=\"T_9c02b8e8_86af_11e7_8d40_7071bc0e4377row12_col1\" class=\"data row12 col1\" >483</td> \n",
       "    </tr>    <tr> \n",
       "        <th id=\"T_9c02b8e8_86af_11e7_8d40_7071bc0e4377\" class=\"row_heading level0 row13\" >13</th> \n",
       "        <td id=\"T_9c02b8e8_86af_11e7_8d40_7071bc0e4377row13_col0\" class=\"data row13 col0\" >Total</td> \n",
       "        <td id=\"T_9c02b8e8_86af_11e7_8d40_7071bc0e4377row13_col1\" class=\"data row13 col1\" >5795</td> \n",
       "    </tr></tbody> \n",
       "</table> "
      ],
      "text/plain": [
       "<pandas.io.formats.style.Styler at 0x7f60c0eeeb38>"
      ]
     },
     "execution_count": 32,
     "metadata": {},
     "output_type": "execute_result"
    }
   ],
   "source": [
    "dfFrec = %%cypher MATCH (n:Comment)-[:IS_ABOUT]-(a:Article{valid:True}) RETURN n.cid as ID, n.date as Date\n",
    "dfFrec = dfFrec.get_dataframe()\n",
    "times = dfFrec.Date.apply(lambda x: datetime.datetime.strptime(x.replace('de Enero', '01 2016').replace('de Febrero', '02 2016').replace('de Marzo', '03 2016').replace('de Abril', '04 2016').replace('de Mayo', '05 2016').replace('de Junio', '06 2016').replace('de Julio', '07 2016').replace('de Agosto', '08 2016').replace('de Septiembre', '09 2016').replace('de Octubre', '10 2016').replace('de Noviembre', '11 2016').replace('de Diciembre', '12 2016'), \"%d %m %Y\"))\n",
    "dfFrec ['Date'] =  times\n",
    "\n",
    "dfTimesMensuales = dfFrec.groupby(dfFrec['Date'].dt.month).agg({'ID':'count'})\n",
    "dfTimesMensuales.loc['Average'] =  math.ceil(dfTimesMensuales['ID'].mean()*100/100)\n",
    "dfTimesMensuales.loc['Total'] =  dfTimesMensuales.drop(['Average'])['ID'].sum()\n",
    "dfTimesMensuales.columns = ['Number']\n",
    "dfTimesMensuales.index.rename('Months', inplace=True)\n",
    "dfTimesMensuales = dfTimesMensuales.rename({1:'Enero', 2:'Febrero', 3:'Marzo',4:'Abril', 5:'Mayo', 6:'Junio', 7:'Julio', 8:'Agosto', 9:'Septiembre', 10:'Octubre', 11:'Noviembre', 12:'Diciembre'})\n",
    "dfTimesMensuales = dfTimesMensuales.reset_index()\n",
    "dfTimesMensuales.style.apply(highlight_cells, axis=1)"
   ]
  },
  {
   "cell_type": "code",
   "execution_count": 34,
   "metadata": {},
   "outputs": [
    {
     "data": {
      "image/png": "[encoded data removed]",
      "text/plain": [
       "<matplotlib.figure.Figure at 0x7f60c2ad7898>"
      ]
     },
     "metadata": {},
     "output_type": "display_data"
    }
   ],
   "source": [
    "dfTimesMensuales = dfTimesMensuales.drop([12,13])\n",
    "matplotlib.rcParams['figure.figsize'] = (6.0,6.0)\n",
    "\n",
    "labels = dfTimesMensuales['Months'].values\n",
    "sizes = dfTimesMensuales['Number'].values\n",
    "explode = (0, 0, 0, 0, 0, 0, 0, 0, 0, 0, 0, 0) \n",
    "\n",
    "fig1, ax1 = plt.subplots()\n",
    "ax1.pie(sizes, explode=explode, labels=labels, autopct='%1.1f%%',\n",
    "        shadow=True, startangle=90)\n",
    "ax1.axis('equal')  \n",
    "\n",
    "plt.show()"
   ]
  },
  {
   "cell_type": "markdown",
   "metadata": {
    "collapsed": true
   },
   "source": [
    "## 10 Días con mayor cantidad de comentarios"
   ]
  },
  {
   "cell_type": "markdown",
   "metadata": {},
   "source": [
    "##### El 03 de Octubre el día de mayor actividad en twitter también. Se puede considerar como el de mayor reacción en las redes.  Ver \"Top 20 days with more tweets\" https://github.com/ylizama/cl_tweets/blob/master/Frequency.ipynb . El día 04 de octubre está en el noveno puesto en la lista. "
   ]
  },
  {
   "cell_type": "code",
   "execution_count": 41,
   "metadata": {},
   "outputs": [
    {
     "data": {
      "text/html": [
       "<div>\n",
       "<style>\n",
       "    .dataframe thead tr:only-child th {\n",
       "        text-align: right;\n",
       "    }\n",
       "\n",
       "    .dataframe thead th {\n",
       "        text-align: left;\n",
       "    }\n",
       "\n",
       "    .dataframe tbody tr th {\n",
       "        vertical-align: top;\n",
       "    }\n",
       "</style>\n",
       "<table border=\"1\" class=\"dataframe\">\n",
       "  <thead>\n",
       "    <tr style=\"text-align: right;\">\n",
       "      <th></th>\n",
       "      <th>Cantidad</th>\n",
       "    </tr>\n",
       "    <tr>\n",
       "      <th>Date</th>\n",
       "      <th></th>\n",
       "    </tr>\n",
       "  </thead>\n",
       "  <tbody>\n",
       "    <tr>\n",
       "      <th>2016-10-03</th>\n",
       "      <td>114</td>\n",
       "    </tr>\n",
       "    <tr>\n",
       "      <th>2016-10-04</th>\n",
       "      <td>99</td>\n",
       "    </tr>\n",
       "    <tr>\n",
       "      <th>2016-08-08</th>\n",
       "      <td>62</td>\n",
       "    </tr>\n",
       "    <tr>\n",
       "      <th>2016-09-29</th>\n",
       "      <td>58</td>\n",
       "    </tr>\n",
       "    <tr>\n",
       "      <th>2016-10-02</th>\n",
       "      <td>55</td>\n",
       "    </tr>\n",
       "    <tr>\n",
       "      <th>2016-07-07</th>\n",
       "      <td>53</td>\n",
       "    </tr>\n",
       "    <tr>\n",
       "      <th>2016-10-13</th>\n",
       "      <td>52</td>\n",
       "    </tr>\n",
       "    <tr>\n",
       "      <th>2016-08-11</th>\n",
       "      <td>51</td>\n",
       "    </tr>\n",
       "    <tr>\n",
       "      <th>2016-08-31</th>\n",
       "      <td>48</td>\n",
       "    </tr>\n",
       "    <tr>\n",
       "      <th>2016-08-12</th>\n",
       "      <td>48</td>\n",
       "    </tr>\n",
       "  </tbody>\n",
       "</table>\n",
       "</div>"
      ],
      "text/plain": [
       "            Cantidad\n",
       "Date                \n",
       "2016-10-03  114     \n",
       "2016-10-04  99      \n",
       "2016-08-08  62      \n",
       "2016-09-29  58      \n",
       "2016-10-02  55      \n",
       "2016-07-07  53      \n",
       "2016-10-13  52      \n",
       "2016-08-11  51      \n",
       "2016-08-31  48      \n",
       "2016-08-12  48      "
      ]
     },
     "execution_count": 41,
     "metadata": {},
     "output_type": "execute_result"
    }
   ],
   "source": [
    "dfTimesTopDays = dfFrec.groupby(dfFrec['Date']).agg({'ID':'count'})\n",
    "dfTimesTopDays.columns = ['Cantidad']\n",
    "dfTimesTopDays = dfTimesTopDays.sort_values(by='Cantidad', ascending=False)\n",
    "dfTimesTopDays.head(10)"
   ]
  },
  {
   "cell_type": "code",
   "execution_count": null,
   "metadata": {
    "collapsed": true
   },
   "outputs": [],
   "source": [
    "Frecuencia diaria de comentarios "
   ]
  },
  {
   "cell_type": "code",
   "execution_count": 42,
   "metadata": {},
   "outputs": [
    {
     "data": {
      "text/plain": [
       "<matplotlib.axes._subplots.AxesSubplot at 0x7f60c69f8320>"
      ]
     },
     "execution_count": 42,
     "metadata": {},
     "output_type": "execute_result"
    },
    {
     "data": {
      "image/png": "[encoded data removed]",
      "text/plain": [
       "<matplotlib.figure.Figure at 0x7f60c651a5c0>"
      ]
     },
     "metadata": {},
     "output_type": "display_data"
    }
   ],
   "source": [
    "matplotlib.rcParams['figure.figsize'] = (20.0, 4.0)\n",
    "dfTimesTopDays.plot()"
   ]
  },
  {
   "cell_type": "markdown",
   "metadata": {},
   "source": [
    "## Análisis del texto de los comentarios"
   ]
  },
  {
   "cell_type": "code",
   "execution_count": 43,
   "metadata": {
    "collapsed": true
   },
   "outputs": [],
   "source": [
    "from nltk import ngrams\n",
    "import operator\n",
    "from itertools import islice\n",
    "import string \n",
    "from tabulate import tabulate\n",
    "\n",
    "def stopWordsInGrams(grams):    \n",
    "    count = 0\n",
    "    for w in grams:\n",
    "        if w in stop_words_spanish:\n",
    "            count = count + 1                \n",
    "    return count/len(grams)  \n",
    "\n",
    "def isNumber(s):\n",
    "    try: \n",
    "        int(s)\n",
    "        float(s)\n",
    "        return True\n",
    "    except ValueError:\n",
    "        return False\n",
    "\n",
    "def getNGram(text, n, stop_words, m):\n",
    "    text = text.lower()\n",
    "    ngramas = ngrams(text.split(), n)\n",
    "    h_dict = {}   \n",
    "    for grams in ngramas:\n",
    "        if stopWordsInGrams(grams) > 0.34:\n",
    "            continue\n",
    "        words = ' '.join(grams)        \n",
    "        words = words.lower() \n",
    "        words = ''.join(e for e in words if e.isalnum() or e == ' ')    \n",
    "        words = words.strip()  \n",
    "        if  words in stop_words or words in punct_signs or words == '' or words in abc or isNumber(words) or len(words.split(' ')) != n:\n",
    "             continue\n",
    "        if words in h_dict:\n",
    "            h_dict[words] = h_dict[words] + 1\n",
    "        else: \n",
    "            h_dict[words] = 1 \n",
    "    sorted_dict = sorted(h_dict.items(), key=operator.itemgetter(1), reverse=True)\n",
    "    if m is -1:\n",
    "        return list(sorted_dict)\n",
    "    else:\n",
    "        return list(islice(sorted_dict, m))"
   ]
  },
  {
   "cell_type": "code",
   "execution_count": 47,
   "metadata": {
    "collapsed": true
   },
   "outputs": [],
   "source": [
    "stop_words_spanish = ['un', 'una', 'unas', 'unos', 'uno', 'sobre', 'todo', 'también', 'tras', 'otro', 'algún', 'alguno', 'alguna', 'algunos', 'algunas', 'ser', 'es', 'soy', 'eres', 'somos', 'sois', 'estoy', 'esta', 'estamos', 'estais', 'estan', 'como', 'en', 'para', 'atras', 'porque', 'por qué',  'estaba', 'ante', 'antes', 'siendo', 'ambos', 'pero', 'por', 'poder', 'puede', 'puedo', 'podemos', 'podeis', 'pueden', 'fui', 'fue', 'fuimos', 'fueron', 'hacer', 'hago', 'hace', 'hacemos', 'haceis', 'hacen', 'cada', 'fin', 'incluso', 'primero', 'desde', 'conseguir', 'consigo', 'consigue', 'consigues', 'conseguimos', 'consiguen', 'ir', 'voy', 'va', 'vamos', 'vais', 'van', 'vaya', 'gueno', 'ha', 'tener', 'tengo', 'tiene', 'tenemos', 'teneis', 'tienen', 'el', 'la', 'lo', 'las', 'los', 'su', 'aqui', 'mio', 'tuyo', 'ellos', 'ellas', 'nos', 'nosotros', 'vosotros', 'vosotras', 'si', 'dentro', 'solo', 'solamente', 'saber', 'sabes', 'sabe', 'sabemos', 'sabeis', 'saben', 'ultimo', 'largo', 'bastante', 'haces', 'muchos', 'aquellos', 'aquellas', 'sus', 'entonces', 'tiempo', 'verdad', 'verdadero', 'verdadera', 'cierto', 'ciertos', 'cierta', 'ciertas', 'intentar', 'intento', 'intenta', 'intentas', 'intentamos', 'intentais', 'intentan', 'dos', 'bajo', 'arriba', 'encima', 'usar', 'uso', 'usas', 'usa', 'usamos', 'usais', 'usan', 'emplear', 'empleo', 'empleas', 'emplean', 'ampleamos', 'empleais', 'valor', 'muy', 'era', 'eras', 'eramos', 'eran', 'modo', 'bien', 'cual', 'cuando', 'donde', 'mientras', 'quien', 'con', 'entre', 'sin', 'trabajo', 'trabajar', 'trabajas', 'trabaja', 'trabajamos', 'trabajais', 'trabajan', 'podria', 'podrias', 'podriamos', 'podrian', 'podriais', 'yo', 'aquel', 'a', 'en', 'de', 'para', 'por', 'según', 'sin', 'sobre', 'tras', 'bajo', 'contra', 'hacia', 'hasta', 'rt', 'que', 'se', 'no', 'del', 'al', 'http', 'https', 'y', 'más', 'todos', 'año', 'será', 'este', 'vía', 'les', 'ni', 'dice', 'le', 'está', 'qué', 'hay', 'htt', 'quiere', 'nuestra', 'sí', 'of', 'in', 'años', 'firma' , 'firman', 'nuevo', 'hoy', 'ayer', 'inicio', 'ya', 'día','son', 'final', 'and', 'with', 'you', 'mundo', 'gran', 'sol', 'recibe', 'millones',  'gracias', 'hermana', 'fuego', 'me', 'eso',  'we', 'after', 'camino', 'dijo', 'caminos', 'recibirá', 'entiendo', 'mejores', 'mejor', 'deseos', 'lleve', 'nuevamente', 'ahora', 'definitiva', 'ese', 'definitivo', 'han', 'sino', 'tal', 'mismos', 'estos', 'así', 'ver', 'esto', 'esta', 'sido', 'manera', 'sigo', 'da', 'esa', 'aunque', 'están', 'mil', 'además', 'había', 'él', 'después', 'pues', 'vez', 'quienes', 'mi', 'tan', 'mas', 'sea']\n",
    "\n",
    "abc = string.ascii_lowercase \n",
    "punct_signs = string.punctuation"
   ]
  },
  {
   "cell_type": "markdown",
   "metadata": {},
   "source": [
    "## Top 20 Unigramas más frecuentes "
   ]
  },
  {
   "cell_type": "code",
   "execution_count": 48,
   "metadata": {},
   "outputs": [
    {
     "name": "stdout",
     "output_type": "stream",
     "text": [
      "5795 rows affected.\n",
      "Ngram       Number\n",
      "--------  --------\n",
      "paz            687\n",
      "farc           642\n",
      "santos         532\n",
      "país           471\n",
      "colombia       429\n",
      "acuerdo        426\n",
      "gobierno       424\n",
      "uribe          370\n",
      "nada           367\n",
      "dl             348\n",
      "estado         342\n",
      "política       341\n",
      "mismo          317\n",
      "creo           312\n",
      "menos          300\n",
      "parece         285\n",
      "parte          263\n",
      "otros          259\n",
      "gente          257\n",
      "algo           252\n"
     ]
    }
   ],
   "source": [
    "dfText = %%cypher MATCH (n:Comment)-[:IS_ABOUT]-(a:Article{valid:True}) RETURN n.text as Text, n.title as Title, n.date as Date\n",
    "dfText = dfText.get_dataframe()\n",
    "data = '\\n'.join(dfText['Text'].values)\n",
    "final = getNGram(data, 1, stop_words_spanish, 20)\n",
    "print(tabulate(final, ['Ngram', 'Number']))"
   ]
  },
  {
   "cell_type": "markdown",
   "metadata": {},
   "source": [
    "## Top 20 Bigramas más frecuentes"
   ]
  },
  {
   "cell_type": "code",
   "execution_count": 49,
   "metadata": {},
   "outputs": [
    {
     "name": "stdout",
     "output_type": "stream",
     "text": [
      "Ngram                      Number\n",
      "-----------------------  --------\n",
      "vargas lleras                  83\n",
      "reforma tributaria             50\n",
      "corte constitucional           40\n",
      "centro democrático             40\n",
      "silla vacía                    37\n",
      "cambio radical                 30\n",
      "o no                           28\n",
      "conflicto armado               28\n",
      "juan manuel                    27\n",
      "fast track                     27\n",
      "gobierno santos                24\n",
      "dl no                          23\n",
      "d furibe                       23\n",
      "otra cosa                      23\n",
      "extrema derecha                23\n",
      "comunidad internacional        22\n",
      "buen artículo                  22\n",
      "creo q                         21\n",
      "unidad nacional                21\n",
      "parte d                        20\n"
     ]
    }
   ],
   "source": [
    "final5 = getNGram(data, 2, stop_words_spanish, 20)\n",
    "print(tabulate(final5, ['Ngram', 'Number']))"
   ]
  },
  {
   "cell_type": "markdown",
   "metadata": {},
   "source": [
    "## Cantidad de menciones a Juan Manuel Santos"
   ]
  },
  {
   "cell_type": "code",
   "execution_count": 50,
   "metadata": {
    "collapsed": true
   },
   "outputs": [],
   "source": [
    "import re\n",
    "def extract_RegularExpression(text, regExp):\n",
    "    mentions = []\n",
    "    patron = re.compile(regExp)\n",
    "    mentions = patron.findall(text)    \n",
    "    mentions = [tuple(filter(None, x)) for x in mentions]\n",
    "    mentions = [x[0] for x in mentions] \n",
    "    h_dict = {}\n",
    "    for x in mentions:\n",
    "        if x in h_dict:\n",
    "            h_dict[x] = h_dict[x] + 1\n",
    "        else:\n",
    "            h_dict[x] = 1\n",
    "    result = pd.DataFrame(list(h_dict.items()), columns=['Terms', 'Number'])\n",
    "    result = result.set_index('Terms')\n",
    "    result.loc['Total'] = result['Number'].sum()\n",
    "    return result.reset_index()"
   ]
  },
  {
   "cell_type": "code",
   "execution_count": 51,
   "metadata": {},
   "outputs": [
    {
     "data": {
      "text/html": [
       "<style  type=\"text/css\" >\n",
       "    #T_c8879170_86b1_11e7_8d40_7071bc0e4377row0_col0 {\n",
       "            background-color:  ;\n",
       "        }    #T_c8879170_86b1_11e7_8d40_7071bc0e4377row0_col1 {\n",
       "            background-color:  ;\n",
       "        }    #T_c8879170_86b1_11e7_8d40_7071bc0e4377row1_col0 {\n",
       "            background-color:  ;\n",
       "        }    #T_c8879170_86b1_11e7_8d40_7071bc0e4377row1_col1 {\n",
       "            background-color:  ;\n",
       "        }    #T_c8879170_86b1_11e7_8d40_7071bc0e4377row2_col0 {\n",
       "            background-color:  ;\n",
       "        }    #T_c8879170_86b1_11e7_8d40_7071bc0e4377row2_col1 {\n",
       "            background-color:  ;\n",
       "        }    #T_c8879170_86b1_11e7_8d40_7071bc0e4377row3_col0 {\n",
       "            background-color:  ;\n",
       "        }    #T_c8879170_86b1_11e7_8d40_7071bc0e4377row3_col1 {\n",
       "            background-color:  ;\n",
       "        }    #T_c8879170_86b1_11e7_8d40_7071bc0e4377row4_col0 {\n",
       "            background-color:  ;\n",
       "        }    #T_c8879170_86b1_11e7_8d40_7071bc0e4377row4_col1 {\n",
       "            background-color:  ;\n",
       "        }    #T_c8879170_86b1_11e7_8d40_7071bc0e4377row5_col0 {\n",
       "            background-color:  ;\n",
       "        }    #T_c8879170_86b1_11e7_8d40_7071bc0e4377row5_col1 {\n",
       "            background-color:  ;\n",
       "        }    #T_c8879170_86b1_11e7_8d40_7071bc0e4377row6_col0 {\n",
       "            background-color:  yellow;\n",
       "        }    #T_c8879170_86b1_11e7_8d40_7071bc0e4377row6_col1 {\n",
       "            background-color:  yellow;\n",
       "        }</style>  \n",
       "<table id=\"T_c8879170_86b1_11e7_8d40_7071bc0e4377\" > \n",
       "<thead>    <tr> \n",
       "        <th class=\"blank level0\" ></th> \n",
       "        <th class=\"col_heading level0 col0\" >Terms</th> \n",
       "        <th class=\"col_heading level0 col1\" >Number</th> \n",
       "    </tr></thead> \n",
       "<tbody>    <tr> \n",
       "        <th id=\"T_c8879170_86b1_11e7_8d40_7071bc0e4377\" class=\"row_heading level0 row0\" >0</th> \n",
       "        <td id=\"T_c8879170_86b1_11e7_8d40_7071bc0e4377row0_col0\" class=\"data row0 col0\" >presidente santos</td> \n",
       "        <td id=\"T_c8879170_86b1_11e7_8d40_7071bc0e4377row0_col1\" class=\"data row0 col1\" >1</td> \n",
       "    </tr>    <tr> \n",
       "        <th id=\"T_c8879170_86b1_11e7_8d40_7071bc0e4377\" class=\"row_heading level0 row1\" >1</th> \n",
       "        <td id=\"T_c8879170_86b1_11e7_8d40_7071bc0e4377row1_col0\" class=\"data row1 col0\" >Presidente Juan Manuel Santos</td> \n",
       "        <td id=\"T_c8879170_86b1_11e7_8d40_7071bc0e4377row1_col1\" class=\"data row1 col1\" >1</td> \n",
       "    </tr>    <tr> \n",
       "        <th id=\"T_c8879170_86b1_11e7_8d40_7071bc0e4377\" class=\"row_heading level0 row2\" >2</th> \n",
       "        <td id=\"T_c8879170_86b1_11e7_8d40_7071bc0e4377row2_col0\" class=\"data row2 col0\" >Presidente Santos</td> \n",
       "        <td id=\"T_c8879170_86b1_11e7_8d40_7071bc0e4377row2_col1\" class=\"data row2 col1\" >4</td> \n",
       "    </tr>    <tr> \n",
       "        <th id=\"T_c8879170_86b1_11e7_8d40_7071bc0e4377\" class=\"row_heading level0 row3\" >3</th> \n",
       "        <td id=\"T_c8879170_86b1_11e7_8d40_7071bc0e4377row3_col0\" class=\"data row3 col0\" >Juan Manuel Santos</td> \n",
       "        <td id=\"T_c8879170_86b1_11e7_8d40_7071bc0e4377row3_col1\" class=\"data row3 col1\" >16</td> \n",
       "    </tr>    <tr> \n",
       "        <th id=\"T_c8879170_86b1_11e7_8d40_7071bc0e4377\" class=\"row_heading level0 row4\" >4</th> \n",
       "        <td id=\"T_c8879170_86b1_11e7_8d40_7071bc0e4377row4_col0\" class=\"data row4 col0\" >Santos</td> \n",
       "        <td id=\"T_c8879170_86b1_11e7_8d40_7071bc0e4377row4_col1\" class=\"data row4 col1\" >425</td> \n",
       "    </tr>    <tr> \n",
       "        <th id=\"T_c8879170_86b1_11e7_8d40_7071bc0e4377\" class=\"row_heading level0 row5\" >5</th> \n",
       "        <td id=\"T_c8879170_86b1_11e7_8d40_7071bc0e4377row5_col0\" class=\"data row5 col0\" >presidente Santos</td> \n",
       "        <td id=\"T_c8879170_86b1_11e7_8d40_7071bc0e4377row5_col1\" class=\"data row5 col1\" >6</td> \n",
       "    </tr>    <tr> \n",
       "        <th id=\"T_c8879170_86b1_11e7_8d40_7071bc0e4377\" class=\"row_heading level0 row6\" >6</th> \n",
       "        <td id=\"T_c8879170_86b1_11e7_8d40_7071bc0e4377row6_col0\" class=\"data row6 col0\" >Total</td> \n",
       "        <td id=\"T_c8879170_86b1_11e7_8d40_7071bc0e4377row6_col1\" class=\"data row6 col1\" >453</td> \n",
       "    </tr></tbody> \n",
       "</table> "
      ],
      "text/plain": [
       "<pandas.io.formats.style.Styler at 0x7f60a972bda0>"
      ]
     },
     "execution_count": 51,
     "metadata": {},
     "output_type": "execute_result"
    }
   ],
   "source": [
    "santosRegExp = '(([pP]residente[ ]+)*([jJ]uan[ ]+[mM]anuel[ ]+[sS]antos))+|([pP]residente[ ]+[jJ]uan[ ]+[Mm]anuel)+|([pP]residente[ ]+[sS]antos)+|(Santos)+'\n",
    "santos = extract_RegularExpression(data, santosRegExp)\n",
    "santos.style.apply(highlight_cells, axis=1)"
   ]
  },
  {
   "cell_type": "markdown",
   "metadata": {},
   "source": [
    "## 20 Unigramas más frecuentes en la misma oración que 'Santos'"
   ]
  },
  {
   "cell_type": "code",
   "execution_count": 52,
   "metadata": {
    "collapsed": true
   },
   "outputs": [],
   "source": [
    "def getNGramasFrecuencyBySentence(sentences, regExp, term, n, m, lower):\n",
    "    regexpComp = re.compile(regExp)\n",
    "    data_term = ''\n",
    "    for s in sentences: \n",
    "        if regexpComp.search(s.lower() if lower == True else s): \n",
    "            data_term = data_term + '\\n' + s\n",
    "\n",
    "    stop_words = stop_words_spanish\n",
    "    stop_words.append(term)\n",
    "    finalTerm = getNGram(data_term, n,stop_words , m)\n",
    "    print(tabulate(finalTerm, ['Ngram', 'Number']))"
   ]
  },
  {
   "cell_type": "code",
   "execution_count": 53,
   "metadata": {},
   "outputs": [
    {
     "name": "stdout",
     "output_type": "stream",
     "text": [
      "Ngram         Number\n",
      "----------  --------\n",
      "paz               82\n",
      "farc              59\n",
      "uribe             53\n",
      "gobierno          42\n",
      "acuerdo           33\n",
      "presidente        33\n",
      "país              30\n",
      "medios            26\n",
      "nada              25\n",
      "colombia          25\n",
      "proceso           23\n",
      "mermelada         21\n",
      "problema          19\n",
      "acuerdos          19\n",
      "mal               18\n",
      "juan              18\n",
      "furibe            18\n",
      "pueblo            17\n",
      "plebiscito        17\n",
      "otros             17\n"
     ]
    }
   ],
   "source": [
    "getNGramasFrecuencyBySentence(data.split('.'), r'[\\n .,;\\'\\\"]Santos[\\n .,;\\'\\\"]', 'santos', 1, 20, False)"
   ]
  },
  {
   "cell_type": "markdown",
   "metadata": {},
   "source": [
    "## Bigramas más frecuentes en la misma oración que 'Santos'¶"
   ]
  },
  {
   "cell_type": "code",
   "execution_count": 54,
   "metadata": {},
   "outputs": [
    {
     "name": "stdout",
     "output_type": "stream",
     "text": [
      "Ngram                   Number\n",
      "--------------------  --------\n",
      "juan manuel                 15\n",
      "vargas lleras               11\n",
      "reforma tributaria           7\n",
      "q d                          4\n",
      "mal llamada                  4\n",
      "acuerdos políticos           4\n",
      "pueblo colombiano            4\n",
      "partido conservador          3\n",
      "presidente santos            3\n",
      "corte constitucional         3\n",
      "d furibe                     3\n",
      "llamada mermelada            3\n",
      "gobierno santos              3\n",
      "conflicto armado             3\n",
      "hector riveros               3\n",
      "nada bueno                   2\n",
      "la paz                       2\n",
      "hubiera logrado              2\n",
      "sectores sociales            2\n",
      "obsesion enfermiza           2\n"
     ]
    }
   ],
   "source": [
    "getNGramasFrecuencyBySentence(data.split('.'), r'[\\n .,;\\'\\\"]Santos[\\n .,;\\'\\\"]', 'santos', 2, 20, False)"
   ]
  },
  {
   "cell_type": "markdown",
   "metadata": {},
   "source": [
    "## Cantidad de menciones a Álvaro Uribe"
   ]
  },
  {
   "cell_type": "code",
   "execution_count": 55,
   "metadata": {},
   "outputs": [
    {
     "data": {
      "text/html": [
       "<style  type=\"text/css\" >\n",
       "    #T_6c376368_86b2_11e7_8d40_7071bc0e4377row0_col0 {\n",
       "            background-color:  ;\n",
       "        }    #T_6c376368_86b2_11e7_8d40_7071bc0e4377row0_col1 {\n",
       "            background-color:  ;\n",
       "        }    #T_6c376368_86b2_11e7_8d40_7071bc0e4377row1_col0 {\n",
       "            background-color:  ;\n",
       "        }    #T_6c376368_86b2_11e7_8d40_7071bc0e4377row1_col1 {\n",
       "            background-color:  ;\n",
       "        }    #T_6c376368_86b2_11e7_8d40_7071bc0e4377row2_col0 {\n",
       "            background-color:  ;\n",
       "        }    #T_6c376368_86b2_11e7_8d40_7071bc0e4377row2_col1 {\n",
       "            background-color:  ;\n",
       "        }    #T_6c376368_86b2_11e7_8d40_7071bc0e4377row3_col0 {\n",
       "            background-color:  ;\n",
       "        }    #T_6c376368_86b2_11e7_8d40_7071bc0e4377row3_col1 {\n",
       "            background-color:  ;\n",
       "        }    #T_6c376368_86b2_11e7_8d40_7071bc0e4377row4_col0 {\n",
       "            background-color:  yellow;\n",
       "        }    #T_6c376368_86b2_11e7_8d40_7071bc0e4377row4_col1 {\n",
       "            background-color:  yellow;\n",
       "        }</style>  \n",
       "<table id=\"T_6c376368_86b2_11e7_8d40_7071bc0e4377\" > \n",
       "<thead>    <tr> \n",
       "        <th class=\"blank level0\" ></th> \n",
       "        <th class=\"col_heading level0 col0\" >Terms</th> \n",
       "        <th class=\"col_heading level0 col1\" >Number</th> \n",
       "    </tr></thead> \n",
       "<tbody>    <tr> \n",
       "        <th id=\"T_6c376368_86b2_11e7_8d40_7071bc0e4377\" class=\"row_heading level0 row0\" >0</th> \n",
       "        <td id=\"T_6c376368_86b2_11e7_8d40_7071bc0e4377row0_col0\" class=\"data row0 col0\" >Álvaro Uribe</td> \n",
       "        <td id=\"T_6c376368_86b2_11e7_8d40_7071bc0e4377row0_col1\" class=\"data row0 col1\" >5</td> \n",
       "    </tr>    <tr> \n",
       "        <th id=\"T_6c376368_86b2_11e7_8d40_7071bc0e4377\" class=\"row_heading level0 row1\" >1</th> \n",
       "        <td id=\"T_6c376368_86b2_11e7_8d40_7071bc0e4377row1_col0\" class=\"data row1 col0\" >Álvaro Uribe Vélez</td> \n",
       "        <td id=\"T_6c376368_86b2_11e7_8d40_7071bc0e4377row1_col1\" class=\"data row1 col1\" >4</td> \n",
       "    </tr>    <tr> \n",
       "        <th id=\"T_6c376368_86b2_11e7_8d40_7071bc0e4377\" class=\"row_heading level0 row2\" >2</th> \n",
       "        <td id=\"T_6c376368_86b2_11e7_8d40_7071bc0e4377row2_col0\" class=\"data row2 col0\" >Uribe</td> \n",
       "        <td id=\"T_6c376368_86b2_11e7_8d40_7071bc0e4377row2_col1\" class=\"data row2 col1\" >269</td> \n",
       "    </tr>    <tr> \n",
       "        <th id=\"T_6c376368_86b2_11e7_8d40_7071bc0e4377\" class=\"row_heading level0 row3\" >3</th> \n",
       "        <td id=\"T_6c376368_86b2_11e7_8d40_7071bc0e4377row3_col0\" class=\"data row3 col0\" >uribe</td> \n",
       "        <td id=\"T_6c376368_86b2_11e7_8d40_7071bc0e4377row3_col1\" class=\"data row3 col1\" >182</td> \n",
       "    </tr>    <tr> \n",
       "        <th id=\"T_6c376368_86b2_11e7_8d40_7071bc0e4377\" class=\"row_heading level0 row4\" >4</th> \n",
       "        <td id=\"T_6c376368_86b2_11e7_8d40_7071bc0e4377row4_col0\" class=\"data row4 col0\" >Total</td> \n",
       "        <td id=\"T_6c376368_86b2_11e7_8d40_7071bc0e4377row4_col1\" class=\"data row4 col1\" >460</td> \n",
       "    </tr></tbody> \n",
       "</table> "
      ],
      "text/plain": [
       "<pandas.io.formats.style.Styler at 0x7f60a972fe48>"
      ]
     },
     "execution_count": 55,
     "metadata": {},
     "output_type": "execute_result"
    }
   ],
   "source": [
    "uribe = extract_RegularExpression(data, '([áÁ]lvaro[ ]+[uU]ribe[ ]+[vV]élez)+|([áÁ]lvaro[ ]+[uU]ribe)+|([uU]ribe)+|([uU]ribe[ ]+[vV]élez)')\n",
    "uribe.style.apply(highlight_cells, axis=1)"
   ]
  },
  {
   "cell_type": "markdown",
   "metadata": {},
   "source": [
    "## Unigramas más frecuentes en la misma oración que 'Uribe'"
   ]
  },
  {
   "cell_type": "code",
   "execution_count": 56,
   "metadata": {},
   "outputs": [
    {
     "name": "stdout",
     "output_type": "stream",
     "text": [
      "Ngram         Number\n",
      "----------  --------\n",
      "paz               31\n",
      "farc              26\n",
      "gobierno          20\n",
      "mismo             15\n",
      "acuerdo           14\n",
      "decir             13\n",
      "país              13\n",
      "medios            12\n",
      "guerra            11\n",
      "colombia          11\n",
      "pastrana          11\n",
      "plebiscito        11\n",
      "proceso           10\n",
      "claro             10\n",
      "presidente         9\n",
      "gente              9\n",
      "parece             9\n",
      "justicia           9\n",
      "nada               9\n",
      "punto              9\n"
     ]
    }
   ],
   "source": [
    "getNGramasFrecuencyBySentence(data.split('.'), r'[\\n .,;\\'\\\"]Uribe[\\n .,;\\'\\\"]', 'uribe', 1, 20, False)"
   ]
  },
  {
   "cell_type": "markdown",
   "metadata": {},
   "source": [
    "## Bigramas más frecuentes en la misma oración que 'Uribe'"
   ]
  },
  {
   "cell_type": "code",
   "execution_count": 57,
   "metadata": {},
   "outputs": [
    {
     "name": "stdout",
     "output_type": "stream",
     "text": [
      "Ngram                      Number\n",
      "-----------------------  --------\n",
      "centro democrático              6\n",
      "reforma tributaria              4\n",
      "vargas lleras                   3\n",
      "nada blanco                     2\n",
      "conflicto armado                2\n",
      "tiesto despabilensen            2\n",
      "el triunfo                      2\n",
      "la paz                          2\n",
      "status quo                      2\n",
      "mal llamada                     2\n",
      "paramilitares uribistas         2\n",
      "obsesion enfermiza              2\n",
      "mismo nombre                    2\n",
      "puntos particulares             2\n",
      "llamada mermelada               2\n",
      "corte facista                   2\n",
      "negro amigo                     2\n",
      "causara sigue                   2\n",
      "derechos humanos                2\n",
      "sale cuantos                    2\n"
     ]
    }
   ],
   "source": [
    "getNGramasFrecuencyBySentence(data.split('.'), r'[\\n .,;\\'\\\"]Uribe[\\n .,;\\'\\\"]', 'uribe', 2, 20, False)"
   ]
  },
  {
   "cell_type": "markdown",
   "metadata": {},
   "source": [
    "## Top 20 Unigramas en la misma oración que 'Paz'"
   ]
  },
  {
   "cell_type": "code",
   "execution_count": 58,
   "metadata": {},
   "outputs": [
    {
     "name": "stdout",
     "output_type": "stream",
     "text": [
      "Ngram         Number\n",
      "----------  --------\n",
      "farc             123\n",
      "proceso           74\n",
      "acuerdo           56\n",
      "colombia          50\n",
      "guerra            44\n",
      "país              44\n",
      "acuerdos          40\n",
      "gobierno          39\n",
      "enemigos          38\n",
      "plebiscito        32\n",
      "conflicto         31\n",
      "otros             28\n",
      "justicia          28\n",
      "creo              27\n",
      "mentiras          25\n",
      "nada              24\n",
      "estado            23\n",
      "pueblo            23\n",
      "menos             21\n",
      "nobel             20\n"
     ]
    }
   ],
   "source": [
    "sentences = data.split('.')\n",
    "regexp = re.compile(r'[ .,;\\'\\\"]paz[ .,;\\'\\\"]')\n",
    "data_paz = ''\n",
    "for s in sentences: \n",
    "    if regexp.search(s.lower()): \n",
    "        data_paz = data_paz + '\\n' + s\n",
    "\n",
    "stop_words = stop_words_spanish\n",
    "stop_words.append('paz')\n",
    "final2 = getNGram(data_paz, 1,stop_words , 20)\n",
    "print(tabulate(final2, ['Ngram', 'Number']))"
   ]
  },
  {
   "cell_type": "markdown",
   "metadata": {},
   "source": [
    "## Top 20 Bigramas en la misma oración que 'Paz'"
   ]
  },
  {
   "cell_type": "code",
   "execution_count": 59,
   "metadata": {},
   "outputs": [
    {
     "name": "stdout",
     "output_type": "stream",
     "text": [
      "Ngram                      Number\n",
      "-----------------------  --------\n",
      "conflicto armado               11\n",
      "vargas lleras                   7\n",
      "corte constitucional            6\n",
      "fast track                      6\n",
      "acto legislativo                6\n",
      "salud bienestar                 5\n",
      "comunidad internacional         5\n",
      "bienestar educación             5\n",
      "premio nobel                    5\n",
      "empleo salud                    5\n",
      "calidad seguridad               5\n",
      "farc aterrorizan                4\n",
      "clase política                  4\n",
      "actores armados                 4\n",
      "juan manuel                     4\n",
      "fanáticos enemigos              4\n",
      "tema jurídico                   4\n",
      "centro democratico              3\n",
      "canal institucional             3\n",
      "eminencias confunden            3\n"
     ]
    }
   ],
   "source": [
    "final2 = getNGram(data_paz, 2,stop_words , 20)\n",
    "print(tabulate(final2, ['Ngram', 'Number']))"
   ]
  },
  {
   "cell_type": "markdown",
   "metadata": {},
   "source": [
    "## Top 20 Unigramas en la misma oración que 'Estado'"
   ]
  },
  {
   "cell_type": "code",
   "execution_count": 61,
   "metadata": {},
   "outputs": [
    {
     "name": "stdout",
     "output_type": "stream",
     "text": [
      "Ngram         Number\n",
      "----------  --------\n",
      "farc              32\n",
      "dl                29\n",
      "país              27\n",
      "derecho           26\n",
      "mismo             25\n",
      "colombia          22\n",
      "debe              21\n",
      "problema          19\n",
      "gobierno          18\n",
      "colombiano        18\n",
      "social            17\n",
      "creo              16\n",
      "menos             16\n",
      "sociedad          16\n",
      "justicia          16\n",
      "parece            16\n",
      "corrupción        16\n",
      "proceso           15\n",
      "recursos          15\n",
      "parte             15\n"
     ]
    }
   ],
   "source": [
    "sentences = data.split('.')\n",
    "regexp = re.compile(r'[ .,;\\'\\\"]estado[ .,;\\'\\\"]')\n",
    "data_estado = ''\n",
    "for s in sentences: \n",
    "    if regexp.search(s.lower()): \n",
    "        data_estado = data_estado + '\\n' + s\n",
    "\n",
    "stop_words = stop_words_spanish\n",
    "stop_words.append('estado')\n",
    "final3 = getNGram(data_estado, 1,stop_words , 20)\n",
    "print(tabulate(final3, ['Ngram', 'Number']))"
   ]
  },
  {
   "cell_type": "markdown",
   "metadata": {},
   "source": [
    "## Top 20 Bigramas en la misma oración que 'Estado'"
   ]
  },
  {
   "cell_type": "code",
   "execution_count": 62,
   "metadata": {},
   "outputs": [
    {
     "name": "stdout",
     "output_type": "stream",
     "text": [
      "Ngram                        Number\n",
      "-------------------------  --------\n",
      "conflicto armado                  4\n",
      "bienes públicos                   4\n",
      "decirle mentiras                  3\n",
      "salud educación                   3\n",
      "tanta barbarie                    3\n",
      "acciones armadas                  3\n",
      "pequeñas republicas               3\n",
      "esas regiones                     3\n",
      "cabeza dl                         3\n",
      "corte constitucional              3\n",
      "eminencias confunden              3\n",
      "gente diria                       3\n",
      "ex defensor                       3\n",
      "propia d                          3\n",
      "republicas independientes         3\n",
      "ciudadanos hablaron               3\n",
      "hablaron d                        3\n",
      "medios afines                     3\n",
      "tema jurídico                     3\n",
      "d turno                           3\n"
     ]
    }
   ],
   "source": [
    "final4 = getNGram(data_estado, 2,stop_words , 20)\n",
    "print(tabulate(final4, ['Ngram', 'Number']))"
   ]
  },
  {
   "cell_type": "markdown",
   "metadata": {},
   "source": [
    "## Top 20 Unigramas en la misma oración que 'Farc'"
   ]
  },
  {
   "cell_type": "code",
   "execution_count": 64,
   "metadata": {},
   "outputs": [
    {
     "name": "stdout",
     "output_type": "stream",
     "text": [
      "Ngram         Number\n",
      "----------  --------\n",
      "dl                29\n",
      "país              27\n",
      "derecho           26\n",
      "mismo             25\n",
      "colombia          22\n",
      "debe              21\n",
      "problema          19\n",
      "gobierno          18\n",
      "colombiano        18\n",
      "social            17\n",
      "creo              16\n",
      "menos             16\n",
      "sociedad          16\n",
      "justicia          16\n",
      "parece            16\n",
      "corrupción        16\n",
      "proceso           15\n",
      "recursos          15\n",
      "parte             15\n",
      "forma             14\n"
     ]
    }
   ],
   "source": [
    "sentences = data.split('.')\n",
    "regexp = re.compile(r'[ .,;\\'\\\"]estado[ .,;\\'\\\"]')\n",
    "data_farc = ''\n",
    "for s in sentences: \n",
    "    if regexp.search(s.lower()): \n",
    "        data_farc = data_farc + '\\n' + s\n",
    "\n",
    "stop_words = stop_words_spanish\n",
    "stop_words.append('farc')\n",
    "final8 = getNGram(data_farc, 1,stop_words , 20)\n",
    "print(tabulate(final8, ['Ngram', 'Number']))"
   ]
  },
  {
   "cell_type": "markdown",
   "metadata": {},
   "source": [
    "## Top 20 Bigramas en la misma oración que 'Farc'"
   ]
  },
  {
   "cell_type": "code",
   "execution_count": 65,
   "metadata": {},
   "outputs": [
    {
     "name": "stdout",
     "output_type": "stream",
     "text": [
      "Ngram                        Number\n",
      "-------------------------  --------\n",
      "conflicto armado                  4\n",
      "bienes públicos                   4\n",
      "decirle mentiras                  3\n",
      "salud educación                   3\n",
      "tanta barbarie                    3\n",
      "acciones armadas                  3\n",
      "pequeñas republicas               3\n",
      "esas regiones                     3\n",
      "cabeza dl                         3\n",
      "corte constitucional              3\n",
      "eminencias confunden              3\n",
      "gente diria                       3\n",
      "ex defensor                       3\n",
      "propia d                          3\n",
      "republicas independientes         3\n",
      "ciudadanos hablaron               3\n",
      "hablaron d                        3\n",
      "medios afines                     3\n",
      "tema jurídico                     3\n",
      "d turno                           3\n"
     ]
    }
   ],
   "source": [
    "final9 = getNGram(data_farc, 2,stop_words , 20)\n",
    "print(tabulate(final9, ['Ngram', 'Number']))"
   ]
  }
 ],
 "metadata": {
  "kernelspec": {
   "display_name": "Python 3",
   "language": "python",
   "name": "python3"
  },
  "language_info": {
   "codemirror_mode": {
    "name": "ipython",
    "version": 3
   },
   "file_extension": ".py",
   "mimetype": "text/x-python",
   "name": "python",
   "nbconvert_exporter": "python",
   "pygments_lexer": "ipython3",
   "version": "3.5.2"
  }
 },
 "nbformat": 4,
 "nbformat_minor": 2
}
