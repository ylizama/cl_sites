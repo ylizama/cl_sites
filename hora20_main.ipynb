{
 "cells": [
  {
   "cell_type": "code",
   "execution_count": 14,
   "metadata": {},
   "outputs": [],
   "source": [
    "import matplotlib\n",
    "import pandas as pd\n",
    "import matplotlib.pyplot as plt\n",
    "%matplotlib inline\n",
    "pd.set_option('display.max_colwidth', -1)\n",
    "import datetime\n",
    "import locale\n",
    "import math \n",
    "import re   \n",
    "import operator\n",
    "from collections import Counter\n",
    "import json\n",
    "from nltk import ngrams\n",
    "import operator\n",
    "from itertools import islice\n",
    "import string \n",
    "from tabulate import tabulate"
   ]
  },
  {
   "cell_type": "code",
   "execution_count": 2,
   "metadata": {
    "collapsed": true
   },
   "outputs": [],
   "source": [
    "with open('data/hora20.json') as data_file:    \n",
    "    data = json.load(data_file)"
   ]
  },
  {
   "cell_type": "markdown",
   "metadata": {},
   "source": [
    "## Cantidad total de podcasts"
   ]
  },
  {
   "cell_type": "code",
   "execution_count": 3,
   "metadata": {},
   "outputs": [
    {
     "data": {
      "text/plain": [
       "670"
      ]
     },
     "execution_count": 3,
     "metadata": {},
     "output_type": "execute_result"
    }
   ],
   "source": [
    "len(data)"
   ]
  },
  {
   "cell_type": "markdown",
   "metadata": {},
   "source": [
    "# Frecuencia de podcasts"
   ]
  },
  {
   "cell_type": "markdown",
   "metadata": {},
   "source": [
    "## Cantidad de podcasts mensuales "
   ]
  },
  {
   "cell_type": "code",
   "execution_count": 4,
   "metadata": {
    "collapsed": true
   },
   "outputs": [],
   "source": [
    "df = pd.read_json('data/hora20.json', orient='index')"
   ]
  },
  {
   "cell_type": "markdown",
   "metadata": {},
   "source": [
    "#### Line graph"
   ]
  },
  {
   "cell_type": "code",
   "execution_count": 6,
   "metadata": {},
   "outputs": [
    {
     "data": {
      "text/plain": [
       "<matplotlib.axes._subplots.AxesSubplot at 0x7f96ef051518>"
      ]
     },
     "execution_count": 6,
     "metadata": {},
     "output_type": "execute_result"
    },
    {
     "data": {
      "image/png": "[encoded data removed]",
      "text/plain": [
       "<matplotlib.figure.Figure at 0x7f96eedf5438>"
      ]
     },
     "metadata": {},
     "output_type": "display_data"
    }
   ],
   "source": [
    "times = df.string.apply(lambda x: datetime.datetime.strptime(str(x)[:-2], \"%Y%m%d\") if str(x)[:-2] is not 'n' else None)\n",
    "dt_ndx = pd.DatetimeIndex(times)\n",
    "sr = pd.Series([1] * len(dt_ndx), index=dt_ndx)\n",
    "monthly_count = sr.resample('1M').apply('sum')\n",
    "monthly_count = monthly_count.iloc[-12:]\n",
    "monthly_count.plot()"
   ]
  },
  {
   "cell_type": "markdown",
   "metadata": {},
   "source": [
    "#### Tabla con los datos de cada mes: La fecha da el último día del mes pero los datos son del mes completo. "
   ]
  },
  {
   "cell_type": "code",
   "execution_count": 7,
   "metadata": {},
   "outputs": [
    {
     "data": {
      "text/html": [
       "<div>\n",
       "<style>\n",
       "    .dataframe thead tr:only-child th {\n",
       "        text-align: right;\n",
       "    }\n",
       "\n",
       "    .dataframe thead th {\n",
       "        text-align: left;\n",
       "    }\n",
       "\n",
       "    .dataframe tbody tr th {\n",
       "        vertical-align: top;\n",
       "    }\n",
       "</style>\n",
       "<table border=\"1\" class=\"dataframe\">\n",
       "  <thead>\n",
       "    <tr style=\"text-align: right;\">\n",
       "      <th></th>\n",
       "      <th>Number of podcasts</th>\n",
       "    </tr>\n",
       "    <tr>\n",
       "      <th>Month</th>\n",
       "      <th></th>\n",
       "    </tr>\n",
       "  </thead>\n",
       "  <tbody>\n",
       "    <tr>\n",
       "      <th>2016-09-30</th>\n",
       "      <td>133</td>\n",
       "    </tr>\n",
       "    <tr>\n",
       "      <th>2016-08-31</th>\n",
       "      <td>67</td>\n",
       "    </tr>\n",
       "    <tr>\n",
       "      <th>2016-07-31</th>\n",
       "      <td>47</td>\n",
       "    </tr>\n",
       "    <tr>\n",
       "      <th>2016-05-31</th>\n",
       "      <td>39</td>\n",
       "    </tr>\n",
       "    <tr>\n",
       "      <th>2016-01-31</th>\n",
       "      <td>39</td>\n",
       "    </tr>\n",
       "    <tr>\n",
       "      <th>2016-02-29</th>\n",
       "      <td>38</td>\n",
       "    </tr>\n",
       "    <tr>\n",
       "      <th>2016-03-31</th>\n",
       "      <td>35</td>\n",
       "    </tr>\n",
       "    <tr>\n",
       "      <th>2016-04-30</th>\n",
       "      <td>34</td>\n",
       "    </tr>\n",
       "    <tr>\n",
       "      <th>2016-11-30</th>\n",
       "      <td>31</td>\n",
       "    </tr>\n",
       "    <tr>\n",
       "      <th>2016-06-30</th>\n",
       "      <td>28</td>\n",
       "    </tr>\n",
       "    <tr>\n",
       "      <th>2016-12-31</th>\n",
       "      <td>24</td>\n",
       "    </tr>\n",
       "    <tr>\n",
       "      <th>2016-10-31</th>\n",
       "      <td>24</td>\n",
       "    </tr>\n",
       "  </tbody>\n",
       "</table>\n",
       "</div>"
      ],
      "text/plain": [
       "            Number of podcasts\n",
       "Month                         \n",
       "2016-09-30  133               \n",
       "2016-08-31  67                \n",
       "2016-07-31  47                \n",
       "2016-05-31  39                \n",
       "2016-01-31  39                \n",
       "2016-02-29  38                \n",
       "2016-03-31  35                \n",
       "2016-04-30  34                \n",
       "2016-11-30  31                \n",
       "2016-06-30  28                \n",
       "2016-12-31  24                \n",
       "2016-10-31  24                "
      ]
     },
     "execution_count": 7,
     "metadata": {},
     "output_type": "execute_result"
    }
   ],
   "source": [
    "monthly_count.sort_values(ascending = False, inplace=True)\n",
    "mf = monthly_count.to_frame()\n",
    "mf.columns = ['Number of podcasts']\n",
    "mf.index.names = ['Month']\n",
    "mf"
   ]
  },
  {
   "cell_type": "markdown",
   "metadata": {},
   "source": [
    "#### Pie chart de porcientos mensuales. "
   ]
  },
  {
   "cell_type": "code",
   "execution_count": 8,
   "metadata": {},
   "outputs": [
    {
     "data": {
      "image/png": "[encoded data removed]",
      "text/plain": [
       "<matplotlib.figure.Figure at 0x7f96eb82fda0>"
      ]
     },
     "metadata": {},
     "output_type": "display_data"
    }
   ],
   "source": [
    "matplotlib.rcParams['figure.figsize'] = (6.0,6.0)\n",
    "\n",
    "mf = mf.reset_index()\n",
    "mf.sort_values(by='Month',ascending = True, inplace=True)\n",
    "labels = ['Enero', 'Febrero', 'Marzo','Abril','Mayo','Junio','Julio','Agosto','Septiembre','Octubre', 'Noviembre', 'Diciembre']\n",
    "sizes = mf['Number of podcasts'].values\n",
    "explode = (0, 0, 0, 0, 0, 0, 0, 0, 0, 0, 0, 0) \n",
    "\n",
    "fig1, ax1 = plt.subplots()\n",
    "ax1.pie(sizes, explode=explode, labels=labels, autopct='%1.1f%%',\n",
    "        shadow=True, startangle=90)\n",
    "ax1.axis('equal')  \n",
    "\n",
    "plt.show()"
   ]
  },
  {
   "cell_type": "markdown",
   "metadata": {},
   "source": [
    "# Topics"
   ]
  },
  {
   "cell_type": "markdown",
   "metadata": {},
   "source": [
    "## 25 Temas generales más abordados"
   ]
  },
  {
   "cell_type": "markdown",
   "metadata": {},
   "source": [
    "###### Estas estadísticas salen del tema general de cada programa. VoiceBase da a cada trasncripción 1 o 2 temas generales, además de los temas específicos que se trataron en cada texto cuyo análisis está debajo. "
   ]
  },
  {
   "cell_type": "code",
   "execution_count": 15,
   "metadata": {},
   "outputs": [
    {
     "name": "stdout",
     "output_type": "stream",
     "text": [
      "Tema                       Cantidad de podcasts\n",
      "-----------------------  ----------------------\n",
      "Derecho                                      63\n",
      "Derechos                                     33\n",
      "Funcionarios                                 33\n",
      "Justicia                                     24\n",
      "Policía                                      22\n",
      "Terminología filosófica                      18\n",
      "Estado                                       16\n",
      "Ciencia                                      13\n",
      "Política                                     13\n",
      "Sociología                                   13\n",
      "Comunidad                                    12\n",
      "Economía                                     12\n",
      "Ocupaciones                                   9\n",
      "Ciencia política                              9\n",
      "Sociología política                           9\n",
      "Términos                                      9\n",
      "Gobierno                                      9\n",
      "Derecho constitucional                        8\n",
      "Términos jurídicos                            8\n",
      "Guerra                                        8\n",
      "Poder                                         8\n",
      "Contratos                                     8\n",
      "Democracia                                    7\n",
      "Diplomacia                                    7\n",
      "Derechos humanos                              7\n"
     ]
    }
   ],
   "source": [
    "topics = {}\n",
    "for t in df['general_topics']:\n",
    "    for j in t:\n",
    "        if j not in topics:\n",
    "            topics[j] = 1\n",
    "        else:\n",
    "            topics[j] = topics[j] + 1\n",
    "sorted_dict = sorted(topics.items(), key=operator.itemgetter(1), reverse=True)\n",
    "\n",
    "print(tabulate(list(islice(sorted_dict, 25)), ['Tema', 'Cantidad de podcasts']))"
   ]
  },
  {
   "cell_type": "markdown",
   "metadata": {},
   "source": [
    "## 50 Temas ampliados"
   ]
  },
  {
   "cell_type": "code",
   "execution_count": 16,
   "metadata": {},
   "outputs": [
    {
     "name": "stdout",
     "output_type": "stream",
     "text": [
      "Temas                           Cantidad de podcasts\n",
      "----------------------------  ----------------------\n",
      "Ciencia política                                 491\n",
      "Derecho constitucional                           472\n",
      "Terminología filosófica                          454\n",
      "Gobierno                                         431\n",
      "Poder ejecutivo                                  419\n",
      "Términos jurídicos                               402\n",
      "Funcionarios administrativos                     402\n",
      "Instituciones                                    393\n",
      "Sociología política                              383\n",
      "Términos de geografía                            379\n",
      "Mercadotecnia                                    374\n",
      "Guerra                                           366\n",
      "Comunicación                                     363\n",
      "Sociología de la cultura                         359\n",
      "Derecho                                          338\n",
      "Terminología económica                           336\n",
      "Política                                         332\n",
      "Empresa                                          310\n",
      "Geografía rural                                  308\n",
      "Escalafón militar                                305\n",
      "Entidades subnacionales                          296\n",
      "Jefatura de gobierno                             294\n",
      "Poder legislativo                                292\n",
      "Psicología                                       282\n",
      "Demografía                                       282\n",
      "Violencia                                        277\n",
      "Derecho mercantil                                263\n",
      "Educación                                        250\n",
      "Psicología social                                233\n",
      "Ciencias sociales                                233\n",
      "Antropología                                     231\n",
      "Filosofía del Derecho                            228\n",
      "Derecho procesal                                 226\n",
      "Días de la semana                                225\n",
      "Ocupaciones                                      224\n",
      "Medios de comunicación                           224\n",
      "Administración                                   221\n",
      "Números enteros                                  220\n",
      "Industria                                        211\n",
      "Comercio                                         209\n",
      "Tipos de texto                                   207\n",
      "Finanzas                                         194\n",
      "Nombres masculinos                               193\n",
      "Magnitudes físicas                               192\n",
      "Lógica                                           190\n",
      "Derecho de obligaciones                          184\n",
      "Macroeconomía                                    183\n",
      "Derecho civil                                    182\n",
      "Contratos                                        178\n",
      "Derecho internacional                            178\n"
     ]
    }
   ],
   "source": [
    "temas = {}\n",
    "for t in df['topics']:\n",
    "    for key in t.keys():\n",
    "        if key not in temas:\n",
    "            temas[key] = 1\n",
    "        else:\n",
    "            temas[key] = temas[key] + 1\n",
    "sorted_dict1 = sorted(temas.items(), key=operator.itemgetter(1), reverse=True)\n",
    "print(tabulate(list(islice(sorted_dict1, 50)), ['Temas', 'Cantidad de podcasts']))\n",
    "        "
   ]
  },
  {
   "cell_type": "markdown",
   "metadata": {
    "collapsed": true
   },
   "source": [
    "# Natural Language Processing"
   ]
  },
  {
   "cell_type": "code",
   "execution_count": 17,
   "metadata": {
    "collapsed": true
   },
   "outputs": [],
   "source": [
    "def stopWordsInGrams(grams):    \n",
    "    count = 0\n",
    "    for w in grams:\n",
    "        if w in stop_words_spanish:\n",
    "            count = count + 1                \n",
    "    return count/len(grams)  \n",
    "\n",
    "def isNumber(s):\n",
    "    try: \n",
    "        int(s)\n",
    "        float(s)\n",
    "        return True\n",
    "    except ValueError:\n",
    "        return False\n",
    "\n",
    "def getNGram(text, n, stop_words, m):\n",
    "    text = text.lower()\n",
    "    ngramas = ngrams(text.split(), n)\n",
    "    h_dict = {}   \n",
    "    for grams in ngramas:\n",
    "        if stopWordsInGrams(grams) > 0.34:\n",
    "            continue\n",
    "        words = ' '.join(grams)        \n",
    "        words = words.lower() \n",
    "        words = ''.join(e for e in words if e.isalnum() or e == ' ')    \n",
    "        words = words.strip()  \n",
    "        if  words in stop_words or words in punct_signs or words == '' or words in abc or isNumber(words) or len(words.split(' ')) != n:\n",
    "             continue\n",
    "        if words in h_dict:\n",
    "            h_dict[words] = h_dict[words] + 1\n",
    "        else: \n",
    "            h_dict[words] = 1 \n",
    "    sorted_dict = sorted(h_dict.items(), key=operator.itemgetter(1), reverse=True)\n",
    "    if m is -1:\n",
    "        return list(sorted_dict)\n",
    "    else:\n",
    "        return list(islice(sorted_dict, m))"
   ]
  },
  {
   "cell_type": "code",
   "execution_count": 116,
   "metadata": {
    "collapsed": true
   },
   "outputs": [],
   "source": [
    "stop_words_spanish = ['un', 'una', 'unas', 'unos', 'uno', 'sobre', 'todo', 'también', 'tras', 'otro', 'algún', 'alguno', 'alguna', 'algunos', 'algunas', 'ser', 'es', 'soy', 'eres', 'somos', 'sois', 'estoy', 'esta', 'estamos', 'estais', 'estan', 'como', 'en', 'para', 'atras', 'porque', 'por qué',  'estaba', 'ante', 'antes', 'siendo', 'ambos', 'pero', 'por', 'poder', 'puede', 'puedo', 'podemos', 'podeis', 'pueden', 'fui', 'fue', 'fuimos', 'fueron', 'hacer', 'hago', 'hace', 'hacemos', 'haceis', 'hacen', 'cada', 'fin', 'incluso', 'primero', 'desde', 'conseguir', 'consigo', 'consigue', 'consigues', 'conseguimos', 'consiguen', 'ir', 'voy', 'va', 'vamos', 'vais', 'van', 'vaya', 'gueno', 'ha', 'tener', 'tengo', 'tiene', 'tenemos', 'teneis', 'tienen', 'el', 'la', 'lo', 'las', 'los', 'su', 'aqui', 'mio', 'tuyo', 'ellos', 'ellas', 'nos', 'nosotros', 'vosotros', 'vosotras', 'si', 'dentro', 'solo', 'solamente', 'saber', 'sabes', 'sabe', 'sabemos', 'sabeis', 'saben', 'ultimo', 'largo', 'bastante', 'haces', 'muchos', 'aquellos', 'aquellas', 'sus', 'entonces', 'tiempo', 'verdad', 'verdadero', 'verdadera', 'cierto', 'ciertos', 'cierta', 'ciertas', 'intentar', 'intento', 'intenta', 'intentas', 'intentamos', 'intentais', 'intentan', 'dos', 'bajo', 'arriba', 'encima', 'usar', 'uso', 'usas', 'usa', 'usamos', 'usais', 'usan', 'emplear', 'empleo', 'empleas', 'emplean', 'ampleamos', 'empleais', 'valor', 'muy', 'era', 'eras', 'eramos', 'eran', 'modo', 'bien', 'cual', 'cuando', 'donde', 'mientras', 'quien', 'con', 'entre', 'sin', 'trabajo', 'trabajar', 'trabajas', 'trabaja', 'trabajamos', 'trabajais', 'trabajan', 'podria', 'podrias', 'podriamos', 'podrian', 'podriais', 'yo', 'aquel', 'a', 'en', 'de', 'para', 'por', 'según', 'sin', 'sobre', 'tras', 'bajo', 'contra', 'hacia', 'hasta', 'rt', 'que', 'se', 'no', 'del', 'al', 'http', 'https', 'y', 'más', 'todos', 'año', 'será', 'este', 'vía', 'les', 'ni', 'dice', 'le', 'está', 'qué', 'hay', 'htt', 'quiere', 'nuestra', 'sí', 'of', 'in', 'años', 'firma' , 'firman', 'nuevo', 'hoy', 'ayer', 'inicio', 'ya', 'día','son', 'final', 'and', 'with', 'you', 'mundo', 'gran', 'sol', 'recibe', 'millones',  'gracias', 'hermana', 'fuego', 'me', 'eso',  'we', 'after', 'camino', 'dijo', 'caminos', 'recibirá', 'entiendo', 'mejores', 'mejor', 'deseos', 'lleve', 'nuevamente', 'ahora', 'definitiva', 'ese', 'definitivo', 'han', 'sino', 'tal', 'mismos', 'estos', 'así', 'ver', 'esto', 'esta', 'sido', 'manera', 'sigo', 'da', 'esa', 'aunque', 'están', 'mil', 'además', 'había', 'él', 'después', 'pues', 'vez', 'quienes', 'ms', 'tambin', 'pas', 'estn', 'aos', 'aqu', 'fonts total', 'table contains', 'font table', 'contains 2' , 'command is' ,'2 fonts', 'info command' ,'comment info' ,  'total authors', 'is null ', 'authors comment', 'est', 'tres', 'cinco', 'minuto', 'mucho', 'as', 'mucho ms' , 'o sea','cuatro' ,'com co']\n",
    "\n",
    "abc = string.ascii_lowercase \n",
    "punct_signs = string.punctuation"
   ]
  },
  {
   "cell_type": "markdown",
   "metadata": {
    "collapsed": true
   },
   "source": [
    "## Top 20 Unigramas más frecuentes "
   ]
  },
  {
   "cell_type": "code",
   "execution_count": 112,
   "metadata": {
    "collapsed": true
   },
   "outputs": [],
   "source": [
    "file = open('data/texts/txt/full_text.txt', 'r')\n",
    "data = file.read() \n",
    "file.close()"
   ]
  },
  {
   "cell_type": "code",
   "execution_count": 113,
   "metadata": {},
   "outputs": [
    {
     "name": "stdout",
     "output_type": "stream",
     "text": [
      "Ngram         Number\n",
      "----------  --------\n",
      "gobierno        6837\n",
      "tema            6791\n",
      "colombia        6550\n",
      "creo            6324\n",
      "acuerdo         6150\n",
      "proceso         6099\n",
      "presidente      5602\n",
      "paz             5424\n",
      "ciento          5383\n",
      "minutos         4628\n",
      "nacional        4125\n",
      "parte           4047\n",
      "decir           4006\n",
      "personas        3890\n",
      "farc            3718\n",
      "otros           3599\n",
      "momento         3593\n",
      "noche           3576\n",
      "estado          3547\n",
      "cuatro          3520\n"
     ]
    }
   ],
   "source": [
    "final1 = getNGram(data, 1, stop_words_spanish, 20)\n",
    "print(tabulate(final1, ['Ngram', 'Number']))"
   ]
  },
  {
   "cell_type": "markdown",
   "metadata": {},
   "source": [
    "## Top 20 Bigramas más frecuentes"
   ]
  },
  {
   "cell_type": "code",
   "execution_count": 117,
   "metadata": {},
   "outputs": [
    {
     "name": "stdout",
     "output_type": "stream",
     "text": [
      "Ngram                   Number\n",
      "--------------------  --------\n",
      "estados unidos            2522\n",
      "caracol radio             2037\n",
      "buenas noches             1420\n",
      "presidente santos          904\n",
      "centro democrtico          839\n",
      "corte constitucional       764\n",
      "is null                    670\n",
      "naciones unidas            559\n",
      "corte suprema              546\n",
      "juan manuel                537\n",
      "manuel santos              522\n",
      "gobierno nacional          516\n",
      "reforma tributaria         415\n",
      "ltima hora                 413\n",
      "juan carlos                401\n",
      "derechos humanos           393\n",
      "hillary clinton            367\n",
      "otras cosas                357\n",
      "hora veinte                351\n",
      "otra cosa                  349\n"
     ]
    }
   ],
   "source": [
    "final2 = getNGram(data, 2, stop_words_spanish, 20)\n",
    "print(tabulate(final2, ['Ngram', 'Number'])) "
   ]
  },
  {
   "cell_type": "markdown",
   "metadata": {},
   "source": [
    "## Cantidad de menciones a Juan Manuel Santos "
   ]
  },
  {
   "cell_type": "markdown",
   "metadata": {},
   "source": [
    "##### Se incluye el término 'Santos' también pero es posible que se utilice sin referirse al presidente. Solo se cuenta las veces que aparece en letra inicial mayúscula "
   ]
  },
  {
   "cell_type": "code",
   "execution_count": 77,
   "metadata": {
    "collapsed": true
   },
   "outputs": [],
   "source": [
    "import re\n",
    "def extract_RegularExpression(text, regExp):\n",
    "    mentions = []\n",
    "    patron = re.compile(regExp)\n",
    "    mentions = patron.findall(text)    \n",
    "    mentions = [tuple(filter(None, x)) for x in mentions]\n",
    "    mentions = [x[0] for x in mentions] \n",
    "    h_dict = {}\n",
    "    for x in mentions:\n",
    "        if x in h_dict:\n",
    "            h_dict[x] = h_dict[x] + 1\n",
    "        else:\n",
    "            h_dict[x] = 1\n",
    "    result = pd.DataFrame(list(h_dict.items()), columns=['Terms', 'Number'])\n",
    "    result = result.set_index('Terms')\n",
    "    result.loc['Total'] = result['Number'].sum()\n",
    "    return result.reset_index()"
   ]
  },
  {
   "cell_type": "code",
   "execution_count": 79,
   "metadata": {},
   "outputs": [
    {
     "data": {
      "text/html": [
       "<div>\n",
       "<style>\n",
       "    .dataframe thead tr:only-child th {\n",
       "        text-align: right;\n",
       "    }\n",
       "\n",
       "    .dataframe thead th {\n",
       "        text-align: left;\n",
       "    }\n",
       "\n",
       "    .dataframe tbody tr th {\n",
       "        vertical-align: top;\n",
       "    }\n",
       "</style>\n",
       "<table border=\"1\" class=\"dataframe\">\n",
       "  <thead>\n",
       "    <tr style=\"text-align: right;\">\n",
       "      <th></th>\n",
       "      <th>Terms</th>\n",
       "      <th>Number</th>\n",
       "    </tr>\n",
       "  </thead>\n",
       "  <tbody>\n",
       "    <tr>\n",
       "      <th>0</th>\n",
       "      <td>presidente Juan Manuel santos</td>\n",
       "      <td>301</td>\n",
       "    </tr>\n",
       "    <tr>\n",
       "      <th>1</th>\n",
       "      <td>Presidente Juan Manuel santos</td>\n",
       "      <td>9</td>\n",
       "    </tr>\n",
       "    <tr>\n",
       "      <th>2</th>\n",
       "      <td>presidente santos</td>\n",
       "      <td>808</td>\n",
       "    </tr>\n",
       "    <tr>\n",
       "      <th>3</th>\n",
       "      <td>presidente Juan Manuel</td>\n",
       "      <td>1</td>\n",
       "    </tr>\n",
       "    <tr>\n",
       "      <th>4</th>\n",
       "      <td>Presidente santos</td>\n",
       "      <td>102</td>\n",
       "    </tr>\n",
       "    <tr>\n",
       "      <th>5</th>\n",
       "      <td>Juan Manuel santos</td>\n",
       "      <td>183</td>\n",
       "    </tr>\n",
       "    <tr>\n",
       "      <th>6</th>\n",
       "      <td>Santos</td>\n",
       "      <td>5</td>\n",
       "    </tr>\n",
       "    <tr>\n",
       "      <th>7</th>\n",
       "      <td>Total</td>\n",
       "      <td>1409</td>\n",
       "    </tr>\n",
       "  </tbody>\n",
       "</table>\n",
       "</div>"
      ],
      "text/plain": [
       "                           Terms  Number\n",
       "0  presidente Juan Manuel santos  301   \n",
       "1  Presidente Juan Manuel santos  9     \n",
       "2  presidente santos              808   \n",
       "3  presidente Juan Manuel         1     \n",
       "4  Presidente santos              102   \n",
       "5  Juan Manuel santos             183   \n",
       "6  Santos                         5     \n",
       "7  Total                          1409  "
      ]
     },
     "execution_count": 79,
     "metadata": {},
     "output_type": "execute_result"
    }
   ],
   "source": [
    "santosRegExp = '(([pP]residente[ ]+)*([jJ]uan[ ]+[mM]anuel[ ]+[sS]antos))+|([pP]residente[ ]+[jJ]uan[ ]+[Mm]anuel)+|([pP]residente[ ]+[sS]antos)+|(Santos)+'\n",
    "extract_RegularExpression(data, santosRegExp)\n"
   ]
  },
  {
   "cell_type": "markdown",
   "metadata": {},
   "source": [
    "## 20  Unigramas más frecuentes en la misma oración que 'Santos'"
   ]
  },
  {
   "cell_type": "code",
   "execution_count": 121,
   "metadata": {
    "collapsed": true
   },
   "outputs": [],
   "source": [
    "def getNGramasFrecuencyBySentence(sentences, regExp, term, n, m, lower):\n",
    "    regexpComp = re.compile(regExp)\n",
    "    data_term = ''\n",
    "    for s in sentences: \n",
    "        if regexpComp.search(s.lower() if lower == True else s): \n",
    "            data_term = data_term + '\\n' + s\n",
    "\n",
    "    stop_words = stop_words_spanish\n",
    "    stop_words.append(term)\n",
    "    finalTerm = getNGram(data_term, n,stop_words , m)\n",
    "    print(tabulate(finalTerm, ['Ngram', 'Number']))"
   ]
  },
  {
   "cell_type": "code",
   "execution_count": 125,
   "metadata": {},
   "outputs": [
    {
     "name": "stdout",
     "output_type": "stream",
     "text": [
      "Ngram         Number\n",
      "----------  --------\n",
      "presidente      1914\n",
      "paz              978\n",
      "gobierno         882\n",
      "juan             640\n",
      "acuerdo          613\n",
      "colombia         596\n",
      "proceso          571\n",
      "manuel           543\n",
      "farc             501\n",
      "minutos          500\n",
      "tema             477\n",
      "creo             408\n",
      "nacional         398\n",
      "noche            356\n",
      "ciento           324\n",
      "parte            323\n",
      "uribe            307\n",
      "general          306\n",
      "plebiscito       294\n",
      "acuerdos         279\n"
     ]
    }
   ],
   "source": [
    "getNGramasFrecuencyBySentence(data.split('.'), r'[\\n .,;\\'\\\"]santos[\\n .,;\\'\\\"]', 'santos', 1, 20, False)"
   ]
  },
  {
   "cell_type": "markdown",
   "metadata": {},
   "source": [
    "## Bigramas más frecuentes en la misma oración que 'Santos'"
   ]
  },
  {
   "cell_type": "code",
   "execution_count": 126,
   "metadata": {},
   "outputs": [
    {
     "name": "stdout",
     "output_type": "stream",
     "text": [
      "Ngram                   Number\n",
      "--------------------  --------\n",
      "juan manuel                495\n",
      "presidente juan            309\n",
      "manuel santos              237\n",
      "estados unidos             170\n",
      "presidente santos          166\n",
      "caracol radio              131\n",
      "buenas noches              116\n",
      "centro democrtico          106\n",
      "naciones unidas             79\n",
      "corte constitucional        76\n",
      "lvaro uribe                 75\n",
      "gobierno nacional           61\n",
      "is null                     56\n",
      "presidente uribe            53\n",
      "reforma tributaria          47\n",
      "premio nobel                46\n",
      "derechos humanos            43\n",
      "corte suprema               41\n",
      "ex presidente               40\n",
      "plan colombia               40\n"
     ]
    }
   ],
   "source": [
    "getNGramasFrecuencyBySentence(data.split('.'), r'[\\n .,;\\'\\\"]santos[\\n .,;\\'\\\"]', 'santos', 2, 20, False)"
   ]
  },
  {
   "cell_type": "markdown",
   "metadata": {},
   "source": [
    "## Cantidad de menciones a Álvaro Uribe"
   ]
  },
  {
   "cell_type": "code",
   "execution_count": 83,
   "metadata": {},
   "outputs": [
    {
     "data": {
      "text/html": [
       "<div>\n",
       "<style>\n",
       "    .dataframe thead tr:only-child th {\n",
       "        text-align: right;\n",
       "    }\n",
       "\n",
       "    .dataframe thead th {\n",
       "        text-align: left;\n",
       "    }\n",
       "\n",
       "    .dataframe tbody tr th {\n",
       "        vertical-align: top;\n",
       "    }\n",
       "</style>\n",
       "<table border=\"1\" class=\"dataframe\">\n",
       "  <thead>\n",
       "    <tr style=\"text-align: right;\">\n",
       "      <th></th>\n",
       "      <th>Terms</th>\n",
       "      <th>Number</th>\n",
       "    </tr>\n",
       "  </thead>\n",
       "  <tbody>\n",
       "    <tr>\n",
       "      <th>0</th>\n",
       "      <td>Álvaro Uribe</td>\n",
       "      <td>2</td>\n",
       "    </tr>\n",
       "    <tr>\n",
       "      <th>1</th>\n",
       "      <td>Uribe</td>\n",
       "      <td>1280</td>\n",
       "    </tr>\n",
       "    <tr>\n",
       "      <th>2</th>\n",
       "      <td>Total</td>\n",
       "      <td>1282</td>\n",
       "    </tr>\n",
       "  </tbody>\n",
       "</table>\n",
       "</div>"
      ],
      "text/plain": [
       "          Terms  Number\n",
       "0  Álvaro Uribe  2     \n",
       "1  Uribe         1280  \n",
       "2  Total         1282  "
      ]
     },
     "execution_count": 83,
     "metadata": {},
     "output_type": "execute_result"
    }
   ],
   "source": [
    "extract_RegularExpression(data, '([áÁ]lvaro[ ]+[uU]ribe[ ]+[vV]élez)+|([áÁ]lvaro[ ]+[uU]ribe)+|([uU]ribe)+|([uU]ribe[ ]+[vV]élez)')"
   ]
  },
  {
   "cell_type": "markdown",
   "metadata": {},
   "source": [
    "## Unigramas más frecuentes en la misma oración que 'Uribe'"
   ]
  },
  {
   "cell_type": "code",
   "execution_count": 127,
   "metadata": {},
   "outputs": [
    {
     "name": "stdout",
     "output_type": "stream",
     "text": [
      "Ngram           Number\n",
      "------------  --------\n",
      "presidente         752\n",
      "gobierno           461\n",
      "acuerdo            421\n",
      "paz                420\n",
      "proceso            347\n",
      "lvaro              328\n",
      "farc               295\n",
      "creo               294\n",
      "tema               280\n",
      "centro             267\n",
      "democrtico         225\n",
      "expresidente       222\n",
      "minutos            215\n",
      "justicia           208\n",
      "colombia           200\n",
      "corte              194\n",
      "parece             191\n",
      "caso               188\n",
      "decir              188\n",
      "nacional           179\n"
     ]
    }
   ],
   "source": [
    "getNGramasFrecuencyBySentence(data.split('.'), r'[\\n .,;\\'\\\"]Uribe[\\n .,;\\'\\\"]', 'uribe', 1, 20, False)"
   ]
  },
  {
   "cell_type": "markdown",
   "metadata": {},
   "source": [
    "## Bigramas más frecuentes en la misma oración que 'Uribe'"
   ]
  },
  {
   "cell_type": "code",
   "execution_count": 128,
   "metadata": {},
   "outputs": [
    {
     "name": "stdout",
     "output_type": "stream",
     "text": [
      "Ngram                   Number\n",
      "--------------------  --------\n",
      "centro democrtico          192\n",
      "expresidente lvaro          86\n",
      "ex presidente               76\n",
      "estados unidos              67\n",
      "presidente lvaro            65\n",
      "lvaro uribe                 60\n",
      "presidente uribe            60\n",
      "corte constitucional        54\n",
      "senador lvaro               50\n",
      "buenas noches               45\n",
      "caracol radio               44\n",
      "corte suprema               41\n",
      "juan manuel                 41\n",
      "acuerdo nacional            32\n",
      "is null                     29\n",
      "presidente juan             26\n",
      "presidente santos           25\n",
      "naciones unidas             24\n",
      "santiago uribe              24\n",
      "expresidente uribe          24\n"
     ]
    }
   ],
   "source": [
    "getNGramasFrecuencyBySentence(data.split('.'), r'[\\n .,;\\'\\\"]Uribe[\\n .,;\\'\\\"]', 'uribe', 2, 20, False)"
   ]
  },
  {
   "cell_type": "markdown",
   "metadata": {},
   "source": [
    "## Top 20 Nombres más mencionados"
   ]
  },
  {
   "cell_type": "markdown",
   "metadata": {},
   "source": [
    "###### Se eliminaron las entradas de Santos e Uribe porque aparece el análisis en celdas anteriores. "
   ]
  },
  {
   "cell_type": "code",
   "execution_count": 87,
   "metadata": {},
   "outputs": [],
   "source": [
    "file  = open('../spanish_names.txt', 'r')  \n",
    "spanish_names = file.readlines()\n",
    "spanish_names = [s[:-1] for s in spanish_names]"
   ]
  },
  {
   "cell_type": "code",
   "execution_count": 88,
   "metadata": {
    "collapsed": true
   },
   "outputs": [],
   "source": [
    "def extractNamesAndEntities(text):\n",
    "    i = 0\n",
    "    hdict = {}\n",
    "    patron = re.compile('(([A-ZÁÉÍÓÚÑÜ]{1}[a-zñáéíóúü]+)([ ]+de[ ]+la[ ]+)?([ ]+de[ ]+)?([ ]+del[ ]+)?([ ]*[A-ZÁÉÍÓÚÑÜ]{1}[a-zñáéíóúü]+)*)')\n",
    "    names = patron.findall(text)\n",
    "    names = [x[0] for x in names if x[0].lower() not in stop_words_spanish]\n",
    "    for k in names:\n",
    "        k = k.strip()\n",
    "        for n in spanish_names:            \n",
    "            if(n is not '' and (n + ' ' in k.upper() or ' ' + n in k.upper() or n == k.upper()) ):       \n",
    "                if(k in hdict.keys()):\n",
    "                    hdict[k] = hdict[k] + 1\n",
    "                else:\n",
    "                    hdict[k] = 1\n",
    "                break\n",
    "    return hdict\n",
    "\n",
    "def printTopMNames(hdict, m):    \n",
    "    sorted_dict = sorted(hdict.items(), key=operator.itemgetter(1), reverse=True)\n",
    "    return list(islice(sorted_dict, m))"
   ]
  },
  {
   "cell_type": "code",
   "execution_count": 89,
   "metadata": {},
   "outputs": [
    {
     "name": "stdout",
     "output_type": "stream",
     "text": [
      "Name            Number\n",
      "------------  --------\n",
      "Diana              378\n",
      "Israel             299\n",
      "Carlos             276\n",
      "Obama              264\n",
      "Francisco          254\n",
      "Javier             252\n",
      "Rodrigo            227\n",
      "Florida            204\n",
      "Jorge              194\n",
      "Orlando            188\n",
      "Juan               184\n",
      "Alejandro          180\n",
      "Fernando           179\n",
      "Nueva York         179\n",
      "Santiago           169\n",
      "Rafael             160\n",
      "Barack Obama       150\n",
      "Casa Blanca        140\n",
      "Juan Carlos        137\n",
      "Miguel             131\n"
     ]
    }
   ],
   "source": [
    "hdict = extractNamesAndEntities(data)\n",
    "final = printTopMNames(hdict, 23)\n",
    "del final[0]\n",
    "del final[1]\n",
    "del final[15]\n",
    "print(tabulate(final, ['Name', 'Number']))"
   ]
  },
  {
   "cell_type": "markdown",
   "metadata": {},
   "source": [
    "## Top 20 Unigramas en la misma oración que 'Paz'"
   ]
  },
  {
   "cell_type": "code",
   "execution_count": 129,
   "metadata": {},
   "outputs": [
    {
     "name": "stdout",
     "output_type": "stream",
     "text": [
      "Ngram         Number\n",
      "----------  --------\n",
      "proceso         2005\n",
      "acuerdo         1887\n",
      "gobierno        1543\n",
      "presidente      1463\n",
      "farc            1388\n",
      "colombia        1276\n",
      "tema            1110\n",
      "creo             998\n",
      "acuerdos         860\n",
      "plebiscito       774\n",
      "justicia         708\n",
      "congreso         678\n",
      "minutos          670\n",
      "decir            629\n",
      "conflicto        619\n",
      "nacional         613\n",
      "parte            604\n",
      "poltica          601\n",
      "corte            534\n",
      "parece           515\n"
     ]
    }
   ],
   "source": [
    "sentences = data.split('.')\n",
    "regexp = re.compile(r'[ .,;\\'\\\"]paz[ .,;\\'\\\"]')\n",
    "data_paz = ''\n",
    "for s in sentences: \n",
    "    if regexp.search(s.lower()): \n",
    "        data_paz = data_paz + '\\n' + s\n",
    "\n",
    "stop_words = stop_words_spanish\n",
    "stop_words.append('paz')\n",
    "final2 = getNGram(data_paz, 1,stop_words , 20)\n",
    "print(tabulate(final2, ['Ngram', 'Number']))"
   ]
  },
  {
   "cell_type": "markdown",
   "metadata": {},
   "source": [
    "## Top 20 Bigramas en la misma oración que 'Paz'"
   ]
  },
  {
   "cell_type": "code",
   "execution_count": 130,
   "metadata": {},
   "outputs": [
    {
     "name": "stdout",
     "output_type": "stream",
     "text": [
      "Ngram                    Number\n",
      "---------------------  --------\n",
      "estados unidos              262\n",
      "buenas noches               237\n",
      "centro democrtico           234\n",
      "caracol radio               224\n",
      "corte constitucional        204\n",
      "juan manuel                 200\n",
      "naciones unidas             149\n",
      "presidente juan             142\n",
      "justicia transicional       113\n",
      "is null                     100\n",
      "manuel santos                96\n",
      "gobierno nacional            91\n",
      "jurisdiccin especial         87\n",
      "corte suprema                81\n",
      "conflicto armado             80\n",
      "acto legislativo             79\n",
      "premio nobel                 78\n",
      "fernando cristo              76\n",
      "reforma tributaria           74\n",
      "derechos humanos             73\n"
     ]
    }
   ],
   "source": [
    "final2 = getNGram(data_paz, 2,stop_words , 20)\n",
    "print(tabulate(final2, ['Ngram', 'Number']))"
   ]
  },
  {
   "cell_type": "markdown",
   "metadata": {},
   "source": [
    "## Top 20 Unigramas en la misma oración que 'farc'"
   ]
  },
  {
   "cell_type": "code",
   "execution_count": 131,
   "metadata": {},
   "outputs": [
    {
     "name": "stdout",
     "output_type": "stream",
     "text": [
      "Ngram         Number\n",
      "----------  --------\n",
      "acuerdo         1605\n",
      "gobierno        1322\n",
      "proceso         1192\n",
      "presidente       883\n",
      "creo             827\n",
      "tema             790\n",
      "colombia         706\n",
      "acuerdos         615\n",
      "parte            586\n",
      "poltica          498\n",
      "decir            496\n",
      "parece           486\n",
      "estado           449\n",
      "justicia         439\n",
      "conflicto        439\n",
      "congreso         430\n",
      "minutos          420\n",
      "momento          415\n",
      "armas            407\n",
      "guerrilla        405\n"
     ]
    }
   ],
   "source": [
    "sentences = data.split('.')\n",
    "regexp = re.compile(r'[ .,;\\'\\\"]farc[ .,;\\'\\\"]')\n",
    "data_farc = ''\n",
    "for s in sentences: \n",
    "    if regexp.search(s.lower()): \n",
    "        data_farc = data_farc + '\\n' + s\n",
    "\n",
    "stop_words = stop_words_spanish\n",
    "stop_words.append('farc')\n",
    "final8 = getNGram(data_farc, 1,stop_words , 20)\n",
    "print(tabulate(final8, ['Ngram', 'Number']))"
   ]
  },
  {
   "cell_type": "markdown",
   "metadata": {},
   "source": [
    "## Top 20 Bigramas en la misma oración que 'farc'"
   ]
  },
  {
   "cell_type": "code",
   "execution_count": 132,
   "metadata": {},
   "outputs": [
    {
     "name": "stdout",
     "output_type": "stream",
     "text": [
      "Ngram                    Number\n",
      "---------------------  --------\n",
      "naciones unidas             183\n",
      "centro democrtico           173\n",
      "estados unidos              170\n",
      "caracol radio               128\n",
      "buenas noches               121\n",
      "corte constitucional        113\n",
      "fuerza pblica                99\n",
      "juan manuel                  94\n",
      "justicia transicional        75\n",
      "gobierno nacional            74\n",
      "presidente juan              65\n",
      "is null                      64\n",
      "conflicto armado             56\n",
      "otras cosas                  51\n",
      "acto legislativo             50\n",
      "fuerzas militares            49\n",
      "cese bilateral               47\n",
      "corte suprema                43\n",
      "jurisdiccin especial         42\n",
      "pos conflicto                41\n"
     ]
    }
   ],
   "source": [
    "final9 = getNGram(data_farc, 2,stop_words , 20)\n",
    "print(tabulate(final9, ['Ngram', 'Number']))"
   ]
  },
  {
   "cell_type": "markdown",
   "metadata": {},
   "source": [
    "## Top 20 Unigramas en la misma oración que 'Estado'"
   ]
  },
  {
   "cell_type": "code",
   "execution_count": 133,
   "metadata": {},
   "outputs": [
    {
     "name": "stdout",
     "output_type": "stream",
     "text": [
      "Ngram         Number\n",
      "----------  --------\n",
      "gobierno         930\n",
      "tema             882\n",
      "creo             776\n",
      "presidente       714\n",
      "proceso          701\n",
      "colombia         680\n",
      "acuerdo          661\n",
      "parte            540\n",
      "estados          489\n",
      "caso             476\n",
      "personas         476\n",
      "decir            463\n",
      "justicia         457\n",
      "consejo          449\n",
      "poltica          444\n",
      "ciento           434\n",
      "nacional         429\n",
      "digamos          421\n",
      "minutos          420\n",
      "parece           412\n"
     ]
    }
   ],
   "source": [
    "sentences = data.split('.')\n",
    "regexp = re.compile(r'[ .,;\\'\\\"]estado[ .,;\\'\\\"]')\n",
    "data_estado = ''\n",
    "for s in sentences: \n",
    "    if regexp.search(s.lower()): \n",
    "        data_estado = data_estado + '\\n' + s\n",
    "\n",
    "stop_words = stop_words_spanish\n",
    "stop_words.append('estado')\n",
    "final3 = getNGram(data_estado, 1,stop_words , 20)\n",
    "print(tabulate(final3, ['Ngram', 'Number']))"
   ]
  },
  {
   "cell_type": "markdown",
   "metadata": {},
   "source": [
    "## Top 20 Bigramas en la misma oración que 'Estado'"
   ]
  },
  {
   "cell_type": "code",
   "execution_count": 134,
   "metadata": {},
   "outputs": [
    {
     "name": "stdout",
     "output_type": "stream",
     "text": [
      "Ngram                   Number\n",
      "--------------------  --------\n",
      "estados unidos             383\n",
      "buenas noches              134\n",
      "corte suprema              123\n",
      "caracol radio              120\n",
      "centro democrtico           82\n",
      "corte constitucional        79\n",
      "hillary clinton             77\n",
      "is null                     72\n",
      "derechos humanos            72\n",
      "fuerza pblica               65\n",
      "juan manuel                 63\n",
      "naciones unidas             56\n",
      "asamblea nacional           48\n",
      "otra cosa                   46\n",
      "reforma tributaria          46\n",
      "gobierno nacional           43\n",
      "otras cosas                 40\n",
      "alejandro ordez             38\n",
      "nicols maduro               38\n",
      "juan carlos                 37\n"
     ]
    }
   ],
   "source": [
    "final4 = getNGram(data_estado, 2,stop_words , 20)\n",
    "print(tabulate(final4, ['Ngram', 'Number']))"
   ]
  },
  {
   "cell_type": "markdown",
   "metadata": {},
   "source": [
    "## Top 20 Fechas más mencionadas"
   ]
  },
  {
   "cell_type": "code",
   "execution_count": 96,
   "metadata": {
    "collapsed": true
   },
   "outputs": [],
   "source": [
    "def store_dates(regExp, text, datesDict):\n",
    "    patron = re.compile(regExp)\n",
    "    for m in patron.finditer(text):\n",
    "        if m.group() in datesDict:\n",
    "            datesDict[m.group()].append(m.start())\n",
    "        else:\n",
    "            datesDict[m.group()] = [m.start()]    \n",
    "    return datesDict\n",
    "\n",
    "def extract_dates(text, datesDict):\n",
    "    regExp1 = '((primero|uno|dos|tres|cuatro|cinco|seis|siete|ocho|nueve|diez|once|doce|trece|catorce|quince|dieciséis|diecisiete|dieciocho|diecinueve|veinte|veintiuno|vientidos|veintitres|veinticuatro|veinticinco|veintiséis|veintisiete|veintiocho|veintinueve|treinta|treinta y uno|([0-9]{2}|[1-9]{1})) de (enero|febrero|marzo|abril|mayo|junio|julio|agosto|septiembre|octubre|noviembre|diciembre|([0-9]{2}|[1-9]{1})) de ((mil|dos mil) (cien|doscientos|trescientos|cuatrocientos|quinientos|seiscientos|setecientos|ochocientos|novecientos)( dieci| veinti| treinta y| cuarenta y| cincuenta y| sesenta y| setenta y| ochenta y| noventa y)?( )?(uno|dos|tres|cuatro|cinco|seis|séis|siete|ocho|nueve|diez|once|doce|trece|catorce|quince)|[0-9]{4}))'\n",
    "    \n",
    "    regExp2 = '(([0-9]{2}|[1-9]{1})[-/]([0-9]{2}|[1-9]{1})[-/]([0-9]{4}))'   \n",
    "    \n",
    "    regExp3 = '((enero|febrero|marzo|abril|mayo|junio|julio|agosto|septiembre|octubre|noviembre|diciembre)? (del|de|desde|desde el) (primero|uno|dos|tres|cuatro|cinco|seis|siete|ocho|nueve|diez|once|doce|trece|catorce|quince|dieciséis|diecisiete|dieciocho|diecinueve|veinte|veintiuno|vientidos|veintitres|veinticuatro|veinticinco|veintiséis|veintisiete|veintiocho|veintinueve|treinta|treinta y uno|([0-9]{2}|[1-9]{1}))( al )(primero|uno|dos|tres|cuatro|cinco|seis|siete|ocho|nueve|diez|once|doce|trece|catorce|quince|dieciséis|diecisiete|dieciocho|diecinueve|veinte|veintiuno|vientidos|veintitres|veinticuatro|veinticinco|veintiséis|veintisiete|veintiocho|veintinueve|treinta|treinta y uno|([0-9]{2}|[1-9]{1}))( de )?(enero|febrero|marzo|abril|mayo|junio|julio|agosto|septiembre|octubre|noviembre|diciembre)?( de )?(((mil|dos mil) (cien|doscientos|trescientos|cuatrocientos|quinientos|seiscientos|setecientos|ochocientos|novecientos)( dieci| veinti| treinta y| cuarenta y| cincuenta y| sesenta y| setenta y| ochenta y| noventa y)?( )?(uno|dos|tres|cuatro|cinco|seis|séis|siete|ocho|nueve|diez|once|doce|trece|catorce|quince))|[0-9]{4})?)'\n",
    "                         \n",
    "    regExp4 = '(((pasado|próximo|siguiente)( )+((lunes)|(martes)|(miércoles)|(jueves)|(viernes)|(sábado)|(domingo))( )+(primero|uno|dos|tres|cuatro|cinco|seis|siete|ocho|nueve|diez|once|doce|trece|catorce|quince|dieciséis|diecisiete|dieciocho|diecinueve|veinte|veintiuno|vientidos|veintitres|veinticuatro|veinticinco|veintiséis|veintisiete|veintiocho|veintinueve|treinta|treinta y uno|([0-9]{2}|[1-9]{1})))|(((lunes)|(martes)|(miércoles)|(jueves)|(viernes)|(sábado)|(domingo))( )+ (pasado|próximo|siguiente|(que( )+viene))))'\n",
    "    \n",
    "    regExp5 = '((enero|febrero|marzo|abril|mayo|junio|julio|agosto|septiembre|octubre|noviembre|diciembre) (a|hasta) (enero|febrero|marzo|abril|mayo|junio|julio|agosto|septiembre|octubre|noviembre|diciembre)( )?(de|del)?( )?(((mil|dos mil) (cien|doscientos|trescientos|cuatrocientos|quinientos|seiscientos|setecientos|ochocientos|novecientos)( dieci| veinti| treinta y| cuarenta y| cincuenta y| sesenta y| setenta y| ochenta y| noventa y)?( )?(uno|dos|tres|cuatro|cinco|seis|séis|siete|ocho|nueve|diez|once|doce|trece|catorce|quince))|([0-9]{4}))?)'\n",
    "   \n",
    "    regExp6 = '((((mil|dos mil) (cien|doscientos|trescientos|cuatrocientos|quinientos|seiscientos|setecientos|ochocientos|novecientos)( dieci| veinti| treinta y| cuarenta y| cincuenta y| sesenta y| setenta y| ochenta y| noventa y)?( )+(uno|dos|tres|cuatro|cinco|seis|séis|siete|ocho|nueve|diez|once|doce|trece|catorce|quince))|([0-9]{4}))( )+(a|al)( )+(((dos mil|mil)( )+(cien|doscientos|trescientos|cuatrocientos|quinientos|seiscientos|setecientos|ochocientos|novecientos)?( )+(dieci| veinti|treinta y|cuarenta y|cincuenta y|sesenta y|setenta y|ochenta y|noventa y)?( )+(uno|dos|tres|cuatro|cinco|seis|séis|siete|ocho|nueve|diez|once|doce|trece|catorce|quince))|([0-9]{4})))'\n",
    "                         \n",
    "    regExp7 = '((enero|febrero|marzo|abril|mayo|junio|julio|agosto|septiembre|octubre|noviembre|diciembre)( )+(primero|uno|dos|tres|cuatro|cinco|seis|siete|ocho|nueve|diez|once|doce|trece|catorce|quince|dieciséis|diecisiete|dieciocho|diecinueve|veinte|veintiuno|vientidos|veintitres|veinticuatro|veinticinco|veintiséis|veintisiete|veintiocho|veintinueve|treinta|treinta y uno|([0-9]{2}|[1-9]{1}))( (a)( )(enero|febrero|marzo|abril|mayo|junio|julio|agosto|septiembre|octubre|noviembre|diciembre) (primero|uno|dos|tres|cuatro|cinco|seis|siete|ocho|nueve|diez|once|doce|trece|catorce|quince|dieciséis|diecisiete|dieciocho|diecinueve|veinte|veintiuno|vientidos|veintitres|veinticuatro|veinticinco|veintiséis|veintisiete|veintiocho|veintinueve|treinta|treinta y uno|([0-9]{2}|[1-9]{1})))?)'\n",
    "    \n",
    "    regExp8 = '((primero|uno|dos|tres|cuatro|cinco|seis|siete|ocho|nueve|diez|once|doce|trece|catorce|quince|dieciséis|diecisiete|dieciocho|diecinueve|veinte|veintiuno|vientidos|veintitres|veinticuatro|veinticinco|veintiséis|veintisiete|veintiocho|veintinueve|treinta|treinta y uno|([0-9]{2}|[1-9]{1})) (de) (enero|febrero|marzo|abril|mayo|junio|julio|agosto|septiembre|octubre|noviembre|diciembre) (al|hasta|hasta el) (primero|uno|dos|tres|cuatro|cinco|seis|siete|ocho|nueve|diez|once|doce|trece|catorce|quince|dieciséis|diecisiete|dieciocho|diecinueve|veinte|veintiuno|vientidos|veintitres|veinticuatro|veinticinco|veintiséis|veintisiete|veintiocho|veintinueve|treinta|treinta y uno|([0-9]{2}|[1-9]{1})) (de) (enero|febrero|marzo|abril|mayo|junio|julio|agosto|septiembre|octubre|noviembre|diciembre))'\n",
    "         \n",
    "    datesDict = store_dates(regExp1, text, datesDict)\n",
    "    datesDict = store_dates(regExp2, text, datesDict)\n",
    "    datesDict = store_dates(regExp3, text, datesDict)\n",
    "    datesDict = store_dates(regExp4, text, datesDict)\n",
    "    datesDict = store_dates(regExp5, text, datesDict)\n",
    "    datesDict = store_dates(regExp6, text, datesDict)\n",
    "    datesDict = store_dates(regExp7, text, datesDict)\n",
    "    datesDict = store_dates(regExp8, text, datesDict)\n",
    "    return datesDict"
   ]
  },
  {
   "cell_type": "code",
   "execution_count": 98,
   "metadata": {},
   "outputs": [],
   "source": [
    "datesD = extract_dates(data.lower(), datesD)"
   ]
  },
  {
   "cell_type": "code",
   "execution_count": 99,
   "metadata": {},
   "outputs": [
    {
     "data": {
      "text/html": [
       "<div>\n",
       "<style>\n",
       "    .dataframe thead tr:only-child th {\n",
       "        text-align: right;\n",
       "    }\n",
       "\n",
       "    .dataframe thead th {\n",
       "        text-align: left;\n",
       "    }\n",
       "\n",
       "    .dataframe tbody tr th {\n",
       "        vertical-align: top;\n",
       "    }\n",
       "</style>\n",
       "<table border=\"1\" class=\"dataframe\">\n",
       "  <thead>\n",
       "    <tr style=\"text-align: right;\">\n",
       "      <th></th>\n",
       "      <th>Dates</th>\n",
       "      <th>Number</th>\n",
       "    </tr>\n",
       "  </thead>\n",
       "  <tbody>\n",
       "    <tr>\n",
       "      <th>87</th>\n",
       "      <td>diciembre dos</td>\n",
       "      <td>25</td>\n",
       "    </tr>\n",
       "    <tr>\n",
       "      <th>96</th>\n",
       "      <td>octubre dos</td>\n",
       "      <td>16</td>\n",
       "    </tr>\n",
       "    <tr>\n",
       "      <th>95</th>\n",
       "      <td>del primero al siete de febrero</td>\n",
       "      <td>15</td>\n",
       "    </tr>\n",
       "    <tr>\n",
       "      <th>117</th>\n",
       "      <td>noviembre dos</td>\n",
       "      <td>14</td>\n",
       "    </tr>\n",
       "    <tr>\n",
       "      <th>23</th>\n",
       "      <td>enero dos</td>\n",
       "      <td>14</td>\n",
       "    </tr>\n",
       "    <tr>\n",
       "      <th>132</th>\n",
       "      <td>abril dos</td>\n",
       "      <td>14</td>\n",
       "    </tr>\n",
       "    <tr>\n",
       "      <th>121</th>\n",
       "      <td>julio dos</td>\n",
       "      <td>12</td>\n",
       "    </tr>\n",
       "    <tr>\n",
       "      <th>156</th>\n",
       "      <td>del primero al treinta</td>\n",
       "      <td>11</td>\n",
       "    </tr>\n",
       "    <tr>\n",
       "      <th>113</th>\n",
       "      <td>mayo dos</td>\n",
       "      <td>8</td>\n",
       "    </tr>\n",
       "    <tr>\n",
       "      <th>12</th>\n",
       "      <td>septiembre dos</td>\n",
       "      <td>8</td>\n",
       "    </tr>\n",
       "    <tr>\n",
       "      <th>76</th>\n",
       "      <td>junio dos</td>\n",
       "      <td>8</td>\n",
       "    </tr>\n",
       "    <tr>\n",
       "      <th>134</th>\n",
       "      <td>febrero dos</td>\n",
       "      <td>7</td>\n",
       "    </tr>\n",
       "    <tr>\n",
       "      <th>126</th>\n",
       "      <td>agosto dos</td>\n",
       "      <td>7</td>\n",
       "    </tr>\n",
       "    <tr>\n",
       "      <th>84</th>\n",
       "      <td>siete de marzo al primero de abril</td>\n",
       "      <td>7</td>\n",
       "    </tr>\n",
       "    <tr>\n",
       "      <th>165</th>\n",
       "      <td>del once al catorce de agosto</td>\n",
       "      <td>6</td>\n",
       "    </tr>\n",
       "    <tr>\n",
       "      <th>111</th>\n",
       "      <td>marzo dos</td>\n",
       "      <td>6</td>\n",
       "    </tr>\n",
       "    <tr>\n",
       "      <th>40</th>\n",
       "      <td>primero de diciembre al quince de enero</td>\n",
       "      <td>6</td>\n",
       "    </tr>\n",
       "    <tr>\n",
       "      <th>103</th>\n",
       "      <td>octubre once</td>\n",
       "      <td>6</td>\n",
       "    </tr>\n",
       "    <tr>\n",
       "      <th>91</th>\n",
       "      <td>veintinueve de septiembre al dos de octubre</td>\n",
       "      <td>6</td>\n",
       "    </tr>\n",
       "    <tr>\n",
       "      <th>157</th>\n",
       "      <td>del tres al cuatro de</td>\n",
       "      <td>6</td>\n",
       "    </tr>\n",
       "  </tbody>\n",
       "</table>\n",
       "</div>"
      ],
      "text/plain": [
       "                                           Dates  Number\n",
       "87   diciembre dos                                25    \n",
       "96   octubre dos                                  16    \n",
       "95    del primero al siete de febrero             15    \n",
       "117  noviembre dos                                14    \n",
       "23   enero dos                                    14    \n",
       "132  abril dos                                    14    \n",
       "121  julio dos                                    12    \n",
       "156   del primero al treinta                      11    \n",
       "113  mayo dos                                     8     \n",
       "12   septiembre dos                               8     \n",
       "76   junio dos                                    8     \n",
       "134  febrero dos                                  7     \n",
       "126  agosto dos                                   7     \n",
       "84   siete de marzo al primero de abril           7     \n",
       "165   del once al catorce de agosto               6     \n",
       "111  marzo dos                                    6     \n",
       "40   primero de diciembre al quince de enero      6     \n",
       "103  octubre once                                 6     \n",
       "91   veintinueve de septiembre al dos de octubre  6     \n",
       "157   del tres al cuatro de                       6     "
      ]
     },
     "execution_count": 99,
     "metadata": {},
     "output_type": "execute_result"
    }
   ],
   "source": [
    "newDict = {}\n",
    "for key, value in datesD.items():\n",
    "    newDict[key] = len(value)\n",
    "result = pd.DataFrame(list(newDict.items()), columns=['Dates', 'Number'])\n",
    "result = result.sort_values(by='Number', ascending=False)\n",
    "result = result[:20]\n",
    "result"
   ]
  },
  {
   "cell_type": "markdown",
   "metadata": {},
   "source": [
    "## Nombres mencionados cerca de las fechas más mencionadas. "
   ]
  },
  {
   "cell_type": "markdown",
   "metadata": {},
   "source": [
    "##### Se tomaron 1000 caracteres hacia atrás y 1000 hacia adelante a partir de la posición de la fecha encontrada. El tamaño de la ventana es de 2000. "
   ]
  },
  {
   "cell_type": "code",
   "execution_count": 101,
   "metadata": {},
   "outputs": [
    {
     "name": "stdout",
     "output_type": "stream",
     "text": [
      "\n",
      "Date:  siete de marzo al primero de abril\n",
      "Name                      Number\n",
      "----------------------  --------\n",
      "Julio Csar Ruiz Alfaro         1\n",
      "Hugo                           1\n",
      "\n",
      "Date:  enero dos\n",
      "Name      Number\n",
      "------  --------\n",
      "Israel         1\n",
      "\n",
      "Date:  veintinueve de septiembre al dos de octubre\n",
      "Name                       Number\n",
      "-----------------------  --------\n",
      "Universidad del Rosario         2\n",
      "Javier Prez                     1\n",
      "Leticia Wood                    1\n",
      "Jorge                           1\n",
      "Francisco Richter               1\n",
      "\n",
      "Date:  diciembre dos\n",
      "Name                   Number\n",
      "-------------------  --------\n",
      "Oeste de Nueva York         1\n",
      "Manuel                      1\n",
      "\n",
      "Date:  junio dos\n",
      "Name                    Number\n",
      "--------------------  --------\n",
      "Nueva York                   1\n",
      "Luis Javier Mosquera         1\n",
      "Alejandra Camacho            1\n",
      "Santiago de Chile            1\n",
      "\n",
      "Date:  octubre once\n",
      "Name                       Number\n",
      "-----------------------  --------\n",
      "Universidad del Rosario         1\n",
      "\n",
      "Date:  mayo dos\n",
      "Name            Number\n",
      "------------  --------\n",
      "Francisco            1\n",
      "Julia                1\n",
      "Luis Gonzalo         1\n",
      "Luis                 1\n",
      "\n",
      "Date:  noviembre dos\n",
      "Name                      Number\n",
      "----------------------  --------\n",
      "Jorge Fernando Perdomo         1\n",
      "\n",
      "Date:  julio dos\n",
      "Name                  Number\n",
      "------------------  --------\n",
      "Juan Carlos Osorio         1\n",
      "\n",
      "Date:   del once al catorce de agosto\n",
      "Name            Number\n",
      "------------  --------\n",
      "Juan Rulfo           1\n",
      "San Bernardo         1\n",
      "\n",
      "Date:  febrero dos\n",
      "Name                    Number\n",
      "--------------------  --------\n",
      "Javier                       1\n",
      "Irma Morn                    1\n",
      "Juan                         1\n",
      "Helen Felipe Gonzlez         1\n",
      "\n",
      "Date:  abril dos\n",
      "Name           Number\n",
      "-----------  --------\n",
      "San Antonio         1\n",
      "Antonio             1\n",
      "\n",
      "Date:  septiembre dos\n",
      "Name                          Number\n",
      "--------------------------  --------\n",
      "Ivn Cepeda Johana Rodrguez         1\n",
      "Jos Luis Sabori                    1\n",
      "William Hernndez                   1\n",
      "Fernando                           1\n",
      "\n",
      "Date:  agosto dos\n",
      "Name         Number\n",
      "---------  --------\n",
      "Magdalena         3\n",
      "Ana Beln          1\n",
      "\n",
      "Date:   del primero al siete de febrero\n",
      "Name      Number\n",
      "------  --------\n",
      "Xavier         1\n",
      "\n",
      "Date:   del primero al treinta\n",
      "Name              Number\n",
      "--------------  --------\n",
      "Paulino Rivero         1\n",
      "Javier Duarte          1\n",
      "\n",
      "Date:   del tres al cuatro de \n",
      "Name         Number\n",
      "---------  --------\n",
      "Francisco         1\n",
      "Alejandro         1\n",
      "\n",
      "Date:  marzo dos\n",
      "Name                  Number\n",
      "------------------  --------\n",
      "Carmen San Calixto         1\n",
      "Mara Rosario               1\n"
     ]
    }
   ],
   "source": [
    "for key, value in datesD.items():\n",
    "    if key not in result['Dates'].values:\n",
    "        continue\n",
    "    for x in value:\n",
    "        start = 0 if x<1000 else x-1000\n",
    "        end = len(data)-1 if ((x + 1000) > (len(data)-1)) else (x + 1000)\n",
    "        windows_data = data[start:end] \n",
    "        namesdict = extractNamesAndEntities(windows_data)\n",
    "    if len(namesdict) > 0: \n",
    "        print('\\nDate: ', key)\n",
    "        finalNames = printTopMNames(namesdict, 10)\n",
    "        print(tabulate(finalNames, ['Name', 'Number']))"
   ]
  }
 ],
 "metadata": {
  "kernelspec": {
   "display_name": "Python 3",
   "language": "python",
   "name": "python3"
  },
  "language_info": {
   "codemirror_mode": {
    "name": "ipython",
    "version": 3
   },
   "file_extension": ".py",
   "mimetype": "text/x-python",
   "name": "python",
   "nbconvert_exporter": "python",
   "pygments_lexer": "ipython3",
   "version": "3.5.2"
  }
 },
 "nbformat": 4,
 "nbformat_minor": 2
}
