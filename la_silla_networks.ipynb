{
 "cells": [
  {
   "cell_type": "code",
   "execution_count": 1,
   "metadata": {
    "collapsed": true
   },
   "outputs": [],
   "source": [
    "%reload_ext cypher\n",
    "import matplotlib\n",
    "import pandas as pd\n",
    "import matplotlib.pyplot as plt\n",
    "%matplotlib inline\n"
   ]
  },
  {
   "cell_type": "code",
   "execution_count": 3,
   "metadata": {},
   "outputs": [
    {
     "name": "stdout",
     "output_type": "stream",
     "text": [
      "2055 rows affected.\n"
     ]
    }
   ],
   "source": [
    "articles  = %cypher MATCH (n:Article) RETURN n.hid as id ,n.title as title,  n.valid as valid, n.date as date, n.no_views as views, n.section as section\n",
    "articles.get_dataframe().to_csv('graphs/articles.csv', sep=\"|\")\n",
    "\n",
    "authors  = %cypher MATCH (n:Author) RETURN n.aid as id ,n.name as name\n",
    "authors.get_dataframe().to_csv('graphs/authors.csv', sep=\"|\")\n",
    "\n",
    "comments  = %cypher MATCH (n:Comment) RETURN n.cid as id, n.date as date\n",
    "comments.get_dataframe().to_csv('graphs/comments.csv', sep=\"|\")\n",
    "\n",
    "topics  = %cypher MATCH (n:Topic) RETURN n.tid as id, n.topic as topic\n",
    "topics.get_dataframe().to_csv('graphs/topics.csv', sep=\"|\")\n",
    "\n",
    "users  = %cypher MATCH (n:User) RETURN n.uid as id, n.name as name\n",
    "users.get_dataframe().to_csv('graphs/users.csv', sep=\"|\")\n",
    "\n",
    "comments_rel  = %cypher MATCH (u)-[r:COMMENTS]->(c) RETURN u.uid as Source, c.cid as Target , type(r) as Label\n",
    "comments_rel.get_dataframe().to_csv('graphs/comments_rel.csv', sep=\"|\")\n",
    "\n",
    "has_rel  = %cypher MATCH (h)-[r:HAS]->(t) RETURN h.hid as Source, t.tid as Target, type(r) as Label\n",
    "has_rel.get_dataframe().to_csv('graphs/has_rel.csv', sep=\"|\")\n",
    "\n",
    "context_rel  = %cypher MATCH (h)-[r:IN_CONTEXT_WITH]->(h2) RETURN h.hid as Source, h2.hid as Target, type(r) as Label\n",
    "context_rel.get_dataframe().to_csv('graphs/context_rel.csv', sep=\"|\")\n",
    "\n",
    "relates_rel  = %cypher MATCH (h)-[r:RELATES]->(h2) RETURN h.hid as Source, h2.hid as Target, type(r) as Label\n",
    "relates_rel.get_dataframe().to_csv('graphs/relates_rel.csv', sep=\"|\")\n",
    "\n",
    "writes_rel  = %cypher MATCH (a)-[r:WRITES]->(h) RETURN a.aid as Source, h.hid as Target, type(r) as Label\n",
    "writes_rel.get_dataframe().to_csv('graphs/writes_rel.csv', sep=\"|\")\n",
    "\n",
    "about_rel  = %cypher MATCH (c)-[r:IS_ABOUT]->(h) return c.cid as Source, h.hid as Target, type(r) as Label\n",
    "about_rel.get_dataframe().to_csv('graphs/about_rel.csv', sep=\"|\")"
   ]
  },
  {
   "cell_type": "code",
   "execution_count": null,
   "metadata": {
    "collapsed": true
   },
   "outputs": [],
   "source": []
  },
  {
   "cell_type": "code",
   "execution_count": null,
   "metadata": {
    "collapsed": true
   },
   "outputs": [],
   "source": []
  },
  {
   "cell_type": "code",
   "execution_count": null,
   "metadata": {
    "collapsed": true
   },
   "outputs": [],
   "source": []
  }
 ],
 "metadata": {
  "kernelspec": {
   "display_name": "Python 3",
   "language": "python",
   "name": "python3"
  },
  "language_info": {
   "codemirror_mode": {
    "name": "ipython",
    "version": 3
   },
   "file_extension": ".py",
   "mimetype": "text/x-python",
   "name": "python",
   "nbconvert_exporter": "python",
   "pygments_lexer": "ipython3",
   "version": "3.5.2"
  }
 },
 "nbformat": 4,
 "nbformat_minor": 2
}
