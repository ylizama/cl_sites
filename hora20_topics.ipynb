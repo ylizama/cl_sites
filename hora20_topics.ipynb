{
 "cells": [
  {
   "cell_type": "code",
   "execution_count": 6,
   "metadata": {
    "collapsed": true
   },
   "outputs": [],
   "source": [
    "import os\n",
    "import json\n",
    "from bs4 import BeautifulSoup\n",
    "import glob"
   ]
  },
  {
   "cell_type": "code",
   "execution_count": 7,
   "metadata": {
    "collapsed": true
   },
   "outputs": [],
   "source": [
    "DIR_DATA = 'WEB/'"
   ]
  },
  {
   "cell_type": "code",
   "execution_count": 8,
   "metadata": {},
   "outputs": [
    {
     "data": {
      "text/plain": [
       "['VoiceBase _ caracol_radio_hora20_20160606_200000_210000 _ Ocupaciones.html',\n",
       " 'VoiceBase _ caracol_radio_hora20_20160209_200000_210000 _ Medio.html',\n",
       " 'VoiceBase _ caracol_radio_hora20_20160308_190000_193000 _ Energía _.html',\n",
       " 'VoiceBase _ caracol_radio_hora20_20161107_200000_210000 _ Estado _.html',\n",
       " 'VoiceBase _ 097RD010000000401111_20160921 _ Derecho internacional __files',\n",
       " 'VoiceBase _ 097RD010000000425727 _ Elecciones en Estados Unidos _.html',\n",
       " 'VoiceBase _ caracol_radio_hora20_20160831_200000_210000 _ Democracia __files',\n",
       " 'VoiceBase _ caracol_radio_hora20_20160930_200000_210000 _ Fuerzas_files',\n",
       " 'VoiceBase _ 097RD130000000429227 _ Redes sociales _ Ocupaciones __files',\n",
       " 'VoiceBase _ caracol_radio_hora20_20160815_190000_200000 _ Policía _.html']"
      ]
     },
     "execution_count": 8,
     "metadata": {},
     "output_type": "execute_result"
    }
   ],
   "source": [
    "os.listdir(DIR_DATA)[:10]"
   ]
  },
  {
   "cell_type": "code",
   "execution_count": null,
   "metadata": {},
   "outputs": [
    {
     "name": "stdout",
     "output_type": "stream",
     "text": [
      "**************************************************************************************************************************************************************************************************"
     ]
    }
   ],
   "source": [
    "%%time\n",
    "\n",
    "topics_general_dict = {}\n",
    "\n",
    "for filename in glob.glob(os.path.join(DIR_DATA, '*.html')):\n",
    "    with open(filename) as f:\n",
    "        files_topics_dict = {}\n",
    "        topics_dict = {}        \n",
    "        soup = BeautifulSoup(f, 'html.parser')\n",
    "        topics = [a.string for a in soup.select('ul.vbs-topics-list li a')]\n",
    "        for topic in topics:\n",
    "            if topic != 'ALL TOPICS':\n",
    "                topics_dict[topic] = []\n",
    "                lis = soup.select('ul[tid=\"' + topic + '\"] li.key')\n",
    "                for li in lis:\n",
    "                    kw_freq = (li.find('a').string.strip(), li.find('span').string.strip('()'))\n",
    "                    topics_dict[topic].append(kw_freq)\n",
    "                    \n",
    "        files_topics_dict['topics'] = topics_dict\n",
    "        idDoc = filename.split(' _ ')[1] \n",
    "        \n",
    "        date = None\n",
    "        program = False\n",
    "        if 'caracol_radio_hora20_' in idDoc:\n",
    "            date  = filename.split('caracol_radio_hora20_')\n",
    "            date = date[1][0:8]\n",
    "            program = True\n",
    "        elif '_' in idDoc:\n",
    "            date  = idDoc.split('_')\n",
    "            date = date[1]\n",
    "        files_topics_dict['date'] = date\n",
    "        files_topics_dict['program'] = program\n",
    "        \n",
    "        general_topics = filename.replace(' _.html', '').replace('.html', '').split(' _ ')[2:]\n",
    "        files_topics_dict['general_topics'] = general_topics\n",
    "        topics_general_dict[idDoc] = files_topics_dict\n",
    "        print('*', end='', flush=True)\n",
    "        \n",
    "with open('topics_hora20.json', 'w') as fp:\n",
    "        json.dump(topics_general_dict, fp, indent=2)"
   ]
  },
  {
   "cell_type": "code",
   "execution_count": 4,
   "metadata": {
    "scrolled": false
   },
   "outputs": [
    {
     "name": "stderr",
     "output_type": "stream",
     "text": [
      "IOPub data rate exceeded.\n",
      "The notebook server will temporarily stop sending output\n",
      "to the client in order to avoid crashing it.\n",
      "To change this limit, set the config variable\n",
      "`--NotebookApp.iopub_data_rate_limit`.\n"
     ]
    }
   ],
   "source": [
    "import json\n",
    "\n",
    "data = []\n",
    "with open('topics_Keywords_hora20_podcast.json') as f:\n",
    "    for line in f:\n",
    "        program = json.loads(line)\n",
    "        print(program)\n",
    "        break"
   ]
  },
  {
   "cell_type": "code",
   "execution_count": null,
   "metadata": {
    "collapsed": true
   },
   "outputs": [],
   "source": []
  }
 ],
 "metadata": {
  "kernelspec": {
   "display_name": "Python 3",
   "language": "python",
   "name": "python3"
  },
  "language_info": {
   "codemirror_mode": {
    "name": "ipython",
    "version": 3
   },
   "file_extension": ".py",
   "mimetype": "text/x-python",
   "name": "python",
   "nbconvert_exporter": "python",
   "pygments_lexer": "ipython3",
   "version": "3.5.2"
  }
 },
 "nbformat": 4,
 "nbformat_minor": 2
}
