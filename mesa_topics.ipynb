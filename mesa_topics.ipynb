{
 "cells": [
  {
   "cell_type": "markdown",
   "metadata": {},
   "source": [
    "## Topics Non-Negative Matrix Factorization"
   ]
  },
  {
   "cell_type": "code",
   "execution_count": 3,
   "metadata": {
    "collapsed": true
   },
   "outputs": [],
   "source": [
    "stop_words_spanish = ['un', 'una', 'unas', 'unos', 'uno', 'sobre', 'todo', 'también', 'tras', 'otro', 'algún', 'alguno', 'alguna', 'algunos', 'algunas', 'ser', 'es', 'soy', 'eres', 'somos', 'sois', 'estoy', 'esta', 'estamos', 'estais', 'estan', 'como', 'en', 'para', 'atras', 'porque', 'por qué',  'estaba', 'ante', 'antes', 'siendo', 'ambos', 'pero', 'por', 'poder', 'puede', 'puedo', 'podemos', 'podeis', 'pueden', 'fui', 'fue', 'fuimos', 'fueron', 'hacer', 'hago', 'hace', 'hacemos', 'haceis', 'hacen', 'cada', 'fin', 'incluso', 'primero', 'desde', 'conseguir', 'consigo', 'consigue', 'consigues', 'conseguimos', 'consiguen', 'ir', 'voy', 'va', 'vamos', 'vais', 'van', 'vaya', 'gueno', 'ha', 'tener', 'tengo', 'tiene', 'tenemos', 'teneis', 'tienen', 'el', 'la', 'lo', 'las', 'los', 'su', 'aqui', 'mio', 'tuyo', 'ellos', 'ellas', 'nos', 'nosotros', 'vosotros', 'vosotras', 'si', 'dentro', 'solo', 'solamente', 'saber', 'sabes', 'sabe', 'sabemos', 'sabeis', 'saben', 'ultimo', 'largo', 'bastante', 'haces', 'muchos', 'aquellos', 'aquellas', 'sus', 'entonces', 'tiempo', 'verdad', 'verdadero', 'verdadera', 'cierto', 'ciertos', 'cierta', 'ciertas', 'intentar', 'intento', 'intenta', 'intentas', 'intentamos', 'intentais', 'intentan', 'dos', 'bajo', 'arriba', 'encima', 'usar', 'uso', 'usas', 'usa', 'usamos', 'usais', 'usan', 'emplear', 'empleo', 'empleas', 'emplean', 'ampleamos', 'empleais', 'valor', 'muy', 'era', 'eras', 'eramos', 'eran', 'modo', 'bien', 'cual', 'cuando', 'donde', 'mientras', 'quien', 'con', 'entre', 'sin', 'trabajo', 'trabajar', 'trabajas', 'trabaja', 'trabajamos', 'trabajais', 'trabajan', 'podria', 'podrias', 'podriamos', 'podrian', 'podriais', 'yo', 'aquel', 'a', 'en', 'de', 'para', 'por', 'según', 'sin', 'sobre', 'tras', 'bajo', 'contra', 'hacia', 'hasta', 'rt', 'que', 'se', 'no', 'del', 'al', 'http', 'https', 'y', 'más', 'todos', 'año', 'será', 'este', 'vía', 'les', 'ni', 'dice', 'le', 'está', 'qué', 'hay', 'htt', 'quiere', 'nuestra', 'sí', 'of', 'in', 'años', 'firma' , 'firman', 'nuevo', 'hoy', 'ayer', 'inicio', 'ya', 'histórico', 'día','son', 'final', 'and', 'with', 'you', 'mundo', 'gran', 'sol', 'recibe', 'millones',  'gracias', 'hermana', 'fuego', 'me', 'eso',  'we', 'after', 'camino', 'dijo', 'caminos', 'recibirá', 'entiendo', 'mejores', 'mejor', 'deseos', 'lleve', 'nuevamente', 'ahora', 'definitiva', 'ese', 'definitivo', 'han', 'sino', 'tal', 'mismos', 'estos', 'así', 'ver', 'esto', 'esta', 'sido', 'manera', 'sigo', 'da', '000']\n",
    "\n",
    "categories = {}\n",
    "categories['Acuerdo'] = 'Acuerdo Final'\n",
    "categories['Comision'] = 'Comisión Histórica del Conflicto y sus Víctimas'\n",
    "categories['Comunicados'] = 'Comunicados'\n",
    "categories['Borradores'] = 'Borradores'\n",
    "categories['Informes'] = 'Informes'"
   ]
  },
  {
   "cell_type": "code",
   "execution_count": 4,
   "metadata": {
    "collapsed": true
   },
   "outputs": [],
   "source": [
    "from __future__ import print_function\n",
    "from time import time\n",
    "\n",
    "from sklearn.feature_extraction.text import TfidfVectorizer, CountVectorizer\n",
    "from sklearn.decomposition import NMF\n",
    "import os"
   ]
  },
  {
   "cell_type": "markdown",
   "metadata": {},
   "source": [
    "## Topics by NMF"
   ]
  },
  {
   "cell_type": "code",
   "execution_count": 42,
   "metadata": {
    "collapsed": true
   },
   "outputs": [],
   "source": [
    "n_top_words = 15\n",
    "n_features = 10000\n",
    "n_components = 20\n",
    "full_topics= {}\n",
    "  \n",
    "def fetch_files_from(path):\n",
    "    dataset = []\n",
    "    for files in os.walk(path):     \n",
    "        if(len(files[2])>0):    \n",
    "            for name in files[2]:\n",
    "                if name.endswith(\".txt\"):\n",
    "                    f = open(files[0] +'/' + name,\"r\")\n",
    "                    t = f.read()\n",
    "                    if t: \n",
    "                        dataset.append(t)\n",
    "                    f.close()     \n",
    "    return dataset\n",
    "\n",
    "def trainNMF(data_samples):\n",
    "    tfidf_vectorizer = TfidfVectorizer(max_df=1.0, min_df=1,\n",
    "                                   max_features=n_features,\n",
    "                                   stop_words=stop_words_spanish)\n",
    "    tfidf = tfidf_vectorizer.fit_transform(data_samples)\n",
    "\n",
    "    nmf = NMF(n_components=n_components, random_state=1,\n",
    "          alpha=.1, l1_ratio=.5).fit(tfidf)\n",
    "    \n",
    "    feature_names = tfidf_vectorizer.get_feature_names()\n",
    "   \n",
    "    print_top_words(nmf.components_, feature_names, n_top_words)\n",
    "    \n",
    "    return nmf, tfidf_vectorizer\n",
    "      \n",
    "def print_top_words(model, feature_names, n_top_words):\n",
    "    for topic_idx, topic in enumerate(model):\n",
    "        full_topics[topic_idx] = \" \".join([feature_names[i] for i in topic.argsort()[:-n_top_words - 1:-1]])\n",
    "        print(\"Topic #%d: \" % topic_idx + full_topics[topic_idx] )\n",
    "        print()"
   ]
  },
  {
   "cell_type": "markdown",
   "metadata": {},
   "source": [
    "## 20 General topics"
   ]
  },
  {
   "cell_type": "markdown",
   "metadata": {},
   "source": [
    "#### Algunos términos que aparecen y he buscado en internet\n",
    "zvtn = Zonas Veredales Transitorias de Normalización\n",
    "\n",
    "cfhbd = Cese al Fuego y de Hostilidades Bilateral y Definitivo y Dejación de las Armas\n",
    "\n",
    "ep = Ejército del pueblo\n",
    "\n",
    "jep = Jurisdicción Especial para la Paz\n",
    "\n",
    "csivi = Comisión de Seguimiento, Impulso y Verificación a la Implementación del Acuerdo Final\n",
    "\n",
    "zrc = Zona de reserva campesina\n",
    "\n",
    "ptn = Puntos Transitorios de Normalización"
   ]
  },
  {
   "cell_type": "code",
   "execution_count": 43,
   "metadata": {},
   "outputs": [
    {
     "name": "stdout",
     "output_type": "stream",
     "text": [
      "Topic #0: víctimas derechos conflicto repetición justicia reparación especial jurisdicción paz reconocimiento humanos medidas tribunal graves satisfacción\n",
      "\n",
      "Topic #1: mm zvtn ptn cfhbd ci 08 05 ep farc borrador armas integrantes seguridad página acuerdo\n",
      "\n",
      "Topic #2: estado guerra violencia colombia bogotá social política político conflicto guerrillas frente país militar siglo parte\n",
      "\n",
      "Topic #3: países diálogos agenda formatos página conversaciones gobernaciones web mesadeconversaciones alcaldías ciclo repartidos com www co\n",
      "\n",
      "Topic #4: vereda veredas zonas guaviare san visitas normalización meta arauquita caquetá arauca antioquia villarica puntos cumaribo\n",
      "\n",
      "Topic #5: acuerdo verificación monitoreo armas dejación ep nacional farc cese seguridad bilateral zonas cumplimiento hostilidades gobierno\n",
      "\n",
      "Topic #6: menores edad salida campamentos técnica 15 acogida mesa unicef protocolo programa salgan transitorio niños ep\n",
      "\n",
      "Topic #7: acuerdo duradera estable paz numeración terminación precisiones construcción conflicto noviembre cambios 2016 completo ajustes general\n",
      "\n",
      "Topic #8: apn explosivos limpieza descontaminación ent muse aei reg proyecto map minas artefactos antipersonal áreas comunidades\n",
      "\n",
      "Topic #9: conversaciones mesa delegaciones ciclo noviembre propuestas colombia víctimas habana universidad agenda octubre participación nacional próximo\n",
      "\n",
      "Topic #10: participación política movimientos garantías organizaciones acuerdo sociales oposición políticos ejercicio partidos promover ciudadana derechos especial\n",
      "\n",
      "Topic #11: descontaminación continuamos subcomisión 2015 justicia agosto orejón piloto temas delegaciones reparación asesores relacionados repetición conflicto\n",
      "\n",
      "Topic #12: comisión sub expertos febrero informes informe acordó conflicto relatores síntesis metodología víctimas comisio histórica reuniones\n",
      "\n",
      "Topic #13: cultivos ilícito sustitución solución comunidades ilícitas problema drogas planes programas marcha desarrollo esfuerzo ejecución voluntaria\n",
      "\n",
      "Topic #14: mujeres género representante sexual onu directora mujer subcomisión inclusión igualdad alcanzados lgbti diversa naciones enfoque\n",
      "\n",
      "Topic #15: 2015 viernes julio continuar junio víctimas sesiones próximo 54 prensa 27 reparación punto habana informan\n",
      "\n",
      "Topic #16: comunidades indígenas indígena afrocolombianas escogidas palenqueras negras raizales pueblos representantes mesa servirán personas implementación étnico\n",
      "\n",
      "Topic #17: abril 2013 semana 30 reuniones equipos delegaciones técnicos tercera foro 28 recordamos expectativa 18 intenso\n",
      "\n",
      "Topic #18: reunión sábado juristas convino desarrollos recientes interpretación 61 buscar informar tuvo permiten cronograma ambiente diferencias\n",
      "\n",
      "Topic #19: octubre instalación oslo 2012 15 preparatorias pública delegación culminación noruega rueda desarrollando contactos continuaron colombia\n",
      "\n"
     ]
    }
   ],
   "source": [
    "training_data = fetch_files_from('data/mesa/topics')\n",
    "nmf, tfidf_vectorizer = trainNMF(training_data)"
   ]
  },
  {
   "cell_type": "markdown",
   "metadata": {
    "collapsed": true
   },
   "source": [
    "## Topics por categoría"
   ]
  },
  {
   "cell_type": "code",
   "execution_count": 99,
   "metadata": {},
   "outputs": [
    {
     "name": "stdout",
     "output_type": "stream",
     "text": [
      "Comisión Histórica del Conflicto y sus Víctimas --  \n",
      "\n",
      "Topic #2: estado guerra violencia colombia bogotá social política político conflicto guerrillas frente país militar siglo parte ( 102.54%)\n",
      "\n",
      "-------------------------------------\n",
      "Comunicados -- /2013 \n",
      "\n",
      "Topic #3: países diálogos agenda formatos página conversaciones gobernaciones web mesadeconversaciones alcaldías ciclo repartidos com www co ( 36.01%)\n",
      "\n",
      "Topic #9: conversaciones mesa delegaciones ciclo noviembre propuestas colombia víctimas habana universidad agenda octubre participación nacional próximo ( 35.61%)\n",
      "\n",
      "Topic #10: participación política movimientos garantías organizaciones acuerdo sociales oposición políticos ejercicio partidos promover ciudadana derechos especial ( 43.58%)\n",
      "\n",
      "-------------------------------------\n",
      "Comunicados -- /2014 \n",
      "\n",
      "Topic #0: víctimas derechos conflicto repetición justicia reparación especial jurisdicción paz reconocimiento humanos medidas tribunal graves satisfacción ( 34.52%)\n",
      "\n",
      "Topic #9: conversaciones mesa delegaciones ciclo noviembre propuestas colombia víctimas habana universidad agenda octubre participación nacional próximo ( 29.46%)\n",
      "\n",
      "Topic #12: comisión sub expertos febrero informes informe acordó conflicto relatores síntesis metodología víctimas comisio histórica reuniones ( 29.64%)\n",
      "\n",
      "Topic #13: cultivos ilícito sustitución solución comunidades ilícitas problema drogas planes programas marcha desarrollo esfuerzo ejecución voluntaria ( 36.24%)\n",
      "\n",
      "-------------------------------------\n",
      "Comunicados -- /2015 \n",
      "\n",
      "Topic #0: víctimas derechos conflicto repetición justicia reparación especial jurisdicción paz reconocimiento humanos medidas tribunal graves satisfacción ( 54.67%)\n",
      "\n",
      "Topic #8: apn explosivos limpieza descontaminación ent muse aei reg proyecto map minas artefactos antipersonal áreas comunidades ( 41.58%)\n",
      "\n",
      "-------------------------------------\n",
      "Comunicados -- /2012 \n",
      "\n",
      "Topic #9: conversaciones mesa delegaciones ciclo noviembre propuestas colombia víctimas habana universidad agenda octubre participación nacional próximo ( 46.35%)\n",
      "\n",
      "Topic #19: octubre instalación oslo 2012 15 preparatorias pública delegación culminación noruega rueda desarrollando contactos continuaron colombia ( 39.45%)\n",
      "\n",
      "-------------------------------------\n",
      "Comunicados -- /2016 \n",
      "\n",
      "Topic #4: vereda veredas zonas guaviare san visitas normalización meta arauquita caquetá arauca antioquia villarica puntos cumaribo ( 26.03%)\n",
      "\n",
      "Topic #5: acuerdo verificación monitoreo armas dejación ep nacional farc cese seguridad bilateral zonas cumplimiento hostilidades gobierno ( 49.83%)\n",
      "\n",
      "Topic #6: menores edad salida campamentos técnica 15 acogida mesa unicef protocolo programa salgan transitorio niños ep ( 22.87%)\n",
      "\n",
      "-------------------------------------\n",
      "Informes --  \n",
      "\n",
      "Topic #10: participación política movimientos garantías organizaciones acuerdo sociales oposición políticos ejercicio partidos promover ciudadana derechos especial ( 79.95%)\n",
      "\n",
      "-------------------------------------\n",
      "Acuerdo Final --  \n",
      "\n",
      "Topic #0: víctimas derechos conflicto repetición justicia reparación especial jurisdicción paz reconocimiento humanos medidas tribunal graves satisfacción ( 36.92%)\n",
      "\n",
      "Topic #1: mm zvtn ptn cfhbd ci 08 05 ep farc borrador armas integrantes seguridad página acuerdo ( 23.46%)\n",
      "\n",
      "Topic #5: acuerdo verificación monitoreo armas dejación ep nacional farc cese seguridad bilateral zonas cumplimiento hostilidades gobierno ( 25.27%)\n",
      "\n",
      "Topic #10: participación política movimientos garantías organizaciones acuerdo sociales oposición políticos ejercicio partidos promover ciudadana derechos especial ( 26.57%)\n",
      "\n",
      "-------------------------------------\n",
      "Borradores --  \n",
      "\n",
      "Topic #0: víctimas derechos conflicto repetición justicia reparación especial jurisdicción paz reconocimiento humanos medidas tribunal graves satisfacción ( 46.99%)\n",
      "\n",
      "Topic #1: mm zvtn ptn cfhbd ci 08 05 ep farc borrador armas integrantes seguridad página acuerdo ( 49.06%)\n",
      "\n",
      "-------------------------------------\n"
     ]
    }
   ],
   "source": [
    "import numpy as np\n",
    "def extractNMFTopics(data, nmf, tfidf_vectorizer):\n",
    "    text = ['/n'.join(data)]\n",
    "    tfidf_data = tfidf_vectorizer.transform(text)\n",
    "    new_nmf = nmf.transform(tfidf_data)\n",
    "    tfidf_feature_names = tfidf_vectorizer.get_feature_names()\n",
    "    ts = {}\n",
    "    for topic_idx, topic in enumerate(new_nmf):\n",
    "        i = 0\n",
    "        for freq in topic:\n",
    "            if freq > 0.22:\n",
    "                print(\"Topic #%d: \" % i + full_topics[i] + \" ( \"  + str(round(freq*100, 2)) +  \"%)\")\n",
    "                print()             \n",
    "            i = i + 1\n",
    "        \n",
    "        \n",
    "def extractTopicsbyCat(nmf, tfidf_vectorizer):\n",
    "    for cat in categories:                         \n",
    "        for  files in os.walk('data/mesa/topics/'+ cat):     \n",
    "            if(len(files[2])>0): \n",
    "                print(categories[cat],'--', files[0].replace('data/mesa/topics/'+ cat , '') ,'\\n')    \n",
    "                dataset = fetch_files_from(files[0])\n",
    "                extractNMFTopics(dataset, nmf, tfidf_vectorizer)\n",
    "                print('-------------------------------------')\n",
    "extractTopicsbyCat(nmf, tfidf_vectorizer)"
   ]
  },
  {
   "cell_type": "code",
   "execution_count": null,
   "metadata": {
    "collapsed": true
   },
   "outputs": [],
   "source": []
  }
 ],
 "metadata": {
  "kernelspec": {
   "display_name": "Python 3",
   "language": "python",
   "name": "python3"
  },
  "language_info": {
   "codemirror_mode": {
    "name": "ipython",
    "version": 3
   },
   "file_extension": ".py",
   "mimetype": "text/x-python",
   "name": "python",
   "nbconvert_exporter": "python",
   "pygments_lexer": "ipython3",
   "version": "3.5.2"
  }
 },
 "nbformat": 4,
 "nbformat_minor": 2
}
