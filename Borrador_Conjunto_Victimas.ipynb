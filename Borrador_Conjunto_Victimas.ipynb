{
 "cells": [
  {
   "cell_type": "code",
   "execution_count": 9,
   "metadata": {},
   "outputs": [],
   "source": [
    "import os\n",
    "import csv\n",
    "import datetime\n",
    "import string"
   ]
  },
  {
   "cell_type": "code",
   "execution_count": 3,
   "metadata": {},
   "outputs": [],
   "source": [
    "file = open('data/borrador_conjunto.txt', 'r') \n",
    "text = file.read() \n",
    "file.close()"
   ]
  },
  {
   "cell_type": "code",
   "execution_count": 25,
   "metadata": {},
   "outputs": [],
   "source": [
    "stop_words_spanish = ['un', 'una', 'unas', 'unos', 'uno', 'sobre', 'todo', 'también', 'tras', 'otro', 'algún', 'alguno', 'alguna', 'algunos', 'algunas', 'ser', 'es', 'soy', 'eres', 'somos', 'sois', 'estoy', 'esta', 'estamos', 'estais', 'estan', 'como', 'en', 'para', 'atras', 'porque', 'por qué',  'estaba', 'ante', 'antes', 'siendo', 'ambos', 'pero', 'por', 'poder', 'puede', 'puedo', 'podemos', 'podeis', 'pueden', 'fui', 'fue', 'fuimos', 'fueron', 'hacer', 'hago', 'hace', 'hacemos', 'haceis', 'hacen', 'cada', 'fin', 'incluso', 'primero', 'desde', 'conseguir', 'consigo', 'consigue', 'consigues', 'conseguimos', 'consiguen', 'ir', 'voy', 'va', 'vamos', 'vais', 'van', 'vaya', 'gueno', 'ha', 'el', 'la', 'lo', 'las', 'los', 'su', 'aqui', 'mio', 'tuyo', 'ellos', 'ellas', 'nos', 'nosotros', 'vosotros', 'vosotras', 'si', 'dentro', 'solo', 'solamente', 'saber', 'sabes', 'sabe', 'sabemos', 'sabeis', 'saben', 'ultimo', 'largo', 'bastante', 'haces', 'muchos', 'aquellos', 'aquellas', 'sus', 'entonces', 'tiempo', 'verdad', 'verdadero', 'verdadera', 'cierto', 'ciertos', 'cierta', 'ciertas', 'intentar', 'intento', 'intenta', 'intentas', 'intentamos', 'intentais', 'intentan', 'dos', 'bajo', 'arriba', 'encima', 'usar', 'uso', 'usas', 'usa', 'usamos', 'usais', 'usan', 'emplear', 'empleo', 'empleas', 'emplean', 'ampleamos', 'empleais', 'valor', 'muy', 'era', 'eras', 'eramos', 'eran', 'modo', 'bien', 'cual', 'cuando', 'donde', 'mientras', 'quien', 'con', 'entre', 'sin', 'trabajo', 'trabajar', 'trabajas', 'trabaja', 'trabajamos', 'trabajais', 'trabajan', 'podria', 'podrias', 'podriamos', 'podrian', 'podriais', 'yo', 'aquel', 'a', 'en', 'de', 'para', 'por', 'según', 'sin', 'sobre', 'tras', 'bajo', 'contra', 'hacia', 'hasta', 'rt', 'que', 'se', 'no', 'del', 'al', 'http', 'https', 'y', 'más', 'todos', 'año', 'será', 'este', 'vía', 'les', 'ni', 'dice', 'le', 'está', 'qué', 'hay', 'htt', 'quiere', 'nuestra', 'sí', 'of', 'in', 'años', 'firma' , 'firman', 'nuevo', 'hoy', 'ayer', 'inicio', 'ya', 'día','son', 'final', 'and', 'with', 'you', 'mundo', 'gran', 'sol', 'recibe', 'millones',  'gracias', 'hermana','me', 'eso',  'we', 'after',  'dijo','lleve', 'nuevamente', 'ahora', 'ese',  'han', 'sino', 'tal', 'mismos', 'estos', 'así', 'ver', 'esto', 'esta', 'sido', 'manera', 'sigo', 'da', 'esa', 'aunque', 'están', 'mil', 'además', 'había', 'él', 'después', 'pues', 'vez', 'quienes', 'página', 'conjunto 15122015', '63 borrador']\n",
    "\n",
    "abc = string.ascii_lowercase \n",
    "punct_signs = string.punctuation"
   ]
  },
  {
   "cell_type": "code",
   "execution_count": 13,
   "metadata": {},
   "outputs": [],
   "source": [
    "from nltk import ngrams\n",
    "import operator\n",
    "from itertools import islice\n",
    "import string \n",
    "from tabulate import tabulate\n",
    "\n",
    "def stopWordsInGrams(grams):    \n",
    "    count = 0\n",
    "    for w in grams:\n",
    "        if w in stop_words_spanish:\n",
    "            count = count + 1                \n",
    "    return count/len(grams)  \n",
    "\n",
    "def isNumber(s):\n",
    "    try: \n",
    "        int(s)\n",
    "        float(s)\n",
    "        return True\n",
    "    except ValueError:\n",
    "        return False\n",
    "\n",
    "def getNGram(text, n, stop_words, m):\n",
    "    text = text.lower()\n",
    "    ngramas = ngrams(text.split(), n)\n",
    "    h_dict = {}   \n",
    "    for grams in ngramas:\n",
    "        if stopWordsInGrams(grams) > 0.34:\n",
    "            continue\n",
    "        words = ' '.join(grams)        \n",
    "        words = words.lower() \n",
    "        words = ''.join(e for e in words if e.isalnum() or e == ' ')    \n",
    "        words = words.strip()  \n",
    "        if  words in stop_words or words in punct_signs or words == '' or words in abc or isNumber(words) or len(words.split(' ')) != n:\n",
    "             continue\n",
    "        if words in h_dict:\n",
    "            h_dict[words] = h_dict[words] + 1\n",
    "        else: \n",
    "            h_dict[words] = 1 \n",
    "    sorted_dict = sorted(h_dict.items(), key=operator.itemgetter(1), reverse=True)\n",
    "    if m is -1:\n",
    "        return list(sorted_dict)\n",
    "    else:\n",
    "        return list(islice(sorted_dict, m))"
   ]
  },
  {
   "cell_type": "markdown",
   "metadata": {},
   "source": [
    "## Top 20 Unigramas más frecuentes"
   ]
  },
  {
   "cell_type": "code",
   "execution_count": 23,
   "metadata": {
    "scrolled": true
   },
   "outputs": [
    {
     "name": "stdout",
     "output_type": "stream",
     "text": [
      "Ngram              Number\n",
      "---------------  --------\n",
      "conflicto             178\n",
      "víctimas              168\n",
      "derechos              162\n",
      "paz                   134\n",
      "justicia              120\n",
      "comisión              108\n",
      "reparación            106\n",
      "reconocimiento        100\n",
      "repetición             98\n",
      "humanos                93\n",
      "medidas                92\n",
      "acuerdo                89\n",
      "responsabilidad        84\n",
      "especial               82\n",
      "personas               79\n",
      "sala                   72\n",
      "conjunto               68\n",
      "caso                   67\n",
      "nacional               67\n",
      "borrador               63\n",
      "---------------------------------\n",
      "\n"
     ]
    }
   ],
   "source": [
    "final = getNGram(text, 1, stop_words_spanish, 20)\n",
    "print(tabulate(final, ['Ngram', 'Number']))\n",
    "print('---------------------------------')\n",
    "print()"
   ]
  },
  {
   "cell_type": "markdown",
   "metadata": {},
   "source": [
    "## Top 20 Bigramas más frecuentes"
   ]
  },
  {
   "cell_type": "code",
   "execution_count": 26,
   "metadata": {},
   "outputs": [
    {
     "name": "stdout",
     "output_type": "stream",
     "text": [
      "Ngram                        Number\n",
      "-------------------------  --------\n",
      "derechos humanos                 92\n",
      "borrador conjunto                63\n",
      "jurisdicción especial            44\n",
      "gobierno nacional                38\n",
      "derecho internacional            33\n",
      "sistema integral                 32\n",
      "conflicto armado                 32\n",
      "acuerdo final                    28\n",
      "reparación colectiva             21\n",
      "verdad justicia                  21\n",
      "personas dadas                   20\n",
      "justicia reparación              20\n",
      "internacional humanitario        19\n",
      "amnistía o                       15\n",
      "graves violaciones               14\n",
      "directa o                        14\n",
      "enfoque territorial              12\n",
      "reparación integral              12\n",
      "o indulto                        12\n",
      "graves infracciones              12\n",
      "---------------------------------\n",
      "\n"
     ]
    }
   ],
   "source": [
    "final2 = getNGram(text, 2, stop_words_spanish, 20)\n",
    "print(tabulate(final2, ['Ngram', 'Number']))\n",
    "print('---------------------------------')\n",
    "print()"
   ]
  }
 ],
 "metadata": {
  "kernelspec": {
   "display_name": "Python 3",
   "language": "python",
   "name": "python3"
  },
  "language_info": {
   "codemirror_mode": {
    "name": "ipython",
    "version": 3
   },
   "file_extension": ".py",
   "mimetype": "text/x-python",
   "name": "python",
   "nbconvert_exporter": "python",
   "pygments_lexer": "ipython3",
   "version": "3.5.2"
  }
 },
 "nbformat": 4,
 "nbformat_minor": 2
}
