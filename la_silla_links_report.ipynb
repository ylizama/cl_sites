{
 "cells": [
  {
   "cell_type": "code",
   "execution_count": 2,
   "metadata": {
    "collapsed": true
   },
   "outputs": [],
   "source": [
    "%reload_ext cypher\n",
    "import matplotlib\n",
    "import pandas as pd\n",
    "import matplotlib.pyplot as plt\n",
    "%matplotlib inline\n",
    "pd.set_option('display.max_colwidth', -1)\n"
   ]
  },
  {
   "cell_type": "markdown",
   "metadata": {},
   "source": [
    "## Cantidad total de links que se refieren en los artículos"
   ]
  },
  {
   "cell_type": "code",
   "execution_count": 3,
   "metadata": {},
   "outputs": [
    {
     "name": "stdout",
     "output_type": "stream",
     "text": [
      "1 rows affected.\n"
     ]
    },
    {
     "data": {
      "text/html": [
       "<table>\n",
       "    <tr>\n",
       "        <th>count(l)</th>\n",
       "    </tr>\n",
       "    <tr>\n",
       "        <td>3554</td>\n",
       "    </tr>\n",
       "</table>"
      ],
      "text/plain": [
       "[[3554]]"
      ]
     },
     "execution_count": 3,
     "metadata": {},
     "output_type": "execute_result"
    }
   ],
   "source": [
    "%cypher MATCH p=(n:Article{valid:True})-[r:LINKS]->(l) RETURN count(l)"
   ]
  },
  {
   "cell_type": "markdown",
   "metadata": {},
   "source": [
    "## Cantidad de links a artículos de lasillavacía.com"
   ]
  },
  {
   "cell_type": "code",
   "execution_count": 4,
   "metadata": {},
   "outputs": [
    {
     "name": "stdout",
     "output_type": "stream",
     "text": [
      "1 rows affected.\n"
     ]
    },
    {
     "data": {
      "text/html": [
       "<table>\n",
       "    <tr>\n",
       "        <th>count(r)</th>\n",
       "    </tr>\n",
       "    <tr>\n",
       "        <td>606</td>\n",
       "    </tr>\n",
       "</table>"
      ],
      "text/plain": [
       "[[606]]"
      ]
     },
     "execution_count": 4,
     "metadata": {},
     "output_type": "execute_result"
    }
   ],
   "source": [
    "%cypher MATCH p=(n:Article{valid:True})-[r:LINKS]->(a:Article) RETURN count(r)"
   ]
  },
  {
   "cell_type": "markdown",
   "metadata": {},
   "source": [
    "## Cantidad de links externos al sitio web. "
   ]
  },
  {
   "cell_type": "code",
   "execution_count": 7,
   "metadata": {},
   "outputs": [
    {
     "name": "stdout",
     "output_type": "stream",
     "text": [
      "1 rows affected.\n"
     ]
    },
    {
     "data": {
      "text/html": [
       "<table>\n",
       "    <tr>\n",
       "        <th>count(l)</th>\n",
       "    </tr>\n",
       "    <tr>\n",
       "        <td>2948</td>\n",
       "    </tr>\n",
       "</table>"
      ],
      "text/plain": [
       "[[2948]]"
      ]
     },
     "execution_count": 7,
     "metadata": {},
     "output_type": "execute_result"
    }
   ],
   "source": [
    "%cypher MATCH p=(n:Article{valid:True})-[r:LINKS]->(l:Link) RETURN count(l)"
   ]
  },
  {
   "cell_type": "markdown",
   "metadata": {},
   "source": [
    "\n",
    "## 15 Artículos de lasillavacía.com más linkeados "
   ]
  },
  {
   "cell_type": "code",
   "execution_count": 27,
   "metadata": {},
   "outputs": [
    {
     "name": "stdout",
     "output_type": "stream",
     "text": [
      "15 rows affected.\n"
     ]
    },
    {
     "data": {
      "text/html": [
       "<table>\n",
       "    <tr>\n",
       "        <th>ID</th>\n",
       "        <th>Title</th>\n",
       "        <th>Date</th>\n",
       "        <th>Views</th>\n",
       "        <th>Degree</th>\n",
       "    </tr>\n",
       "    <tr>\n",
       "        <td>h169</td>\n",
       "        <td>Oneida le cumplió a Kiko</td>\n",
       "        <td>03 de Marzo de 2016</td>\n",
       "        <td>8809</td>\n",
       "        <td>6</td>\n",
       "    </tr>\n",
       "    <tr>\n",
       "        <td>h250</td>\n",
       "        <td>El condenado Ramiro Suárez se montó con el gabinete de Cúcuta</td>\n",
       "        <td>26 de Enero de 2016</td>\n",
       "        <td>6166</td>\n",
       "        <td>6</td>\n",
       "    </tr>\n",
       "    <tr>\n",
       "        <td>h262</td>\n",
       "        <td>Un gabinete para el plebiscito</td>\n",
       "        <td>26 de Abril de 2016</td>\n",
       "        <td>8123</td>\n",
       "        <td>5</td>\n",
       "    </tr>\n",
       "    <tr>\n",
       "        <td>h347</td>\n",
       "        <td>Gina le agua el voto cristiano al Gobierno</td>\n",
       "        <td>10 de Agosto de 2016</td>\n",
       "        <td>11273</td>\n",
       "        <td>5</td>\n",
       "    </tr>\n",
       "    <tr>\n",
       "        <td>h185</td>\n",
       "        <td>Los números que rajan a Santos en la Gallup</td>\n",
       "        <td>05 de Mayo de 2016</td>\n",
       "        <td>4789</td>\n",
       "        <td>5</td>\n",
       "    </tr>\n",
       "    <tr>\n",
       "        <td>h143</td>\n",
       "        <td>El secreto cartagenero de la marcha uribista</td>\n",
       "        <td>06 de Abril de 2016</td>\n",
       "        <td>9581</td>\n",
       "        <td>5</td>\n",
       "    </tr>\n",
       "    <tr>\n",
       "        <td>h39</td>\n",
       "        <td>La paz se desliga de Santos</td>\n",
       "        <td>07 de Julio de 2016</td>\n",
       "        <td>3809</td>\n",
       "        <td>5</td>\n",
       "    </tr>\n",
       "    <tr>\n",
       "        <td>h247</td>\n",
       "        <td>Las Farc ya están en Los Encantos, pero los yukpa se oponen</td>\n",
       "        <td>29 de Agosto de 2016</td>\n",
       "        <td>3675</td>\n",
       "        <td>5</td>\n",
       "    </tr>\n",
       "    <tr>\n",
       "        <td>h877</td>\n",
       "        <td>Uribe, recargado, tiene hoy la llave de la elección de la Procuraduría</td>\n",
       "        <td>09 de Octubre de 2016</td>\n",
       "        <td>8389</td>\n",
       "        <td>5</td>\n",
       "    </tr>\n",
       "    <tr>\n",
       "        <td>h510</td>\n",
       "        <td>Los súper poderosos del Pacífico</td>\n",
       "        <td>30 de Octubre de 2016</td>\n",
       "        <td>7530</td>\n",
       "        <td>4</td>\n",
       "    </tr>\n",
       "    <tr>\n",
       "        <td>h1027</td>\n",
       "        <td>La inesperada llave Vargas - Cárdenas</td>\n",
       "        <td>18 de Octubre de 2016</td>\n",
       "        <td>6065</td>\n",
       "        <td>4</td>\n",
       "    </tr>\n",
       "    <tr>\n",
       "        <td>h132</td>\n",
       "        <td>Norte de Santander, el nuevo paraíso de la coca</td>\n",
       "        <td>19 de Mayo de 2016</td>\n",
       "        <td>1987</td>\n",
       "        <td>4</td>\n",
       "    </tr>\n",
       "    <tr>\n",
       "        <td>h343</td>\n",
       "        <td>Los pasos de gigante del fracking</td>\n",
       "        <td>22 de Abril de 2016</td>\n",
       "        <td>3886</td>\n",
       "        <td>4</td>\n",
       "    </tr>\n",
       "    <tr>\n",
       "        <td>h163</td>\n",
       "        <td>María Victoria Calle refrenda su independencia</td>\n",
       "        <td>29 de Noviembre de 2016</td>\n",
       "        <td>8602</td>\n",
       "        <td>4</td>\n",
       "    </tr>\n",
       "    <tr>\n",
       "        <td>h206</td>\n",
       "        <td>El retorno del glifosato</td>\n",
       "        <td>04 de Mayo de 2016</td>\n",
       "        <td>1204</td>\n",
       "        <td>4</td>\n",
       "    </tr>\n",
       "</table>"
      ],
      "text/plain": [
       "[['h169', 'Oneida le cumplió a Kiko', '03 de Marzo de 2016', '8809', 6],\n",
       " ['h250',\n",
       "  'El condenado Ramiro Suárez se montó con el gabinete de Cúcuta',\n",
       "  '26 de Enero de 2016',\n",
       "  '6166',\n",
       "  6],\n",
       " ['h262', 'Un gabinete para el plebiscito', '26 de Abril de 2016', '8123', 5],\n",
       " ['h347',\n",
       "  'Gina le agua el voto cristiano al Gobierno',\n",
       "  '10 de Agosto de 2016',\n",
       "  '11273',\n",
       "  5],\n",
       " ['h185',\n",
       "  'Los números que rajan a Santos en la Gallup',\n",
       "  '05 de Mayo de 2016',\n",
       "  '4789',\n",
       "  5],\n",
       " ['h143',\n",
       "  'El secreto cartagenero de la marcha uribista',\n",
       "  '06 de Abril de 2016',\n",
       "  '9581',\n",
       "  5],\n",
       " ['h39', 'La paz se desliga de Santos', '07 de Julio de 2016', '3809', 5],\n",
       " ['h247',\n",
       "  'Las Farc ya están en Los Encantos, pero los yukpa se oponen',\n",
       "  '29 de Agosto de 2016',\n",
       "  '3675',\n",
       "  5],\n",
       " ['h877',\n",
       "  'Uribe, recargado, tiene hoy la llave de la elección de la Procuraduría',\n",
       "  '09 de Octubre de 2016',\n",
       "  '8389',\n",
       "  5],\n",
       " ['h510',\n",
       "  'Los súper poderosos del Pacífico',\n",
       "  '30 de Octubre de 2016',\n",
       "  '7530',\n",
       "  4],\n",
       " ['h1027',\n",
       "  'La inesperada llave Vargas - Cárdenas',\n",
       "  '18 de Octubre de 2016',\n",
       "  '6065',\n",
       "  4],\n",
       " ['h132',\n",
       "  'Norte de Santander, el nuevo paraíso de la coca',\n",
       "  '19 de Mayo de 2016',\n",
       "  '1987',\n",
       "  4],\n",
       " ['h343',\n",
       "  'Los pasos de gigante del fracking',\n",
       "  '22 de Abril de 2016',\n",
       "  '3886',\n",
       "  4],\n",
       " ['h163',\n",
       "  'María Victoria Calle refrenda su independencia',\n",
       "  '29 de Noviembre de 2016',\n",
       "  '8602',\n",
       "  4],\n",
       " ['h206', 'El retorno del glifosato', '04 de Mayo de 2016', '1204', 4]]"
      ]
     },
     "execution_count": 27,
     "metadata": {},
     "output_type": "execute_result"
    }
   ],
   "source": [
    "%cypher MATCH (n:Article{valid:True})-[r:LINKS]->(a:Article) with a, count(r) as Degree ORDER BY Degree DESC LIMIT 15 return a.hid as ID, a.title as Title, a.date as Date, a.no_views as Views, Degree"
   ]
  },
  {
   "cell_type": "markdown",
   "metadata": {},
   "source": [
    "## 15 Links externos a lasillavacia.com más referenciados"
   ]
  },
  {
   "cell_type": "code",
   "execution_count": 26,
   "metadata": {},
   "outputs": [
    {
     "name": "stdout",
     "output_type": "stream",
     "text": [
      "15 rows affected.\n"
     ]
    },
    {
     "data": {
      "text/html": [
       "<table>\n",
       "    <tr>\n",
       "        <th>ID</th>\n",
       "        <th>Link</th>\n",
       "        <th>Degree</th>\n",
       "    </tr>\n",
       "    <tr>\n",
       "        <td>l102</td>\n",
       "        <td>https://www.scribd.com/user/12878532/lasillavacia</td>\n",
       "        <td>12</td>\n",
       "    </tr>\n",
       "    <tr>\n",
       "        <td>l15</td>\n",
       "        <td>https://es.scribd.com/document/317657179/0388-16000010-GALLUP-POLL-113</td>\n",
       "        <td>8</td>\n",
       "    </tr>\n",
       "    <tr>\n",
       "        <td>l557</td>\n",
       "        <td>https://www.scribd.com/user/12878532/lasillavacia#from_embed</td>\n",
       "        <td>7</td>\n",
       "    </tr>\n",
       "    <tr>\n",
       "        <td>l726</td>\n",
       "        <td>https://twitter.com/JuanManSantos</td>\n",
       "        <td>7</td>\n",
       "    </tr>\n",
       "    <tr>\n",
       "        <td>l378</td>\n",
       "        <td>https://twitter.com/AlvaroUribeVel</td>\n",
       "        <td>5</td>\n",
       "    </tr>\n",
       "    <tr>\n",
       "        <td>l2506</td>\n",
       "        <td>https://twitter.com/LeopoldoTweets</td>\n",
       "        <td>5</td>\n",
       "    </tr>\n",
       "    <tr>\n",
       "        <td>l759</td>\n",
       "        <td>http://www.larepublica.co/sites/default/files/larepublica/Informe Final.pdf</td>\n",
       "        <td>4</td>\n",
       "    </tr>\n",
       "    <tr>\n",
       "        <td>l2531</td>\n",
       "        <td>https://twitter.com/mahofste</td>\n",
       "        <td>4</td>\n",
       "    </tr>\n",
       "    <tr>\n",
       "        <td>l127</td>\n",
       "        <td>https://twitter.com/lasillaenvivo</td>\n",
       "        <td>4</td>\n",
       "    </tr>\n",
       "    <tr>\n",
       "        <td>l647</td>\n",
       "        <td>http://www.unodc.org/documents/crop-monitoring/Colombia/Monitoreo_Cultivos_ilicitos_2015.pdf</td>\n",
       "        <td>3</td>\n",
       "    </tr>\n",
       "    <tr>\n",
       "        <td>l479</td>\n",
       "        <td>http://www.rcnradio.com/nacional/politica/se-conocen-5-candidatos-aspiran-la-presidencia-la-camara-representantes/</td>\n",
       "        <td>3</td>\n",
       "    </tr>\n",
       "    <tr>\n",
       "        <td>l2502</td>\n",
       "        <td>https://sites.google.com/site/davidbardey/</td>\n",
       "        <td>3</td>\n",
       "    </tr>\n",
       "    <tr>\n",
       "        <td>l1586</td>\n",
       "        <td>https://www.google.com.co/url?sa=t&amp;rct=j&amp;q=&amp;esrc=s&amp;source=web&amp;cd=1&amp;cad=rja&amp;uact=8&amp;ved=0ahUKEwj4z9CylITQAhWF2SYKHerbCLsQFggcMAA&amp;url=http%3A%2F%2Flasillavacia.com%2Fhistoria%2Fel-nuevo-round-de-rodolfo-hernandez-y-los-sindicatos-57962&amp;usg=AFQjCNFgZ2Y49-jwyb91J2hAI4FDp9CaCw</td>\n",
       "        <td>2</td>\n",
       "    </tr>\n",
       "    <tr>\n",
       "        <td>l722</td>\n",
       "        <td>https://twitter.com/A_OrdonezM</td>\n",
       "        <td>2</td>\n",
       "    </tr>\n",
       "    <tr>\n",
       "        <td>l832</td>\n",
       "        <td>http://www.eluniversal.com.co/cartagena/alcalde-anunciara-hoy-cambios-en-el-gabinete-237742#cxrecs_s</td>\n",
       "        <td>2</td>\n",
       "    </tr>\n",
       "</table>"
      ],
      "text/plain": [
       "[['l102', 'https://www.scribd.com/user/12878532/lasillavacia', 12],\n",
       " ['l15',\n",
       "  'https://es.scribd.com/document/317657179/0388-16000010-GALLUP-POLL-113',\n",
       "  8],\n",
       " ['l557', 'https://www.scribd.com/user/12878532/lasillavacia#from_embed', 7],\n",
       " ['l726', 'https://twitter.com/JuanManSantos', 7],\n",
       " ['l378', 'https://twitter.com/AlvaroUribeVel', 5],\n",
       " ['l2506', 'https://twitter.com/LeopoldoTweets', 5],\n",
       " ['l759',\n",
       "  'http://www.larepublica.co/sites/default/files/larepublica/Informe Final.pdf',\n",
       "  4],\n",
       " ['l2531', 'https://twitter.com/mahofste', 4],\n",
       " ['l127', 'https://twitter.com/lasillaenvivo', 4],\n",
       " ['l647',\n",
       "  'http://www.unodc.org/documents/crop-monitoring/Colombia/Monitoreo_Cultivos_ilicitos_2015.pdf',\n",
       "  3],\n",
       " ['l479',\n",
       "  'http://www.rcnradio.com/nacional/politica/se-conocen-5-candidatos-aspiran-la-presidencia-la-camara-representantes/',\n",
       "  3],\n",
       " ['l2502', 'https://sites.google.com/site/davidbardey/', 3],\n",
       " ['l1586',\n",
       "  'https://www.google.com.co/url?sa=t&rct=j&q=&esrc=s&source=web&cd=1&cad=rja&uact=8&ved=0ahUKEwj4z9CylITQAhWF2SYKHerbCLsQFggcMAA&url=http%3A%2F%2Flasillavacia.com%2Fhistoria%2Fel-nuevo-round-de-rodolfo-hernandez-y-los-sindicatos-57962&usg=AFQjCNFgZ2Y49-jwyb91J2hAI4FDp9CaCw',\n",
       "  2],\n",
       " ['l722', 'https://twitter.com/A_OrdonezM', 2],\n",
       " ['l832',\n",
       "  'http://www.eluniversal.com.co/cartagena/alcalde-anunciara-hoy-cambios-en-el-gabinete-237742#cxrecs_s',\n",
       "  2]]"
      ]
     },
     "execution_count": 26,
     "metadata": {},
     "output_type": "execute_result"
    }
   ],
   "source": [
    "%cypher MATCH (n:Article{valid:True})-[r:LINKS]->(l:Link) with l, count(r) as Degree ORDER BY Degree DESC LIMIT 15 return l.lid as ID, l.link as Link, Degree"
   ]
  },
  {
   "cell_type": "code",
   "execution_count": null,
   "metadata": {
    "collapsed": true
   },
   "outputs": [],
   "source": []
  },
  {
   "cell_type": "code",
   "execution_count": null,
   "metadata": {
    "collapsed": true
   },
   "outputs": [],
   "source": []
  }
 ],
 "metadata": {
  "kernelspec": {
   "display_name": "Python 3",
   "language": "python",
   "name": "python3"
  },
  "language_info": {
   "codemirror_mode": {
    "name": "ipython",
    "version": 3
   },
   "file_extension": ".py",
   "mimetype": "text/x-python",
   "name": "python",
   "nbconvert_exporter": "python",
   "pygments_lexer": "ipython3",
   "version": "3.5.2"
  }
 },
 "nbformat": 4,
 "nbformat_minor": 2
}
