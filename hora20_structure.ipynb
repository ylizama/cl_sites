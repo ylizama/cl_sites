{
 "cells": [
  {
   "cell_type": "code",
   "execution_count": 19,
   "metadata": {
    "collapsed": true
   },
   "outputs": [],
   "source": [
    "import os\n",
    "import json\n",
    "from bs4 import BeautifulSoup\n",
    "import glob\n",
    "import re\n",
    "import csv"
   ]
  },
  {
   "cell_type": "code",
   "execution_count": 20,
   "metadata": {},
   "outputs": [
    {
     "data": {
      "text/plain": [
       "670"
      ]
     },
     "execution_count": 20,
     "metadata": {},
     "output_type": "execute_result"
    }
   ],
   "source": [
    "DIR_DATA = 'data/hora20'\n",
    "\n",
    "data = {}\n",
    "with open(DIR_DATA + '/hora20.json') as data_file:    \n",
    "    data = json.load(data_file)\n",
    "len(data)    "
   ]
  },
  {
   "cell_type": "code",
   "execution_count": 27,
   "metadata": {},
   "outputs": [],
   "source": [
    "podcasts_dict, keywords_dict, topics_dict = {}, {}, {}\n",
    "podcast_count, keywords_count, topics_count = 0, 0, 0\n",
    "\n",
    "edgesfile = open(DIR_DATA + '/hora20_edgesFilePodcastsTopic.csv', \"w\")\n",
    "edges_writer = csv.writer(edgesfile, delimiter=',')\n",
    "\n",
    "edges_header = [\":START_ID\", \":END_ID\", \"is_general\", \":TYPE\"]\n",
    "edges_writer.writerow(edges_header)\n",
    "\n",
    "edgesfile1 = open(DIR_DATA + '/hora20_edgesFileTopicKeywords.csv', \"w\")\n",
    "edges_writer1 = csv.writer(edgesfile1, delimiter=',')\n",
    "\n",
    "edges_header1 = [\":START_ID\", \":END_ID\", \"frequency\", \"id_podcast\", \":TYPE\"]\n",
    "edges_writer1.writerow(edges_header1)\n",
    "\n",
    "for key in data.keys():    \n",
    "    #podcasts\n",
    "    podcast_count = podcast_count + 1\n",
    "    podcastid = 'p' + str(podcast_count)\n",
    "    podcasts_dict[key] = [podcastid, key, data[key]['date'], data[key]['program'], \"Podcast\"]\n",
    "    \n",
    "    # general topics\n",
    "    general_topics = data[key]['general_topics']\n",
    "    for t in general_topics:         \n",
    "        if t not in topics_dict:\n",
    "            topics_count = topics_count + 1\n",
    "            topic_id = 't' + str(topics_count)\n",
    "            topics_dict[t] = [topic_id, t, 'Topic']\n",
    "        topic_id = topics_dict[t][0]\n",
    "        edges_writer.writerow([podcastid, topic_id, True, \"IS_ABOUT\"])\n",
    "    \n",
    "    #topics\n",
    "    topics = data[key]['topics']\n",
    "    for t in topics.keys():         \n",
    "        if t not in topics_dict:\n",
    "            topics_count = topics_count + 1\n",
    "            topic_id = 't' + str(topics_count)\n",
    "            topics_dict[t] = [topic_id, t, 'Topic']\n",
    "        topic_id = topics_dict[t][0]\n",
    "        edges_writer.writerow([podcastid, topic_id, False, \"IS_ABOUT\"])  \n",
    "        \n",
    "        #keywords \n",
    "        keywords = topics[t]        \n",
    "        for k in keywords:\n",
    "            if k[0] not in keywords_dict:\n",
    "                keywords_count = keywords_count + 1\n",
    "                keywords_id = 'k' + str(keywords_count)\n",
    "                keywords_dict[k[0]] = [keywords_id, k[0], 'Keyword']                  \n",
    "            keywords_id = keywords_dict[k[0]][0]\n",
    "            edges_writer1.writerow([topic_id, keywords_id, k[1], podcastid, \"HAS\"])  \n",
    "\n",
    "podcastsfile = open(DIR_DATA + '/hora20_podcastsfile.csv', \"w\")\n",
    "podcasts_writer = csv.writer(podcastsfile, delimiter=',')\n",
    "\n",
    "topicsfile = open(DIR_DATA + '/hora20_topicsfile.csv', \"w\")\n",
    "topics_writer = csv.writer(topicsfile, delimiter=',')\n",
    "\n",
    "keywordsfile = open(DIR_DATA + '/hora20_keywordsfile.csv', \"w\")\n",
    "keywords_writer = csv.writer(keywordsfile, delimiter=',')\n",
    "\n",
    "\n",
    "podcasts_header = [\"pid:ID\", \"filename\", \"date\", \"program\", \":LABEL\"]\n",
    "podcasts_writer.writerow(podcasts_header) \n",
    "\n",
    "topics_header = [\"tid:ID\", \"topic\", \":LABEL\"]\n",
    "topics_writer.writerow(topics_header)\n",
    "\n",
    "keywords_header = [\"tid:ID\", \"keyword\", \":LABEL\"]\n",
    "keywords_writer.writerow(keywords_header)\n",
    "\n",
    "for v in topics_dict.values():\n",
    "    topics_writer.writerow(v)\n",
    "    \n",
    "for v in podcasts_dict.values():\n",
    "    podcasts_writer.writerow(v) \n",
    "\n",
    "for v in keywords_dict.values():\n",
    "    keywords_writer.writerow(v)\n",
    "\n",
    "podcastsfile.close()\n",
    "topicsfile.close()\n",
    "keywordsfile.close()\n",
    "edgesfile.close()  \n",
    "  "
   ]
  },
  {
   "cell_type": "code",
   "execution_count": 29,
   "metadata": {},
   "outputs": [
    {
     "name": "stdout",
     "output_type": "stream",
     "text": [
      "670 6583 1881\n"
     ]
    }
   ],
   "source": [
    "print( len(podcasts_dict),len(keywords_dict), len(topics_dict))"
   ]
  }
 ],
 "metadata": {
  "kernelspec": {
   "display_name": "Python 3",
   "language": "python",
   "name": "python3"
  },
  "language_info": {
   "codemirror_mode": {
    "name": "ipython",
    "version": 3
   },
   "file_extension": ".py",
   "mimetype": "text/x-python",
   "name": "python",
   "nbconvert_exporter": "python",
   "pygments_lexer": "ipython3",
   "version": "3.5.2"
  }
 },
 "nbformat": 4,
 "nbformat_minor": 2
}
