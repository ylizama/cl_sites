{
 "cells": [
  {
   "cell_type": "code",
   "execution_count": 9,
   "metadata": {
    "collapsed": true
   },
   "outputs": [],
   "source": [
    "import os\n",
    "import json\n",
    "from bs4 import BeautifulSoup\n",
    "import glob\n",
    "import re\n",
    "import csv"
   ]
  },
  {
   "cell_type": "code",
   "execution_count": 14,
   "metadata": {
    "collapsed": true
   },
   "outputs": [],
   "source": [
    "DIR_DATA = 'data/hora20'\n",
    "\n",
    "data = {}\n",
    "with open(DIR_DATA + '/hora20.json') as data_file:    \n",
    "    data = json.load(data_file)"
   ]
  },
  {
   "cell_type": "code",
   "execution_count": 16,
   "metadata": {},
   "outputs": [],
   "source": [
    "podcasts_dict, keywords_dict, topics_dict = {}, {}, {}\n",
    "podcast_count, keywords_count, topics_count = 0, 0, 0\n",
    "\n",
    "edgesfile = open(DIR_DATA + '/hora20_edgesfile.csv', \"w\")\n",
    "edges_writer = csv.writer(edgesfile, delimiter=',')\n",
    "\n",
    "edges_header = [\":START_ID\", \":END_ID\", \"frequency\", \"is_general\", \":TYPE\"]\n",
    "edges_writer.writerow(edges_header)\n",
    "\n",
    "for key in data.keys():\n",
    "    podcasts_dict[key] = [data[key]['date'],data[key]['program']]\n",
    "    topics = data[key]['general_topics']\n",
    "    for t in topics:         \n",
    "        if t not in topics_dict:\n",
    "            topics_count = topics_count + 1\n",
    "            topic_id = 't' + str(topics_count)\n",
    "            topics_dict[t] = [, t, 'Topic']\n",
    "        topic_id = topics_dict[t][0]\n",
    "        edges_writer.writerow([])\n",
    "            \n",
    "        \n",
    "        \n",
    "        \n",
    "podcastsfile = open(DIR_DATA + '/hora20_podcastsfile.csv', \"w\")\n",
    "podcasts_writer = csv.writer(podcastsfile, delimiter=',')\n",
    "\n",
    "topicsfile = open(DIR_DATA + '/hora20_topicsfile.csv', \"w\")\n",
    "topics_writer = csv.writer(topicsfile, delimiter=',')\n",
    "\n",
    "keywordsfile = open(DIR_DATA + '/hora20_keywordsfile.csv', \"w\")\n",
    "keywords_writer = csv.writer(keywordsfile, delimiter=',')\n",
    "\n",
    "\n",
    "podcasts_header = [\"pid:ID\", \"filename\", \"date\", \"program\", \":LABEL\"]\n",
    "podcasts_writer.writerow(podcasts_header) \n",
    "\n",
    "topics_header = [\"tid:ID\", \"topic\", \":LABEL\"]\n",
    "topics_writer.writerow(topics_header)\n",
    "\n",
    "keywords_header = [\"tid:ID\", \"keyword\", \":LABEL\"]\n",
    "keywords_writer.writerow(keywords_header)\n",
    "\n",
    "\n",
    "\n",
    "podcastsfile.close()\n",
    "topicsfile.close()\n",
    "keywordsfile.close()\n",
    "edgesfile.close()  \n",
    "  "
   ]
  },
  {
   "cell_type": "code",
   "execution_count": null,
   "metadata": {
    "collapsed": true
   },
   "outputs": [],
   "source": [
    "\n",
    "    "
   ]
  },
  {
   "cell_type": "code",
   "execution_count": null,
   "metadata": {
    "collapsed": true
   },
   "outputs": [],
   "source": [
    "import datetime\n",
    "for filename in glob.glob(os.path.join(DIR_DATA, '*.rtf')):\n",
    "    with open(filename) as f:\n",
    "        key = filename[:-4].replace(DIR_DATA, '')        \n",
    "        if key in data.keys():            \n",
    "            text = f.read()\n",
    "            dates = extract_dates(text.lower())\n",
    "            if('hoy' in text and data[key]['date'] is not None):                \n",
    "                dates.append('hoy')\n",
    "            if('ayer' in text and data[key]['date'] is not None):\n",
    "                dates.append('ayer')\n",
    "            if('mañana' in text and data[key]['date'] is not None):\n",
    "                dates.append('mañana')\n",
    "            if len(dates) > 0:\n",
    "                print (dates)\n",
    "            data[key]['dates'] = dates"
   ]
  },
  {
   "cell_type": "code",
   "execution_count": null,
   "metadata": {
    "collapsed": true
   },
   "outputs": [],
   "source": []
  },
  {
   "cell_type": "code",
   "execution_count": null,
   "metadata": {
    "collapsed": true
   },
   "outputs": [],
   "source": []
  }
 ],
 "metadata": {
  "kernelspec": {
   "display_name": "Python 3",
   "language": "python",
   "name": "python3"
  },
  "language_info": {
   "codemirror_mode": {
    "name": "ipython",
    "version": 3
   },
   "file_extension": ".py",
   "mimetype": "text/x-python",
   "name": "python",
   "nbconvert_exporter": "python",
   "pygments_lexer": "ipython3",
   "version": "3.5.2"
  }
 },
 "nbformat": 4,
 "nbformat_minor": 2
}
